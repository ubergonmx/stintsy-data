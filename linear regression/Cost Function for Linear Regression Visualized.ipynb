{
 "cells": [
  {
   "cell_type": "code",
   "execution_count": 2,
   "id": "3b8b855e",
   "metadata": {},
   "outputs": [],
   "source": [
    "import pandas as pd\n",
    "import numpy as np\n",
    "import matplotlib.pyplot as plt\n",
    "import seaborn as sns\n",
    "import ipywidgets as widgets"
   ]
  },
  {
   "cell_type": "markdown",
   "id": "901fc11c",
   "metadata": {},
   "source": [
    "## Load the Dataset"
   ]
  },
  {
   "cell_type": "code",
   "execution_count": 3,
   "id": "08d65f35",
   "metadata": {},
   "outputs": [
    {
     "data": {
      "text/html": [
       "<div>\n",
       "<style scoped>\n",
       "    .dataframe tbody tr th:only-of-type {\n",
       "        vertical-align: middle;\n",
       "    }\n",
       "\n",
       "    .dataframe tbody tr th {\n",
       "        vertical-align: top;\n",
       "    }\n",
       "\n",
       "    .dataframe thead th {\n",
       "        text-align: right;\n",
       "    }\n",
       "</style>\n",
       "<table border=\"1\" class=\"dataframe\">\n",
       "  <thead>\n",
       "    <tr style=\"text-align: right;\">\n",
       "      <th></th>\n",
       "      <th>TV</th>\n",
       "      <th>Sales</th>\n",
       "    </tr>\n",
       "  </thead>\n",
       "  <tbody>\n",
       "    <tr>\n",
       "      <th>0</th>\n",
       "      <td>265.6</td>\n",
       "      <td>17.4</td>\n",
       "    </tr>\n",
       "    <tr>\n",
       "      <th>1</th>\n",
       "      <td>175.1</td>\n",
       "      <td>14.9</td>\n",
       "    </tr>\n",
       "    <tr>\n",
       "      <th>2</th>\n",
       "      <td>163.5</td>\n",
       "      <td>18.0</td>\n",
       "    </tr>\n",
       "    <tr>\n",
       "      <th>3</th>\n",
       "      <td>31.5</td>\n",
       "      <td>9.5</td>\n",
       "    </tr>\n",
       "    <tr>\n",
       "      <th>4</th>\n",
       "      <td>253.8</td>\n",
       "      <td>17.6</td>\n",
       "    </tr>\n",
       "    <tr>\n",
       "      <th>5</th>\n",
       "      <td>135.2</td>\n",
       "      <td>17.2</td>\n",
       "    </tr>\n",
       "    <tr>\n",
       "      <th>6</th>\n",
       "      <td>66.1</td>\n",
       "      <td>8.6</td>\n",
       "    </tr>\n",
       "    <tr>\n",
       "      <th>7</th>\n",
       "      <td>225.8</td>\n",
       "      <td>13.4</td>\n",
       "    </tr>\n",
       "    <tr>\n",
       "      <th>8</th>\n",
       "      <td>214.7</td>\n",
       "      <td>17.4</td>\n",
       "    </tr>\n",
       "    <tr>\n",
       "      <th>9</th>\n",
       "      <td>25.6</td>\n",
       "      <td>9.5</td>\n",
       "    </tr>\n",
       "    <tr>\n",
       "      <th>10</th>\n",
       "      <td>112.9</td>\n",
       "      <td>11.9</td>\n",
       "    </tr>\n",
       "    <tr>\n",
       "      <th>11</th>\n",
       "      <td>13.2</td>\n",
       "      <td>5.6</td>\n",
       "    </tr>\n",
       "    <tr>\n",
       "      <th>12</th>\n",
       "      <td>8.6</td>\n",
       "      <td>4.8</td>\n",
       "    </tr>\n",
       "    <tr>\n",
       "      <th>13</th>\n",
       "      <td>74.7</td>\n",
       "      <td>14.7</td>\n",
       "    </tr>\n",
       "    <tr>\n",
       "      <th>14</th>\n",
       "      <td>222.4</td>\n",
       "      <td>11.7</td>\n",
       "    </tr>\n",
       "    <tr>\n",
       "      <th>15</th>\n",
       "      <td>280.2</td>\n",
       "      <td>14.8</td>\n",
       "    </tr>\n",
       "    <tr>\n",
       "      <th>16</th>\n",
       "      <td>80.2</td>\n",
       "      <td>8.8</td>\n",
       "    </tr>\n",
       "    <tr>\n",
       "      <th>17</th>\n",
       "      <td>220.3</td>\n",
       "      <td>24.7</td>\n",
       "    </tr>\n",
       "    <tr>\n",
       "      <th>18</th>\n",
       "      <td>238.2</td>\n",
       "      <td>20.7</td>\n",
       "    </tr>\n",
       "    <tr>\n",
       "      <th>19</th>\n",
       "      <td>87.2</td>\n",
       "      <td>10.6</td>\n",
       "    </tr>\n",
       "    <tr>\n",
       "      <th>20</th>\n",
       "      <td>17.2</td>\n",
       "      <td>9.3</td>\n",
       "    </tr>\n",
       "    <tr>\n",
       "      <th>21</th>\n",
       "      <td>38.2</td>\n",
       "      <td>7.6</td>\n",
       "    </tr>\n",
       "    <tr>\n",
       "      <th>22</th>\n",
       "      <td>44.5</td>\n",
       "      <td>10.4</td>\n",
       "    </tr>\n",
       "    <tr>\n",
       "      <th>23</th>\n",
       "      <td>209.6</td>\n",
       "      <td>15.9</td>\n",
       "    </tr>\n",
       "    <tr>\n",
       "      <th>24</th>\n",
       "      <td>164.5</td>\n",
       "      <td>14.5</td>\n",
       "    </tr>\n",
       "    <tr>\n",
       "      <th>25</th>\n",
       "      <td>50.0</td>\n",
       "      <td>8.4</td>\n",
       "    </tr>\n",
       "    <tr>\n",
       "      <th>26</th>\n",
       "      <td>198.9</td>\n",
       "      <td>23.7</td>\n",
       "    </tr>\n",
       "    <tr>\n",
       "      <th>27</th>\n",
       "      <td>237.4</td>\n",
       "      <td>18.9</td>\n",
       "    </tr>\n",
       "    <tr>\n",
       "      <th>28</th>\n",
       "      <td>7.3</td>\n",
       "      <td>5.5</td>\n",
       "    </tr>\n",
       "    <tr>\n",
       "      <th>29</th>\n",
       "      <td>43.0</td>\n",
       "      <td>9.6</td>\n",
       "    </tr>\n",
       "    <tr>\n",
       "      <th>30</th>\n",
       "      <td>215.4</td>\n",
       "      <td>17.1</td>\n",
       "    </tr>\n",
       "    <tr>\n",
       "      <th>31</th>\n",
       "      <td>283.6</td>\n",
       "      <td>25.5</td>\n",
       "    </tr>\n",
       "    <tr>\n",
       "      <th>32</th>\n",
       "      <td>149.8</td>\n",
       "      <td>10.1</td>\n",
       "    </tr>\n",
       "    <tr>\n",
       "      <th>33</th>\n",
       "      <td>290.7</td>\n",
       "      <td>12.8</td>\n",
       "    </tr>\n",
       "    <tr>\n",
       "      <th>34</th>\n",
       "      <td>27.5</td>\n",
       "      <td>6.9</td>\n",
       "    </tr>\n",
       "    <tr>\n",
       "      <th>35</th>\n",
       "      <td>131.7</td>\n",
       "      <td>12.9</td>\n",
       "    </tr>\n",
       "    <tr>\n",
       "      <th>36</th>\n",
       "      <td>116.0</td>\n",
       "      <td>11.0</td>\n",
       "    </tr>\n",
       "    <tr>\n",
       "      <th>37</th>\n",
       "      <td>75.1</td>\n",
       "      <td>12.6</td>\n",
       "    </tr>\n",
       "    <tr>\n",
       "      <th>38</th>\n",
       "      <td>11.7</td>\n",
       "      <td>7.3</td>\n",
       "    </tr>\n",
       "    <tr>\n",
       "      <th>39</th>\n",
       "      <td>38.0</td>\n",
       "      <td>10.9</td>\n",
       "    </tr>\n",
       "  </tbody>\n",
       "</table>\n",
       "</div>"
      ],
      "text/plain": [
       "       TV  Sales\n",
       "0   265.6   17.4\n",
       "1   175.1   14.9\n",
       "2   163.5   18.0\n",
       "3    31.5    9.5\n",
       "4   253.8   17.6\n",
       "5   135.2   17.2\n",
       "6    66.1    8.6\n",
       "7   225.8   13.4\n",
       "8   214.7   17.4\n",
       "9    25.6    9.5\n",
       "10  112.9   11.9\n",
       "11   13.2    5.6\n",
       "12    8.6    4.8\n",
       "13   74.7   14.7\n",
       "14  222.4   11.7\n",
       "15  280.2   14.8\n",
       "16   80.2    8.8\n",
       "17  220.3   24.7\n",
       "18  238.2   20.7\n",
       "19   87.2   10.6\n",
       "20   17.2    9.3\n",
       "21   38.2    7.6\n",
       "22   44.5   10.4\n",
       "23  209.6   15.9\n",
       "24  164.5   14.5\n",
       "25   50.0    8.4\n",
       "26  198.9   23.7\n",
       "27  237.4   18.9\n",
       "28    7.3    5.5\n",
       "29   43.0    9.6\n",
       "30  215.4   17.1\n",
       "31  283.6   25.5\n",
       "32  149.8   10.1\n",
       "33  290.7   12.8\n",
       "34   27.5    6.9\n",
       "35  131.7   12.9\n",
       "36  116.0   11.0\n",
       "37   75.1   12.6\n",
       "38   11.7    7.3\n",
       "39   38.0   10.9"
      ]
     },
     "execution_count": 3,
     "metadata": {},
     "output_type": "execute_result"
    }
   ],
   "source": [
    "df = pd.read_csv('tvmarketing.csv')\n",
    "df"
   ]
  },
  {
   "cell_type": "markdown",
   "id": "9066b5d4",
   "metadata": {},
   "source": [
    "## Plotting the Data"
   ]
  },
  {
   "cell_type": "code",
   "execution_count": 18,
   "id": "c3cfc7a4",
   "metadata": {},
   "outputs": [],
   "source": [
    "sns.set_theme(style=\"white\", palette=sns.color_palette(\"hls\", 8))"
   ]
  },
  {
   "cell_type": "code",
   "execution_count": 19,
   "id": "9fc75ede",
   "metadata": {},
   "outputs": [
    {
     "data": {
      "image/png": "[encoded data removed]",
      "text/plain": [
       "<Figure size 600x400 with 1 Axes>"
      ]
     },
     "metadata": {},
     "output_type": "display_data"
    }
   ],
   "source": [
    "fig, ax = plt.subplots(1,1, figsize=(6, 4));\n",
    "sns.scatterplot(data=df, x='TV', y='Sales', ax=ax);"
   ]
  },
  {
   "cell_type": "markdown",
   "id": "75686a3e",
   "metadata": {},
   "source": [
    "## Linear Regression Model"
   ]
  },
  {
   "cell_type": "markdown",
   "id": "3382b901",
   "metadata": {},
   "source": [
    "$h(x) = \\theta_1 x_1 + \\theta_0$"
   ]
  },
  {
   "cell_type": "code",
   "execution_count": 5,
   "id": "fc5a19b2",
   "metadata": {},
   "outputs": [],
   "source": [
    "theta_1 = 0.045"
   ]
  },
  {
   "cell_type": "code",
   "execution_count": 6,
   "id": "2f7140c1",
   "metadata": {},
   "outputs": [],
   "source": [
    "theta_0 = 5"
   ]
  },
  {
   "cell_type": "code",
   "execution_count": 7,
   "id": "75472af0",
   "metadata": {},
   "outputs": [
    {
     "data": {
      "image/png": "[encoded data removed]",
      "text/plain": [
       "<Figure size 600x400 with 1 Axes>"
      ]
     },
     "metadata": {},
     "output_type": "display_data"
    }
   ],
   "source": [
    "fig, ax = plt.subplots(1,1, figsize=(6, 4));\n",
    "sns.scatterplot(data=df, x='TV', y='Sales', ax=ax);\n",
    "ax.set_ylim(0, 30);\n",
    "ax.set_xlim(0, 300);\n",
    "\n",
    "# Plot the linear regression model\n",
    "x = np.linspace(0,300)\n",
    "y = x * theta_1 + theta_0\n",
    "sns.lineplot(x=x, y=y, ax=ax, color='green');"
   ]
  },
  {
   "cell_type": "markdown",
   "id": "8692e64f",
   "metadata": {},
   "source": [
    "Interactive version:"
   ]
  },
  {
   "cell_type": "code",
   "execution_count": 8,
   "id": "1ddbfa01",
   "metadata": {},
   "outputs": [],
   "source": [
    "def plot(theta_1, theta_0, df):\n",
    "    fig, ax = plt.subplots(1,1, figsize=(6, 4));\n",
    "    sns.scatterplot(data=df, x='TV', y='Sales', ax=ax);\n",
    "    ax.set_ylim(0, 30);\n",
    "    ax.set_xlim(0, 300);\n",
    "\n",
    "    # Plot the linear regression model\n",
    "    x = np.linspace(0,300)\n",
    "    y = x * theta_1 + theta_0\n",
    "    sns.lineplot(x=x, y=y, ax=ax, color='green');\n",
    "    "
   ]
  },
  {
   "cell_type": "code",
   "execution_count": 9,
   "id": "128b44aa",
   "metadata": {},
   "outputs": [
    {
     "data": {
      "application/vnd.jupyter.widget-view+json": {
       "model_id": "808e3a9ed8dc4766926046f24bf2136f",
       "version_major": 2,
       "version_minor": 0
      },
      "text/plain": [
       "interactive(children=(FloatSlider(value=0.0, description='theta_1', max=0.5, min=-0.5, step=0.001), FloatSlide…"
      ]
     },
     "metadata": {},
     "output_type": "display_data"
    }
   ],
   "source": [
    "widgets.interact(plot, theta_1 = widgets.FloatSlider(min=-0.5, max=0.5, step=0.001),\n",
    "                       theta_0 = widgets.FloatSlider(min=0, max=50, step=0.25),\n",
    "                       df=widgets.fixed(df));"
   ]
  },
  {
   "cell_type": "markdown",
   "id": "fbb772d8",
   "metadata": {},
   "source": [
    "## Cost Function"
   ]
  },
  {
   "cell_type": "markdown",
   "id": "6ac5826e",
   "metadata": {},
   "source": [
    "$\\frac{1}{2n} \\sum{(h(x;\\theta)-y)^2}$"
   ]
  },
  {
   "cell_type": "code",
   "execution_count": 43,
   "id": "d1c598f1",
   "metadata": {},
   "outputs": [],
   "source": [
    "theta_1 = 0.07"
   ]
  },
  {
   "cell_type": "code",
   "execution_count": 44,
   "id": "b878841e",
   "metadata": {},
   "outputs": [],
   "source": [
    "theta_0 = 15"
   ]
  },
  {
   "cell_type": "code",
   "execution_count": 45,
   "id": "97d91f33",
   "metadata": {},
   "outputs": [],
   "source": [
    "pred = df['TV'] * theta_1 + theta_0"
   ]
  },
  {
   "cell_type": "code",
   "execution_count": 46,
   "id": "aa370724",
   "metadata": {},
   "outputs": [
    {
     "data": {
      "text/plain": [
       "69.37877556250001"
      ]
     },
     "execution_count": 46,
     "metadata": {},
     "output_type": "execute_result"
    }
   ],
   "source": [
    "cost = np.power(pred - df['Sales'], 2).sum() * 1 / (2 * len(df))\n",
    "cost"
   ]
  },
  {
   "cell_type": "markdown",
   "id": "7bcb0487",
   "metadata": {},
   "source": [
    "Interactive version:"
   ]
  },
  {
   "cell_type": "markdown",
   "id": "b934a263",
   "metadata": {},
   "source": [
    "For this version, we restrict our `theta_0` to be 5 (i.e., line will always pass through the origin) for easier visualization."
   ]
  },
  {
   "cell_type": "code",
   "execution_count": 14,
   "id": "67a07fbf",
   "metadata": {},
   "outputs": [],
   "source": [
    "def compute_error(theta_1):\n",
    "    pred = df['TV'] * theta_1 + 5\n",
    "    return np.power(pred - df['Sales'], 2).sum() * 1 / (2 * len(df))"
   ]
  },
  {
   "cell_type": "code",
   "execution_count": 15,
   "id": "f744ce65",
   "metadata": {},
   "outputs": [],
   "source": [
    "x_cost = np.linspace(0,0.1,100)\n",
    "y_cost = [compute_error(i) for i in x_cost]"
   ]
  },
  {
   "cell_type": "code",
   "execution_count": 16,
   "id": "fcfe634d",
   "metadata": {},
   "outputs": [
    {
     "data": {
      "application/vnd.jupyter.widget-view+json": {
       "model_id": "1a21527af4d0433bb169233c129b03ad",
       "version_major": 2,
       "version_minor": 0
      },
      "text/plain": [
       "interactive(children=(FloatSlider(value=0.0, description='theta_1', max=0.1, step=0.001), Output()), _dom_clas…"
      ]
     },
     "metadata": {},
     "output_type": "display_data"
    }
   ],
   "source": [
    "def plot_with_cost(theta_1, df):\n",
    "    fig, ax = plt.subplots(1,2, figsize=(10, 4));\n",
    "    sns.scatterplot(data=df, x='TV', y='Sales', ax=ax[0]);\n",
    "    ax[0].set_ylim(0, 30);\n",
    "    ax[0].set_xlim(0, 300);\n",
    "\n",
    "    # Plot the linear regression model\n",
    "    x = np.linspace(0,300)\n",
    "    y = x * theta_1 + 5\n",
    "    sns.lineplot(x=x, y=y, ax=ax[0], color='green');\n",
    "\n",
    "    # Plot the cost function with respect to theta_1\n",
    "    sns.lineplot(x=x_cost, y=y_cost, color='purple', ax=ax[1]);\n",
    "    ax[1].set_ylabel('Cost');\n",
    "    ax[1].set_xlabel('Theta_1');\n",
    "    point = compute_error(theta_1)\n",
    "    ax[1].plot(theta_1, point, marker='x', color='green');\n",
    "    ax[1].set_xlim(0,0.1);\n",
    "    \n",
    "widgets.interact(plot_with_cost, theta_1 = widgets.FloatSlider(min=0, max=0.1, step=0.001),\n",
    "                       df=widgets.fixed(df));"
   ]
  }
 ],
 "metadata": {
  "kernelspec": {
   "display_name": "Python 3 (ipykernel)",
   "language": "python",
   "name": "python3"
  },
  "language_info": {
   "codemirror_mode": {
    "name": "ipython",
    "version": 3
   },
   "file_extension": ".py",
   "mimetype": "text/x-python",
   "name": "python",
   "nbconvert_exporter": "python",
   "pygments_lexer": "ipython3",
   "version": "3.10.8"
  }
 },
 "nbformat": 4,
 "nbformat_minor": 5
}
