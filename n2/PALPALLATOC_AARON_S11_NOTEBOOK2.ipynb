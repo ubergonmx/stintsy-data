{
 "cells": [
  {
   "cell_type": "markdown",
   "metadata": {},
   "source": [
    "__Name/Section:__"
   ]
  },
  {
   "cell_type": "markdown",
   "metadata": {},
   "source": [
    "A: Aaron Palpallatoc/S11"
   ]
  },
  {
   "cell_type": "markdown",
   "metadata": {},
   "source": [
    "# Linear Regression Exercise\n",
    "\n",
    "This exercise will guide you in implementing the Linear Regression Model to gain intuitions and develop a deeper understanding of the model. These concepts will form as the foundation for more complex models later on.\n",
    "\n",
    "**You will learn to:**\n",
    "- Build the general architecture of a Linear Regression Model.\n",
    "    - Implement the analytical solution for the parameters that minimizes the loss function\n",
    "    - Implement the approximate/iterative solution for finding the parameters that minimizes the loss function \n",
    "        - Initializing parameters\n",
    "        - Calculating the cost/loss/objective Function\n",
    "        - Computing for the gradients of the loss function with respect to the parameters\n",
    "        - Implement gradient descent to update the paramters\n",
    "    - Implement linear regression using sci-kit learn"
   ]
  },
  {
   "cell_type": "markdown",
   "metadata": {},
   "source": [
    "## Instructions\n",
    "* Read each cell and implement the TODOs sequentially. The markdown/text cells also contain instructions which you need to follow to get the whole notebook working.\n",
    "* Do not change the variable names unless the instructor allows you to.\n",
    "* Answer all the markdown/text cells with 'A: ' on them. The answer must strictly consume one line only.\n",
    "* You are expected to search how to some functions work on the Internet or via the docs. \n",
    "* There are commented markdown cells that have crumbs. Do not delete them or separate them from the cell originally directly below it. \n",
    "* You may add new cells for \"scrap work\" as long as the crumbs are not separated from the cell below it.\n",
    "* The notebooks will undergo a 'Restart and Run All' command, so make sure that your code is working properly.\n",
    "* You are expected to understand the data set loading and processing separately from this class.\n",
    "* You may not reproduce this notebook or share them to anyone."
   ]
  },
  {
   "cell_type": "markdown",
   "metadata": {},
   "source": [
    "## Import\n",
    "Import **matplotlib**, **numpy**, **csv**, and **math**."
   ]
  },
  {
   "cell_type": "code",
   "execution_count": null,
   "metadata": {},
   "outputs": [],
   "source": [
    "import matplotlib.pyplot as plt\n",
    "%matplotlib inline\n",
    "import numpy as np\n",
    "import csv\n",
    "import math\n",
    "\n",
    "# set default size of plots\n",
    "plt.rcParams['figure.figsize'] = (6.0, 6.0)\n",
    "plt.rcParams['image.interpolation'] = 'nearest'\n",
    "\n",
    "%load_ext autoreload\n",
    "%autoreload 2"
   ]
  },
  {
   "cell_type": "markdown",
   "metadata": {},
   "source": [
    "## Synthetic Datasets\n",
    "Before we use a more complicated dataset, we will first demonstrate linear regression using a synthetic (artificial) data drawn from a normal distribution. The synthetic dataset is composed of an input feature `X` and a target variable `y` for easy visualization in a plot. The dataset contains 20 data points."
   ]
  },
  {
   "cell_type": "code",
   "execution_count": null,
   "metadata": {},
   "outputs": [],
   "source": [
    "np.random.seed(1)\n",
    "\n",
    "X = np.arange(start=0, stop=20, step=1)\n",
    "delta = np.random.normal(loc=100, scale=0, size=20)\n",
    "y = X + delta\n",
    "\n",
    "data = np.column_stack([X, y])\n",
    "data"
   ]
  },
  {
   "cell_type": "markdown",
   "metadata": {},
   "source": [
    "Let's visualize the synthetic dataset in a 2D graph."
   ]
  },
  {
   "cell_type": "code",
   "execution_count": null,
   "metadata": {},
   "outputs": [],
   "source": [
    "fig, ax = plt.subplots()\n",
    "ax.plot(X, y, 'ro', label='Original data')\n",
    "ax.legend()\n",
    "plt.grid()\n",
    "plt.show()"
   ]
  },
  {
   "cell_type": "markdown",
   "metadata": {},
   "source": [
    "**Question #1:** Describe the plot of the generated data. How is `X` related to `y`?"
   ]
  },
  {
   "cell_type": "markdown",
   "metadata": {},
   "source": [
    "A: "
   ]
  },
  {
   "cell_type": "markdown",
   "metadata": {},
   "source": [
    "## Linear Regression on Synthetic Dataset 1 using Analytical Solution\n",
    "Open `linear_regression.py` file. Some of the functions in the `AnalyticalMethod` class are not yet implemented. We will implement the missing parts of this class."
   ]
  },
  {
   "cell_type": "markdown",
   "metadata": {},
   "source": [
    "Import the `AnalyticalMethod` class and the `compute_RMSE()` function."
   ]
  },
  {
   "cell_type": "code",
   "execution_count": null,
   "metadata": {},
   "outputs": [],
   "source": [
    "from linear_regression import AnalyticalMethod, compute_RMSE"
   ]
  },
  {
   "cell_type": "markdown",
   "metadata": {},
   "source": [
    "Instantiate an `AnalyticalMethod` object. Assign the object to variable `analytical_method`."
   ]
  },
  {
   "cell_type": "code",
   "execution_count": null,
   "metadata": {},
   "outputs": [],
   "source": [
    "# Write your code here\n"
   ]
  },
  {
   "cell_type": "markdown",
   "metadata": {},
   "source": [
    "### Analytical Solution / Closed Form / Normal Equation\n",
    "\n",
    "We can quickly compute for the weights by getting the derivative of our objective function and equating it to 0. However, there are some drawbacks to this method, as you would see in the following cells.\n",
    "\n",
    "The next cells show the step-by-step process of implementing the closed form solution of linear regression:\n",
    "1. Adding the bias in the weight vector `W`.\n",
    "1. Finding for the optimal values of weight vector `W` by using the closed form solution.\n",
    "3. Do some predictions! Now that we have the weights, the label can be solved by plugging in the features `X` into the linear model. "
   ]
  },
  {
   "cell_type": "markdown",
   "metadata": {},
   "source": [
    "### Step 1. Pre-processing.  Add in a vector of one to X to account for the bias.\n",
    "\n",
    "Open `linear_regression.py` file and complete the `feature_transform()` function in the `AnalyticalMethod` class. This function appends a vector of ones to `X` to account for the bias term."
   ]
  },
  {
   "cell_type": "markdown",
   "metadata": {},
   "source": [
    "Implement the `feature_transform()` function  in the `AnalyticalMethod` class. Inline comments should help you in completing the contents of the function."
   ]
  },
  {
   "cell_type": "markdown",
   "metadata": {},
   "source": [
    "Transform `X` by calling the function `feature_transform()` and assign the return value to variable `transformed_X`. "
   ]
  },
  {
   "cell_type": "code",
   "execution_count": null,
   "metadata": {},
   "outputs": [],
   "source": [
    "# Write your code here\n"
   ]
  },
  {
   "cell_type": "code",
   "execution_count": null,
   "metadata": {},
   "outputs": [],
   "source": [
    "print(transformed_X.shape)"
   ]
  },
  {
   "cell_type": "markdown",
   "metadata": {},
   "source": [
    "__Sanity check:__\n",
    "\n",
    "Your result should have a shape of (20, 2)"
   ]
  },
  {
   "cell_type": "markdown",
   "metadata": {},
   "source": [
    "### Step 2. Train. Compute for the weights via the analytical solution.\n",
    "\n",
    "Open `linear_regression.py` file and complete the `compute_weights()` function in the `AnalyticalMethod` class. This function computes the weights based on the analytical solution without regularization.\n",
    "\n",
    "$$W=(X^TX)^{-1}X^Ty$$\n",
    "\n",
    "This function has 2 parameters - `X` and `y`, where `X` is an `np.ndarray` of shape (N, D) containing the training data and `y` is an `np.ndarray` of shape (N, 1) containing the ground truth values."
   ]
  },
  {
   "cell_type": "markdown",
   "metadata": {},
   "source": [
    "Implement the `compute_weights()` function in the `AnalyticalMethod` class. Inline comments should help you in completing the contents of the function."
   ]
  },
  {
   "cell_type": "markdown",
   "metadata": {},
   "source": [
    "Compute the weights by calling the function `compute_weights()` and assign the return value to variable `W`. "
   ]
  },
  {
   "cell_type": "code",
   "execution_count": null,
   "metadata": {},
   "outputs": [],
   "source": [
    "# Write your code here\n"
   ]
  },
  {
   "cell_type": "code",
   "execution_count": null,
   "metadata": {},
   "outputs": [],
   "source": [
    "print(W)"
   ]
  },
  {
   "cell_type": "markdown",
   "metadata": {},
   "source": [
    "### Step 3: Test. Predict test data with the computed weights\n",
    "\n",
    "Open `linear_regression.py` file and complete the `predict()` function in the `AnalyticalMethod` class. This function predicts values for the test data."
   ]
  },
  {
   "cell_type": "markdown",
   "metadata": {},
   "source": [
    "Implement the `predict()` function in the `AnalyticalMethod` class. Inline comments should help you in completing the contents of the function."
   ]
  },
  {
   "cell_type": "markdown",
   "metadata": {},
   "source": [
    "Get the predicted `y` values given the synthetic data and assign the return value to variable `y_predicted`."
   ]
  },
  {
   "cell_type": "code",
   "execution_count": null,
   "metadata": {},
   "outputs": [],
   "source": [
    "# Write your code here\n"
   ]
  },
  {
   "cell_type": "markdown",
   "metadata": {},
   "source": [
    "Let's plot synthetic dataset 1 and the regression line."
   ]
  },
  {
   "cell_type": "code",
   "execution_count": null,
   "metadata": {},
   "outputs": [],
   "source": [
    "fig, ax = plt.subplots()\n",
    "ax.plot(X, y, 'ro', label='Original data')\n",
    "\n",
    "ax.plot(X, y_predicted, label='Regression line')\n",
    "\n",
    "ax.legend()\n",
    "plt.grid()\n",
    "plt.show()"
   ]
  },
  {
   "cell_type": "markdown",
   "metadata": {},
   "source": [
    "**Question #2:** Describe the regression line with respect to the original data."
   ]
  },
  {
   "cell_type": "markdown",
   "metadata": {},
   "source": [
    "A: "
   ]
  },
  {
   "cell_type": "markdown",
   "metadata": {},
   "source": [
    "Compute the predicted `y` value when X is 25 by calling the function `predict()` and assign the return value to variable `y_pred_analytical`. "
   ]
  },
  {
   "cell_type": "code",
   "execution_count": null,
   "metadata": {},
   "outputs": [],
   "source": [
    "# Write your code here\n"
   ]
  },
  {
   "cell_type": "code",
   "execution_count": null,
   "metadata": {},
   "outputs": [],
   "source": [
    "print(np.around(y_pred_analytical.flatten(), 2))"
   ]
  },
  {
   "cell_type": "markdown",
   "metadata": {},
   "source": [
    "**Question #3:** What is the predicted `y` value when `X` is 25? Limit to 2 decimal places."
   ]
  },
  {
   "cell_type": "markdown",
   "metadata": {},
   "source": [
    "A: "
   ]
  },
  {
   "cell_type": "markdown",
   "metadata": {},
   "source": [
    "Let's compare the ground truth `y` values with the predicted `y` values."
   ]
  },
  {
   "cell_type": "code",
   "execution_count": null,
   "metadata": {},
   "outputs": [],
   "source": [
    "print('\\nGround truth y values\\n', y)\n",
    "print('Predicted y values\\n', y_predicted)"
   ]
  },
  {
   "cell_type": "markdown",
   "metadata": {},
   "source": [
    "**Question #4:** Describe the ground truth `y` values and the predicted `y` values. What can you say about the difference in their values?"
   ]
  },
  {
   "cell_type": "markdown",
   "metadata": {},
   "source": [
    "A: "
   ]
  },
  {
   "cell_type": "markdown",
   "metadata": {},
   "source": [
    "### Evaluate using Root Mean Squared Error (RMSE)\n",
    "\n",
    "Is there a objective way of saying if the model is doing well or not?\n",
    "\n",
    "This is called regression metrics, and we're going to try out one now called **root mean squared error** or **RMSE**. \n",
    "\n",
    "$$\n",
    "\\operatorname{RMSE}(\\hat{y}) = \\sqrt{\\operatorname{MSE}(\\hat{y})} = \\sqrt{\\operatorname{M}((\\hat{y}-y)^2)}\n",
    "$$\n",
    "\n",
    "$\\hat{y}$ stands for predicted labels, while $y$ stands for the ground truth label\n",
    "\n",
    "Computing it can be summarized in 4 simple steps:\n",
    "1. Have a test data ready with known labels. Ideally, these data have never been used in training, but we're going to suspend that rule first and try it with our dataset.\n",
    "2. Get the prediction for every test data, and **subtract** this estimate with the ground truth, and **square** the difference.\n",
    "3. Get the **average** of all the squared differences (#2) of every test data. \n",
    "4. Get the **square root** of the value from #3.\n",
    "\n",
    "Open `linear_regression.py` file and complete the `compute_RMSE()` function. This function computes the Root Mean Squared Error (RMSE) given the ground truth values and the predicted values."
   ]
  },
  {
   "cell_type": "markdown",
   "metadata": {},
   "source": [
    "Implement the `compute_RMSE()` function. Inline comments should help you in completing the contents of the function."
   ]
  },
  {
   "cell_type": "markdown",
   "metadata": {},
   "source": [
    "To check our implementation, let's compute the RMSE of the two `np.ndarray` with the same values. This should yield an RMSE of 0.0."
   ]
  },
  {
   "cell_type": "code",
   "execution_count": null,
   "metadata": {},
   "outputs": [],
   "source": [
    "y_sample_true = np.arange(start=0, stop=20, step=1)\n",
    "y_sample_pred = np.arange(start=0, stop=20, step=1)\n",
    "\n",
    "rmse = compute_RMSE(y_sample_true, y_sample_pred)\n",
    "print('{:.2f}'.format(rmse))"
   ]
  },
  {
   "cell_type": "markdown",
   "metadata": {},
   "source": [
    "Compute the RMSE of our model by calling the function `compute_RMSE()` and assign the return value to variable `rmse`. "
   ]
  },
  {
   "cell_type": "code",
   "execution_count": null,
   "metadata": {},
   "outputs": [],
   "source": [
    "# Write your code here\n"
   ]
  },
  {
   "cell_type": "code",
   "execution_count": null,
   "metadata": {},
   "outputs": [],
   "source": [
    "print('{:.2f}'.format(rmse))"
   ]
  },
  {
   "cell_type": "markdown",
   "metadata": {},
   "source": [
    "**Question #5:** Can we say that our model fits the input data very well? Why or why not?"
   ]
  },
  {
   "cell_type": "markdown",
   "metadata": {},
   "source": [
    "A: "
   ]
  },
  {
   "cell_type": "markdown",
   "metadata": {},
   "source": [
    "## Linear Regression on Synthetic Dataset 2 using Analytical Solution\n",
    "\n",
    "Let's create another synthetic dataset drawn from a normal distribution. The synthetic dataset is still composed of an input feature `x` and a target variable `y` for easy visualization in a plot. The dataset contains 40 data points."
   ]
  },
  {
   "cell_type": "code",
   "execution_count": null,
   "metadata": {},
   "outputs": [],
   "source": [
    "np.random.seed(2)\n",
    "\n",
    "X2 = np.arange(start=0, stop=20, step=0.5)\n",
    "delta = np.random.normal(loc=100, scale=3, size=40)\n",
    "y2 = X2 + delta\n",
    "\n",
    "data = np.column_stack([X2, y2])\n",
    "data"
   ]
  },
  {
   "cell_type": "markdown",
   "metadata": {},
   "source": [
    "Let's visualize the synthetic dataset in a 2D graph."
   ]
  },
  {
   "cell_type": "code",
   "execution_count": null,
   "metadata": {},
   "outputs": [],
   "source": [
    "fig, ax = plt.subplots()\n",
    "ax.plot(X2, y2, 'ro', label='Original data')\n",
    "ax.legend()\n",
    "plt.grid()\n",
    "plt.show()"
   ]
  },
  {
   "cell_type": "markdown",
   "metadata": {},
   "source": [
    "### Train and Test\n",
    "\n",
    "Get the predicted `y` values given the new synthetic data and assign the return value to variable `y_predicted`."
   ]
  },
  {
   "cell_type": "code",
   "execution_count": null,
   "metadata": {},
   "outputs": [],
   "source": [
    "# Write your code here\n"
   ]
  },
  {
   "cell_type": "markdown",
   "metadata": {},
   "source": [
    "Display the result in a 2D graph."
   ]
  },
  {
   "cell_type": "code",
   "execution_count": null,
   "metadata": {
    "scrolled": false
   },
   "outputs": [],
   "source": [
    "fig, ax = plt.subplots()\n",
    "ax.plot(X2, y2, 'ro', label='Original data')\n",
    "\n",
    "ax.plot(X2, y_predicted, label='Regression line')\n",
    "\n",
    "ax.legend()\n",
    "plt.grid()\n",
    "plt.show()"
   ]
  },
  {
   "cell_type": "markdown",
   "metadata": {},
   "source": [
    "**Question #6:** Describe the regression line with respect to the original data. Is it in the middle of the data points? Is it away from the data points?"
   ]
  },
  {
   "cell_type": "markdown",
   "metadata": {},
   "source": [
    "A: "
   ]
  },
  {
   "cell_type": "markdown",
   "metadata": {},
   "source": [
    "Let's compare the ground truth `y` values with the predicted `y` values."
   ]
  },
  {
   "cell_type": "code",
   "execution_count": null,
   "metadata": {},
   "outputs": [],
   "source": [
    "print('\\nGround truth y values\\n', y2)\n",
    "print('Predicted y values\\n', y_predicted)"
   ]
  },
  {
   "cell_type": "markdown",
   "metadata": {},
   "source": [
    "**Question #7:** Describe the ground truth `y` values and the predicted `y` values. What can you say about the difference in their values?"
   ]
  },
  {
   "cell_type": "markdown",
   "metadata": {},
   "source": [
    "A: "
   ]
  },
  {
   "cell_type": "markdown",
   "metadata": {},
   "source": [
    "### Evaluate using Root Mean Squared Error (RMSE)\n",
    "\n",
    "Compute the RMSE of our model and assign the return value to variable `rmse`. "
   ]
  },
  {
   "cell_type": "code",
   "execution_count": null,
   "metadata": {},
   "outputs": [],
   "source": [
    "# Write your code here\n"
   ]
  },
  {
   "cell_type": "code",
   "execution_count": null,
   "metadata": {},
   "outputs": [],
   "source": [
    "print('{:.2f}'.format(rmse))"
   ]
  },
  {
   "cell_type": "markdown",
   "metadata": {},
   "source": [
    "**Question #8:** Can we say that our model fits the input data very well? Why or why not?"
   ]
  },
  {
   "cell_type": "markdown",
   "metadata": {},
   "source": [
    "A: "
   ]
  },
  {
   "cell_type": "markdown",
   "metadata": {},
   "source": [
    "## Kansas City Dataset\n",
    "We will use the sales prices of houses in Kansas City as our dataset. We will only get one feature / dimension / variable, i.e., living area, to be able to visualize the dataset in a 2D plane. "
   ]
  },
  {
   "cell_type": "markdown",
   "metadata": {},
   "source": [
    "### Data Preprocessing\n",
    "Let's load the data into the notebook. This data has already been processed, which means that the data is already ready to go for training. \n",
    "\n",
    "But in reality, you will need to perform some pre-processing and feature extractions after collecting data. For starters, you have to make sure that there are no erroneous answers (e.g., instead of a number under the column living area, 'big' was entered) or empty fields. You may also want to get the sum, average, or standard deviation of some data. \n",
    "\n",
    "Again, our data here is already clean so we don't have to worry about that :)"
   ]
  },
  {
   "cell_type": "code",
   "execution_count": null,
   "metadata": {
    "scrolled": true
   },
   "outputs": [],
   "source": [
    "with open('house.csv', 'r') as csv_file:\n",
    "    raw_data = csv.reader(csv_file)\n",
    "    next(csv_file)\n",
    "    X_kansas = np.empty((0, 1), int)\n",
    "    y_kansas = np.empty((0, 1), int)\n",
    "    for row in raw_data:\n",
    "        X_kansas = np.vstack([X_kansas, np.array([int(row[3])])])  # column for living area\n",
    "        y_kansas = np.append(y_kansas, np.array([int(row[7])]))    # column for price\n",
    "\n",
    "y_house = np.expand_dims(y_kansas, 1) \n",
    "\n",
    "print('Training data shape:', X_kansas.shape)\n",
    "print('Ground truth values shape:', y_kansas.shape)"
   ]
  },
  {
   "cell_type": "markdown",
   "metadata": {},
   "source": [
    "Let's visualize the Kansas City dataset in a 2D graph."
   ]
  },
  {
   "cell_type": "code",
   "execution_count": null,
   "metadata": {},
   "outputs": [],
   "source": [
    "fig, ax = plt.subplots()\n",
    "ax.plot(X_kansas, y_kansas, 'ro', label='Original data')\n",
    "\n",
    "plt.ylabel('Price')\n",
    "plt.xlabel('Living area')\n",
    "ax.legend()\n",
    "plt.grid()\n",
    "plt.show()"
   ]
  },
  {
   "cell_type": "markdown",
   "metadata": {},
   "source": [
    "## Linear Regression on the Kansas City Dataset using Analytical Solution\n",
    "\n",
    "Create a linear regression model on the Kansas City dataset using the analytical solution."
   ]
  },
  {
   "cell_type": "markdown",
   "metadata": {},
   "source": [
    "### Step 1: Train. Compute for the weights via the analytical solution.\n",
    "\n",
    "\n",
    "Compute the weights using the Kansas City dataset by calling the function `compute_weights()` and assign the return value to variable `W`. "
   ]
  },
  {
   "cell_type": "code",
   "execution_count": null,
   "metadata": {},
   "outputs": [],
   "source": [
    "# Write your code here\n"
   ]
  },
  {
   "cell_type": "markdown",
   "metadata": {},
   "source": [
    "Display weights. "
   ]
  },
  {
   "cell_type": "code",
   "execution_count": null,
   "metadata": {},
   "outputs": [],
   "source": [
    "print('{:.2f}'.format(float(W[0])), '{:.2f}'.format(float(W[1])))"
   ]
  },
  {
   "cell_type": "markdown",
   "metadata": {},
   "source": [
    "**Question #9:** What is the value of the first weight? Limit to 2 decimal places."
   ]
  },
  {
   "cell_type": "markdown",
   "metadata": {},
   "source": [
    "A: "
   ]
  },
  {
   "cell_type": "markdown",
   "metadata": {},
   "source": [
    "**Question #10:** Why are there are 2 weights if we only have 1 feature? Where did the 2nd one come from?"
   ]
  },
  {
   "cell_type": "markdown",
   "metadata": {},
   "source": [
    "A: "
   ]
  },
  {
   "cell_type": "markdown",
   "metadata": {},
   "source": [
    "### Step 2: Test. Predict test data with the weights computed\n",
    "\n",
    "Get the predicted `y` values given the Kansas City dataset and using the `AnalyticalMethod` and assign the return value to variable `y_predicted`."
   ]
  },
  {
   "cell_type": "code",
   "execution_count": null,
   "metadata": {},
   "outputs": [],
   "source": [
    "# Write your code here\n"
   ]
  },
  {
   "cell_type": "markdown",
   "metadata": {},
   "source": [
    "Display the result in a 2D graph."
   ]
  },
  {
   "cell_type": "code",
   "execution_count": null,
   "metadata": {
    "scrolled": false
   },
   "outputs": [],
   "source": [
    "fig, ax1 = plt.subplots()\n",
    "ax1.plot(X_kansas, y_kansas, 'ro', label='Original data')\n",
    "line1, = ax1.plot(X_kansas, y_predicted, label='Regression line')\n",
    "\n",
    "plt.ylabel('Price')\n",
    "plt.xlabel('Living area')\n",
    "ax1.legend()\n",
    "plt.grid()\n",
    "plt.show()"
   ]
  },
  {
   "cell_type": "markdown",
   "metadata": {},
   "source": [
    "**Question #11:** Describe the regression line with respect to the original data. Is it in the middle of the data points? Is it away from the data points?"
   ]
  },
  {
   "cell_type": "markdown",
   "metadata": {},
   "source": [
    "A: "
   ]
  },
  {
   "cell_type": "markdown",
   "metadata": {},
   "source": [
    "### Evaluate using Root Mean Squared Error (RMSE)\n",
    "\n",
    "Compute the RMSE of our model and assign the return value to variable `rmse`. "
   ]
  },
  {
   "cell_type": "code",
   "execution_count": null,
   "metadata": {},
   "outputs": [],
   "source": [
    "# Write your code here\n"
   ]
  },
  {
   "cell_type": "code",
   "execution_count": null,
   "metadata": {},
   "outputs": [],
   "source": [
    "print('{:.2f}'.format(rmse))"
   ]
  },
  {
   "cell_type": "markdown",
   "metadata": {},
   "source": [
    "**Question #12:** What is the RMSE of our model? Limit to 2 decimal places."
   ]
  },
  {
   "cell_type": "markdown",
   "metadata": {},
   "source": [
    "A: "
   ]
  },
  {
   "cell_type": "markdown",
   "metadata": {},
   "source": [
    "## Linear Regression on the Kansas City Dataset using `np.polyfit`\n",
    "Use `np.polyfit` to get a similar result. "
   ]
  },
  {
   "cell_type": "markdown",
   "metadata": {},
   "source": [
    "Import the `PolyFitMethod` class."
   ]
  },
  {
   "cell_type": "code",
   "execution_count": null,
   "metadata": {},
   "outputs": [],
   "source": [
    "from linear_regression import PolyFitMethod"
   ]
  },
  {
   "cell_type": "markdown",
   "metadata": {},
   "source": [
    "Instantiate a `PolyFitMethod` object. Assign the object to variable `polyfit_method`."
   ]
  },
  {
   "cell_type": "code",
   "execution_count": null,
   "metadata": {},
   "outputs": [],
   "source": [
    "# Write your code here\n"
   ]
  },
  {
   "cell_type": "markdown",
   "metadata": {},
   "source": [
    "### Step 1: Compute for the weights via `np.polyfit`.\n",
    "\n",
    "Open `linear_regression.py` file and complete the `compute_weights()` function in the `PolyFitMethod` class. This function computes the weights using the `np.polyfit()` function.\n",
    "\n",
    "This function has 2 parameters - `X` and `y`, where `X` is an `np.ndarray` of shape (N,) containing the training data and `y` is an `np.ndarray` of shape (N,) containing the ground truth values."
   ]
  },
  {
   "cell_type": "markdown",
   "metadata": {},
   "source": [
    "Implement the `compute_weights()` function in the `PolyFitMethod` class. Inline comments should help you in completing the contents of the function."
   ]
  },
  {
   "cell_type": "markdown",
   "metadata": {},
   "source": [
    "The function `compute_weights()` requires a 1D vector for `X`, and our current `X` has a shape of (128, 1). The function `np.squeeze()` removes this 'unneccesary axis'."
   ]
  },
  {
   "cell_type": "code",
   "execution_count": null,
   "metadata": {},
   "outputs": [],
   "source": [
    "polyfit_X_kansas = np.squeeze(X_kansas)"
   ]
  },
  {
   "cell_type": "markdown",
   "metadata": {},
   "source": [
    "Compute the weights by calling the function `compute_weights()` and assign the return value to variable `W`. "
   ]
  },
  {
   "cell_type": "code",
   "execution_count": null,
   "metadata": {},
   "outputs": [],
   "source": [
    "# Write your code here\n"
   ]
  },
  {
   "cell_type": "markdown",
   "metadata": {},
   "source": [
    "Display weights. "
   ]
  },
  {
   "cell_type": "code",
   "execution_count": null,
   "metadata": {},
   "outputs": [],
   "source": [
    "print('{:.2f}'.format(float(W[0])), '{:.2f}'.format(float(W[1])))"
   ]
  },
  {
   "cell_type": "markdown",
   "metadata": {},
   "source": [
    "**Checkpoint:** You should get the same weights as when we used the analytical method."
   ]
  },
  {
   "cell_type": "markdown",
   "metadata": {},
   "source": [
    "### Step 2: Test! Predict test data with the computed weights\n",
    "\n",
    "Open `linear_regression.py` file and complete the `predict()` function in the `PolyFitMethod` class. This function predicts values for the test data."
   ]
  },
  {
   "cell_type": "markdown",
   "metadata": {},
   "source": [
    "Implement the `predict()` function in the `PolyFitMethod` class. Inline comments should help you in completing the contents of the function."
   ]
  },
  {
   "cell_type": "markdown",
   "metadata": {},
   "source": [
    "Get the predicted `y` values given for the living area listed in the array `new_x` using both the `AnalyticalMethod` class and the `PolyFitMethod` class. Assign the return value of the `AnalyticalMethod` to variable `y_pred_analytical`, while assign the return value of the `PolyFitMethod` to the variable `y_pred_polyfit`."
   ]
  },
  {
   "cell_type": "code",
   "execution_count": null,
   "metadata": {},
   "outputs": [],
   "source": [
    "new_x = np.array([1980, 2200, 2050])"
   ]
  },
  {
   "cell_type": "code",
   "execution_count": null,
   "metadata": {},
   "outputs": [],
   "source": [
    "# Write your code here\n"
   ]
  },
  {
   "cell_type": "code",
   "execution_count": null,
   "metadata": {},
   "outputs": [],
   "source": [
    "print('Using analytical method:\\t', np.around(y_pred_analytical.flatten(), 2))\n",
    "print('Using PolyFit method:\\t\\t', np.around(y_pred_polyfit, 2))"
   ]
  },
  {
   "cell_type": "markdown",
   "metadata": {},
   "source": [
    "**Question #13:** Using analytical method, what is the predicted price given a living area of 2200? Limit to 2 decimal places."
   ]
  },
  {
   "cell_type": "markdown",
   "metadata": {},
   "source": [
    "A: "
   ]
  },
  {
   "cell_type": "markdown",
   "metadata": {},
   "source": [
    "**Question #14:** What can you say about the predicted prices of the analytical method and the polyfit method?"
   ]
  },
  {
   "cell_type": "markdown",
   "metadata": {},
   "source": [
    "A: "
   ]
  },
  {
   "cell_type": "markdown",
   "metadata": {},
   "source": [
    "Get the predicted `y` values given the Kansas City dataset and using the `PolyFitMethod` and assign the return value to variable `y_predicted`."
   ]
  },
  {
   "cell_type": "code",
   "execution_count": null,
   "metadata": {},
   "outputs": [],
   "source": [
    "# Write your code here\n"
   ]
  },
  {
   "cell_type": "code",
   "execution_count": null,
   "metadata": {},
   "outputs": [],
   "source": [
    "fig, ax2 = plt.subplots()\n",
    "ax2.plot(X_kansas, y_kansas, 'ro', label='Original data')\n",
    "\n",
    "line2, = ax2.plot(X_kansas, y_predicted, label='Regression line')\n",
    "\n",
    "plt.ylabel('Price')\n",
    "plt.xlabel('Living area')\n",
    "ax2.legend()\n",
    "plt.grid()\n",
    "plt.show()"
   ]
  },
  {
   "cell_type": "markdown",
   "metadata": {},
   "source": [
    "## Linear Regression on the Kansas City Dataset using Gradient Descent\n",
    "Next, let's implement the iterative solution to linear regression using gradient descent. \n",
    "\n",
    "For this, we will use sklearn's implementation.\n",
    "\n",
    "sklearn already has an implementation for the approximate/iterative solution for finding the parameters/weights that minimizes the loss function. It does the following automatically:\n",
    "\n",
    "1. Initialize the parameters/weight vector.\n",
    "\n",
    "2. Calculate the cost/loss/objective function for current parameters/weights.\n",
    "\n",
    "3. Compute for the gradients of the loss function with respect to the parameters/weights.\n",
    "\n",
    "4. Implement gradient descent to update the paramters/weights."
   ]
  },
  {
   "cell_type": "markdown",
   "metadata": {},
   "source": [
    "Import the `SGDRegressor` class."
   ]
  },
  {
   "cell_type": "code",
   "execution_count": null,
   "metadata": {},
   "outputs": [],
   "source": [
    "from sklearn.linear_model import SGDRegressor"
   ]
  },
  {
   "cell_type": "markdown",
   "metadata": {},
   "source": [
    "Instantiate an `SGDRegressor` object. Set the following hyperparameters:\n",
    "- Initial learning rate: 1-e9\n",
    "- Maximum iterations: 200\n",
    "- Penalty: None\n",
    "- Learning rate: 'constant'\n",
    "- Random state: 1\n",
    "- Verbose: 1\n",
    "\n",
    "See the documentation [here](https://scikit-learn.org/stable/modules/generated/sklearn.linear_model.SGDRegressor.html#sklearn-linear-model-sgdregressor)."
   ]
  },
  {
   "cell_type": "code",
   "execution_count": null,
   "metadata": {},
   "outputs": [],
   "source": [
    "# Write your code here\n"
   ]
  },
  {
   "cell_type": "markdown",
   "metadata": {},
   "source": [
    "Call the `partial_fit()` function of the model to train it for 1 epoch. "
   ]
  },
  {
   "cell_type": "code",
   "execution_count": null,
   "metadata": {},
   "outputs": [],
   "source": [
    "# Write your code here\n"
   ]
  },
  {
   "cell_type": "markdown",
   "metadata": {},
   "source": [
    "Get the predicted `y` values given the Kansas City dataset and using the `SGDRegressor` after 1 training epoch and assign the return value to variable `y_predicted`."
   ]
  },
  {
   "cell_type": "code",
   "execution_count": null,
   "metadata": {},
   "outputs": [],
   "source": [
    "# Write your code here\n"
   ]
  },
  {
   "cell_type": "markdown",
   "metadata": {},
   "source": [
    "Display the regression line after 1 training epoch."
   ]
  },
  {
   "cell_type": "code",
   "execution_count": null,
   "metadata": {},
   "outputs": [],
   "source": [
    "# Write your code here\n"
   ]
  },
  {
   "cell_type": "markdown",
   "metadata": {},
   "source": [
    "**Question #15:** Describe the regression line with respect to the original data after 1 training epoch. Is it in the middle of the data points? Is it away from the data points?"
   ]
  },
  {
   "cell_type": "markdown",
   "metadata": {},
   "source": [
    "A: "
   ]
  },
  {
   "cell_type": "markdown",
   "metadata": {},
   "source": [
    "Finish training the model by calling the `fit()` function of the model."
   ]
  },
  {
   "cell_type": "code",
   "execution_count": null,
   "metadata": {},
   "outputs": [],
   "source": [
    "# Write your code here\n"
   ]
  },
  {
   "cell_type": "markdown",
   "metadata": {},
   "source": [
    "Get the predicted `y` values given the Kansas City dataset and using the `SGDRegressor` after convergence and assign the return value to variable `y_predicted`."
   ]
  },
  {
   "cell_type": "code",
   "execution_count": null,
   "metadata": {},
   "outputs": [],
   "source": [
    "# Write your code here\n"
   ]
  },
  {
   "cell_type": "markdown",
   "metadata": {},
   "source": [
    "Display the regression line after training."
   ]
  },
  {
   "cell_type": "code",
   "execution_count": null,
   "metadata": {},
   "outputs": [],
   "source": [
    "# Write your code here\n"
   ]
  },
  {
   "cell_type": "markdown",
   "metadata": {},
   "source": [
    "**Question #16:** Describe the regression line with respect to the original data after training. Is it in the middle of the data points? Is it away from the data points?"
   ]
  },
  {
   "cell_type": "markdown",
   "metadata": {},
   "source": [
    "A: "
   ]
  },
  {
   "cell_type": "markdown",
   "metadata": {},
   "source": [
    "Let's display the graph of regression lines on the Kansas City dataset using analytical method, polyfit method, and gradient descent."
   ]
  },
  {
   "cell_type": "code",
   "execution_count": null,
   "metadata": {},
   "outputs": [],
   "source": [
    "fig, (ax1, ax2, ax3) = plt.subplots(ncols=3, nrows=1, figsize=(28, 8))\n",
    "\n",
    "ax1.plot(X_kansas, y_kansas, 'ro', label='Original data')\n",
    "ax1.plot(line1.get_xdata(), line1.get_ydata(), label='Regression line')\n",
    "ax1.set_title('Using Analytical Method')\n",
    "ax1.set_xlabel('Living area')\n",
    "ax1.set_ylabel('Price')\n",
    "ax1.legend()\n",
    "ax1.grid()\n",
    "\n",
    "ax2.plot(X_kansas, y_kansas, 'ro', label='Original data')\n",
    "ax2.plot(line2.get_xdata(), line2.get_ydata(), label='Regression line')\n",
    "ax2.set_title('Using np.polyfit()')\n",
    "ax2.set_xlabel('Living area')\n",
    "ax2.set_ylabel('Price')\n",
    "ax2.legend()\n",
    "ax2.grid()\n",
    "\n",
    "ax3.plot(X_kansas, y_kansas, 'ro', label='Original data')\n",
    "ax3.plot(line3.get_xdata(), line3.get_ydata(), label='Regression line')\n",
    "ax3.set_title('Using Gradient Descent')\n",
    "ax3.set_xlabel('Living area')\n",
    "ax3.set_ylabel('Price')\n",
    "ax3.legend()\n",
    "ax3.grid()"
   ]
  },
  {
   "cell_type": "markdown",
   "metadata": {},
   "source": [
    "**Question #17:** Compare and describe the graphs of the analytical method, polyfit method, and gradient descent method. Are there differences in some of the graphs?"
   ]
  },
  {
   "cell_type": "markdown",
   "metadata": {},
   "source": [
    "A: "
   ]
  },
  {
   "cell_type": "markdown",
   "metadata": {},
   "source": [
    "Predict the price given a living area using the `predict()` function of the `AnalyticalMethod` class, the `PolyFitMethod` class, and the `SGDRegressor` class. "
   ]
  },
  {
   "cell_type": "code",
   "execution_count": null,
   "metadata": {},
   "outputs": [],
   "source": [
    "new_x = np.array([3105])\n",
    "\n",
    "y_pred_analytical = analytical_method.predict(new_x)\n",
    "y_pred_polyfit = polyfit_method.predict(new_x)\n",
    "y_pred_gd = model.predict(np.expand_dims(new_x, 1))\n",
    "\n",
    "print('Using Analytical method:\\t', np.around(y_pred_analytical.flatten(), 2))\n",
    "print('Using PolyFit method:\\t\\t', np.around(y_pred_polyfit, 2))\n",
    "print('Using Gradient Descent:\\t\\t', np.around(y_pred_gd, 2))"
   ]
  },
  {
   "cell_type": "markdown",
   "metadata": {},
   "source": [
    "**Question #18:** Why did we get a different predicted price using the gradient descent method?"
   ]
  },
  {
   "cell_type": "markdown",
   "metadata": {},
   "source": [
    "A: "
   ]
  },
  {
   "cell_type": "markdown",
   "metadata": {},
   "source": [
    "### Conclusion\n",
    "We successfully implemented a linear regression model on a house pricing dataset. We implemented two ways to train our model: via analytical solution and via mini-batch gradient descent.\n",
    "\n",
    "We also tweaked our learning rate, and you can also continuously change the iteration count as long as you bring it back to the requested answer.\n",
    "\n",
    "Also, remember that we are only using the analytical solution for small datasets. Do not use it on big datasets or it will take too long for your computer to process."
   ]
  },
  {
   "cell_type": "markdown",
   "metadata": {},
   "source": [
    "## <center>fin</center>"
   ]
  },
  {
   "cell_type": "markdown",
   "metadata": {},
   "source": [
    "<!-- DO NOT MODIFY OR DELETE THIS -->\n",
    "<sup>made/compiled by daniel stanley tan & courtney anne ngo 🐰 & thomas james tiam-lee</sup> <br>\n",
    "<sup>for comments, corrections, suggestions, please email:</sup><sup> danieltan07@gmail.com & courtneyngo@gmail.com & thomasjamestiamlee@gmail.com</sup><br>\n",
    "<sup>please cc your instructor, too</sup>\n",
    "<!-- DO NOT MODIFY OR DELETE THIS -->"
   ]
  }
 ],
 "metadata": {
  "kernelspec": {
   "display_name": "Python 3 (ipykernel)",
   "language": "python",
   "name": "python3"
  },
  "language_info": {
   "codemirror_mode": {
    "name": "ipython",
    "version": 3
   },
   "file_extension": ".py",
   "mimetype": "text/x-python",
   "name": "python",
   "nbconvert_exporter": "python",
   "pygments_lexer": "ipython3",
   "version": "3.9.13"
  }
 },
 "nbformat": 4,
 "nbformat_minor": 1
}
