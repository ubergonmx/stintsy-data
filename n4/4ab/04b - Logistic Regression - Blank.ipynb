{
 "cells": [
  {
   "cell_type": "markdown",
   "metadata": {
    "id": "nZhLVggH2SXN"
   },
   "source": [
    "__Name/Section:__"
   ]
  },
  {
   "cell_type": "markdown",
   "metadata": {
    "id": "GkVsgWZH2SXU"
   },
   "source": [
    "A: Aaron Gabriel S. Palpallatoc / S11"
   ]
  },
  {
   "cell_type": "markdown",
   "metadata": {
    "id": "aAcNI4oG2SXZ"
   },
   "source": [
    "# Logistic Regression Exercise\n",
    "\n",
    "This exercise will guide you in implementing a linear model for classification, namely logistic regression, to gain intuitions and develop an understanding of classification models.\n",
    "\n",
    "In this notebook, we will make and train a logistic regression model using sklearn's `SGDClassifier`. We will first do it on a toy dataset (and visualize its decision boundaries), and then on an image dataset."
   ]
  },
  {
   "cell_type": "markdown",
   "metadata": {
    "id": "HNOXU-E-2SXh"
   },
   "source": [
    "## Instructions\n",
    "* Read each cell and implement the TODOs sequentially. The markdown/text cells also contain instructions which you need to follow to get the whole notebook working.\n",
    "* Do not change the variable names unless the instructor allows you to.\n",
    "* Answer all the markdown/text cells with 'A: ' on them. The answer must strictly consume one line only.\n",
    "* You are expected to search how to some functions work on the Internet or via the docs. \n",
    "* There are commented markdown cells that have crumbs. Do not delete them or separate them from the cell originally directly below it. \n",
    "* You may add new cells for \"scrap work\" as long as the crumbs are not separated from the cell below it.\n",
    "* The notebooks will undergo a 'Restart and Run All' command, so make sure that your code is working properly.\n",
    "* You are expected to understand the data set loading and processing separately from this class.\n",
    "* You may not reproduce this notebook or share them to anyone."
   ]
  },
  {
   "cell_type": "markdown",
   "metadata": {
    "id": "F42gkFJ72SXm"
   },
   "source": [
    "## Import\n",
    "Import **matplotlib**, **numpy**, **random**, and **h5py**."
   ]
  },
  {
   "cell_type": "code",
   "execution_count": 1,
   "metadata": {
    "executionInfo": {
     "elapsed": 6,
     "status": "ok",
     "timestamp": 1657871738707,
     "user": {
      "displayName": "Courtney Ngo",
      "userId": "01361140591205022195"
     },
     "user_tz": -480
    },
    "id": "uYAeGWxD2SXq"
   },
   "outputs": [],
   "source": [
    "import matplotlib.pyplot as plt\n",
    "%matplotlib inline\n",
    "import numpy as np\n",
    "import random\n",
    "import h5py\n",
    "\n",
    "plt.style.use('ggplot')\n",
    "\n",
    "%load_ext autoreload\n",
    "%autoreload 2"
   ]
  },
  {
   "cell_type": "markdown",
   "metadata": {
    "id": "JrjeXeRH2SXs"
   },
   "source": [
    "## Toy dataset\n",
    "\n",
    "Before we use a more complicated dataset, we will first demonstrate linear regression using a toy dataset. Let's use the `make_blobs()` function to create a dataset with 1100 instances centered in (-5, -1) and (-1, -4)."
   ]
  },
  {
   "cell_type": "code",
   "execution_count": 2,
   "metadata": {
    "executionInfo": {
     "elapsed": 698,
     "status": "ok",
     "timestamp": 1657871739401,
     "user": {
      "displayName": "Courtney Ngo",
      "userId": "01361140591205022195"
     },
     "user_tz": -480
    },
    "id": "3SuPudC92SXt",
    "scrolled": true
   },
   "outputs": [],
   "source": [
    "from sklearn.datasets import make_blobs\n",
    "\n",
    "centers = [[-5, -1], [-1, -4]]\n",
    "\n",
    "X, y = make_blobs(n_samples=1100, \n",
    "                  centers=centers, \n",
    "                  random_state=1)"
   ]
  },
  {
   "cell_type": "markdown",
   "metadata": {
    "id": "5PpFIJT82SX1"
   },
   "source": [
    "Let's get the number of instances with label `True` or 1 and the number of instances with label `False` or 0."
   ]
  },
  {
   "cell_type": "code",
   "execution_count": 3,
   "metadata": {
    "colab": {
     "base_uri": "https://localhost:8080/"
    },
    "executionInfo": {
     "elapsed": 832,
     "status": "ok",
     "timestamp": 1657871740230,
     "user": {
      "displayName": "Courtney Ngo",
      "userId": "01361140591205022195"
     },
     "user_tz": -480
    },
    "id": "YTxJ_eyM2SX4",
    "outputId": "c0fd6479-9274-41b6-e770-d20c903269bf"
   },
   "outputs": [
    {
     "name": "stdout",
     "output_type": "stream",
     "text": [
      "Number of True: 550\n",
      "Number of False: 550\n"
     ]
    }
   ],
   "source": [
    "X_true = X[y == 1]\n",
    "X_false = X[y == 0]\n",
    "\n",
    "print('Number of True:', len(X_true))\n",
    "print('Number of False:', len(X_false))"
   ]
  },
  {
   "cell_type": "markdown",
   "metadata": {
    "id": "UY-8I7rV2SX6"
   },
   "source": [
    "There are 550 `True` instances and 550 `False` instances."
   ]
  },
  {
   "cell_type": "markdown",
   "metadata": {
    "id": "YvGZ-xa62SX-"
   },
   "source": [
    "Let's divide the dataset into train and test set. The test set will contain 50 instances of `True` and 50 instances of `False`."
   ]
  },
  {
   "cell_type": "code",
   "execution_count": 8,
   "metadata": {
    "colab": {
     "base_uri": "https://localhost:8080/"
    },
    "executionInfo": {
     "elapsed": 25,
     "status": "ok",
     "timestamp": 1657871740231,
     "user": {
      "displayName": "Courtney Ngo",
      "userId": "01361140591205022195"
     },
     "user_tz": -480
    },
    "id": "SSqAhn2c2SYM",
    "outputId": "ba529ccf-1d83-458d-8ac8-c6fde1a7492b"
   },
   "outputs": [
    {
     "name": "stdout",
     "output_type": "stream",
     "text": [
      "(100, 2)\n",
      "(100,)\n"
     ]
    }
   ],
   "source": [
    "np.random.seed(1)\n",
    "\n",
    "# Select 50 `True` instances\n",
    "selected_true = np.random.choice(np.arange(len(X_true)),\n",
    "                                 size=50,\n",
    "                                 replace=False)\n",
    "\n",
    "# Select 50 `False` instances\n",
    "selected_false = np.random.choice(np.arange(len(X_false)),\n",
    "                                  size=50,\n",
    "                                  replace=False)\n",
    "\n",
    "# Form the test set\n",
    "X_test = np.concatenate((X_true[selected_true], \n",
    "                         X_false[selected_false]))\n",
    "y_test = np.concatenate((np.array([1 for _ in range(50)]),\n",
    "                         np.array([0 for _ in range(50)])))\n",
    "\n",
    "print(X_test.shape)\n",
    "print(y_test.shape)"
   ]
  },
  {
   "cell_type": "markdown",
   "metadata": {
    "id": "GTOjVYUQ2SYO"
   },
   "source": [
    "The remaining 1000 instances will be a part of the train set, where 500 are `True` and 500 are `False`."
   ]
  },
  {
   "cell_type": "code",
   "execution_count": 10,
   "metadata": {
    "colab": {
     "base_uri": "https://localhost:8080/"
    },
    "executionInfo": {
     "elapsed": 22,
     "status": "ok",
     "timestamp": 1657871740232,
     "user": {
      "displayName": "Courtney Ngo",
      "userId": "01361140591205022195"
     },
     "user_tz": -480
    },
    "id": "Nqeijddd2SYp",
    "outputId": "9041cb3d-417e-4960-b2fe-2e1784cebd22"
   },
   "outputs": [
    {
     "name": "stdout",
     "output_type": "stream",
     "text": [
      "(1000, 2)\n",
      "(1000,)\n"
     ]
    }
   ],
   "source": [
    "X_train = np.concatenate((np.delete(X_true, selected_true, 0),\n",
    "                          np.delete(X_false, selected_false, 0)))\n",
    "y_train = np.concatenate((np.array([1 for _ in range(500)]),\n",
    "                          np.array([0 for _ in range(500)])))\n",
    "\n",
    "print(X_train.shape)\n",
    "print(y_train.shape)"
   ]
  },
  {
   "cell_type": "markdown",
   "metadata": {
    "id": "aNM83Z3L2SYp"
   },
   "source": [
    "Visualize the train data."
   ]
  },
  {
   "cell_type": "code",
   "execution_count": 11,
   "metadata": {
    "colab": {
     "base_uri": "https://localhost:8080/",
     "height": 300
    },
    "executionInfo": {
     "elapsed": 19,
     "status": "ok",
     "timestamp": 1657871740233,
     "user": {
      "displayName": "Courtney Ngo",
      "userId": "01361140591205022195"
     },
     "user_tz": -480
    },
    "id": "AsIPrx2P2SYq",
    "outputId": "11b1376d-770b-495f-e775-f6d2f71f6832"
   },
   "outputs": [
    {
     "data": {
      "text/plain": [
       "Text(0.5, 1.0, 'Train data')"
      ]
     },
     "execution_count": 11,
     "metadata": {},
     "output_type": "execute_result"
    },
    {
     "data": {
      "image/png": "[encoded data removed]",
      "text/plain": [
       "<Figure size 640x480 with 1 Axes>"
      ]
     },
     "metadata": {},
     "output_type": "display_data"
    }
   ],
   "source": [
    "plt.scatter(X_train[:, 0], X_train[:, 1], c=y_train)\n",
    "plt.title('Train data')"
   ]
  },
  {
   "cell_type": "markdown",
   "metadata": {
    "id": "YuuF6eSk2SYs"
   },
   "source": [
    "Visualize the test data."
   ]
  },
  {
   "cell_type": "code",
   "execution_count": 12,
   "metadata": {
    "colab": {
     "base_uri": "https://localhost:8080/",
     "height": 300
    },
    "executionInfo": {
     "elapsed": 1205,
     "status": "ok",
     "timestamp": 1657871741425,
     "user": {
      "displayName": "Courtney Ngo",
      "userId": "01361140591205022195"
     },
     "user_tz": -480
    },
    "id": "48k9-50Y2SYs",
    "outputId": "659d0d19-7d0c-4d5e-854c-7c333dfa5f93"
   },
   "outputs": [
    {
     "data": {
      "text/plain": [
       "Text(0.5, 1.0, 'Test data')"
      ]
     },
     "execution_count": 12,
     "metadata": {},
     "output_type": "execute_result"
    },
    {
     "data": {
      "image/png": "[encoded data removed]",
      "text/plain": [
       "<Figure size 640x480 with 1 Axes>"
      ]
     },
     "metadata": {},
     "output_type": "display_data"
    }
   ],
   "source": [
    "plt.scatter(X_test[:, 0], X_test[:, 1], c=y_test)\n",
    "plt.title('Test data')"
   ]
  },
  {
   "cell_type": "markdown",
   "metadata": {
    "id": "Fsmsejds2SYt"
   },
   "source": [
    "## Binomial Logistic Regression on the Toy Dataset\n",
    "\n",
    "Use `sklearn`'s `SGDClassifier` to create your logistic regression model. Since we only have two classes (`True` or `False`), we will be implementing a binomial logistic regression."
   ]
  },
  {
   "cell_type": "markdown",
   "metadata": {
    "id": "JUBAP5ui2SYt"
   },
   "source": [
    "Import the `SGDClassifier` class."
   ]
  },
  {
   "cell_type": "code",
   "execution_count": null,
   "metadata": {
    "executionInfo": {
     "elapsed": 62,
     "status": "ok",
     "timestamp": 1657871741428,
     "user": {
      "displayName": "Courtney Ngo",
      "userId": "01361140591205022195"
     },
     "user_tz": -480
    },
    "id": "7RgXDCg-2SYt"
   },
   "outputs": [],
   "source": [
    "from sklearn.linear_model import SGDClassifier"
   ]
  },
  {
   "cell_type": "markdown",
   "metadata": {
    "id": "5ExRgXaz2SYu"
   },
   "source": [
    "Instantiate an `SGDClassifier` object. Set the following hyperparameters:\n",
    "- Loss function: 'log_loss'\n",
    "- Initial learning rate: 0.001\n",
    "- Maximum iterations: 200\n",
    "- Learning rate: 'constant'\n",
    "- Random state: 1\n",
    "- Verbose: 1\n",
    "\n",
    "See the documentation [here](https://scikit-learn.org/stable/modules/generated/sklearn.linear_model.SGDClassifier.html)."
   ]
  },
  {
   "cell_type": "code",
   "execution_count": null,
   "metadata": {
    "executionInfo": {
     "elapsed": 61,
     "status": "ok",
     "timestamp": 1657871741429,
     "user": {
      "displayName": "Courtney Ngo",
      "userId": "01361140591205022195"
     },
     "user_tz": -480
    },
    "id": "De6Za-I42SYu"
   },
   "outputs": [],
   "source": [
    "# Write your code here\n"
   ]
  },
  {
   "cell_type": "markdown",
   "metadata": {
    "id": "Ar2nv2RF2SYw"
   },
   "source": [
    "Train by calling the `fit()` function of the model."
   ]
  },
  {
   "cell_type": "code",
   "execution_count": null,
   "metadata": {
    "colab": {
     "base_uri": "https://localhost:8080/"
    },
    "executionInfo": {
     "elapsed": 66,
     "status": "ok",
     "timestamp": 1657871741435,
     "user": {
      "displayName": "Courtney Ngo",
      "userId": "01361140591205022195"
     },
     "user_tz": -480
    },
    "id": "JHLJ70Om2SY2",
    "outputId": "8eb20036-583f-4d26-a5fa-f6ba1a2ed5df"
   },
   "outputs": [],
   "source": [
    "# Write your code here\n"
   ]
  },
  {
   "cell_type": "markdown",
   "metadata": {
    "id": "NnR7nA1S2SY3"
   },
   "source": [
    "**Question #1:** How many epochs did the model train before convergence?"
   ]
  },
  {
   "cell_type": "markdown",
   "metadata": {
    "id": "d1odKLJK2SY4"
   },
   "source": [
    "<!--crumb;qna;Q1-->"
   ]
  },
  {
   "cell_type": "markdown",
   "metadata": {
    "id": "nbVlMxCA2SY5"
   },
   "source": [
    "A: "
   ]
  },
  {
   "cell_type": "markdown",
   "metadata": {
    "id": "6YCMaq9W2SY5"
   },
   "source": [
    "**Question #2:** What is the average loss at the last epoch? Limit to 6 decimal places."
   ]
  },
  {
   "cell_type": "markdown",
   "metadata": {
    "id": "WZwVKtaF2SY5"
   },
   "source": [
    "<!--crumb;qna;Q2-->"
   ]
  },
  {
   "cell_type": "markdown",
   "metadata": {
    "id": "PiIuxPdF2SY6"
   },
   "source": [
    "A: "
   ]
  },
  {
   "cell_type": "markdown",
   "metadata": {
    "id": "LS25lTJT2SY7"
   },
   "source": [
    "## Try our trained model on the train data\n",
    "\n",
    "Now, let's get the prediction results on the train data to see if our model does well. Store the predicted labels in the variable `predictions`."
   ]
  },
  {
   "cell_type": "code",
   "execution_count": null,
   "metadata": {
    "colab": {
     "base_uri": "https://localhost:8080/"
    },
    "executionInfo": {
     "elapsed": 61,
     "status": "ok",
     "timestamp": 1657871741436,
     "user": {
      "displayName": "Courtney Ngo",
      "userId": "01361140591205022195"
     },
     "user_tz": -480
    },
    "id": "30KKnOdJ2SY7",
    "outputId": "7facae1d-8a0f-42c2-e621-14ea72515a19"
   },
   "outputs": [],
   "source": [
    "# Write your code here\n"
   ]
  },
  {
   "cell_type": "markdown",
   "metadata": {},
   "source": [
    "Print the predictions."
   ]
  },
  {
   "cell_type": "code",
   "execution_count": null,
   "metadata": {},
   "outputs": [],
   "source": [
    "print(predictions)"
   ]
  },
  {
   "cell_type": "markdown",
   "metadata": {
    "id": "xOuktQyM2SY7"
   },
   "source": [
    "Compare the ground truth labels with the predicted labels. Store the total number of correct predictions in the variable `num_correct`."
   ]
  },
  {
   "cell_type": "code",
   "execution_count": null,
   "metadata": {
    "colab": {
     "base_uri": "https://localhost:8080/"
    },
    "executionInfo": {
     "elapsed": 57,
     "status": "ok",
     "timestamp": 1657871741437,
     "user": {
      "displayName": "Courtney Ngo",
      "userId": "01361140591205022195"
     },
     "user_tz": -480
    },
    "id": "mJjMIBIh2SY8",
    "outputId": "4bb9cea6-baea-4e4e-ff3b-238e0b210e90"
   },
   "outputs": [],
   "source": [
    "# Write your code here\n"
   ]
  },
  {
   "cell_type": "markdown",
   "metadata": {},
   "source": [
    "Print the number of correct predictions."
   ]
  },
  {
   "cell_type": "code",
   "execution_count": null,
   "metadata": {},
   "outputs": [],
   "source": [
    "print(num_correct)"
   ]
  },
  {
   "cell_type": "markdown",
   "metadata": {
    "id": "FDcL98RK2SY9"
   },
   "source": [
    "Compute for the accuracy.\n",
    "\n",
    "$$ \\text{accuracy} = \\frac{\\text{number  of  correct  answers}}{\\text{total  number  of   data}} $$\n",
    "\n",
    "Store the accuracy in the variable `accuracy`."
   ]
  },
  {
   "cell_type": "code",
   "execution_count": null,
   "metadata": {
    "colab": {
     "base_uri": "https://localhost:8080/"
    },
    "executionInfo": {
     "elapsed": 52,
     "status": "ok",
     "timestamp": 1657871741437,
     "user": {
      "displayName": "Courtney Ngo",
      "userId": "01361140591205022195"
     },
     "user_tz": -480
    },
    "id": "DbNJwSqo2SY_",
    "outputId": "cd5f4088-6dd5-4965-d187-e138f6ed092f"
   },
   "outputs": [],
   "source": [
    "# Write your code here\n"
   ]
  },
  {
   "cell_type": "markdown",
   "metadata": {},
   "source": [
    "Print the accuracy."
   ]
  },
  {
   "cell_type": "code",
   "execution_count": null,
   "metadata": {},
   "outputs": [],
   "source": [
    "print(accuracy)"
   ]
  },
  {
   "cell_type": "markdown",
   "metadata": {
    "id": "wb4rPQvS2SZA"
   },
   "source": [
    "**Question #3:** What is the accuracy of the model when evaluated on the train set? Express your answer in a floating point number from 0 to 1. Limit to 4 decimal places."
   ]
  },
  {
   "cell_type": "markdown",
   "metadata": {
    "id": "xUqY9HIe2SZA"
   },
   "source": [
    "<!--crumb;qna;Q3-->"
   ]
  },
  {
   "cell_type": "markdown",
   "metadata": {
    "id": "lu8396Dj2SZA"
   },
   "source": [
    "A: "
   ]
  },
  {
   "cell_type": "markdown",
   "metadata": {
    "id": "kQ9kcUJI2SZA"
   },
   "source": [
    "You should see a high train accuracy for the training data."
   ]
  },
  {
   "cell_type": "markdown",
   "metadata": {
    "id": "1SzQ6l1w2SZB"
   },
   "source": [
    "## Visualizing our model prediction boundaries\n",
    "\n",
    "To see the prediction boundary, we will predict each possible point on our feature space."
   ]
  },
  {
   "cell_type": "code",
   "execution_count": null,
   "metadata": {
    "colab": {
     "base_uri": "https://localhost:8080/",
     "height": 283
    },
    "executionInfo": {
     "elapsed": 48,
     "status": "ok",
     "timestamp": 1657871741438,
     "user": {
      "displayName": "Courtney Ngo",
      "userId": "01361140591205022195"
     },
     "user_tz": -480
    },
    "id": "rRMYvMpb2SZB",
    "outputId": "e19164b3-1c00-4996-e1be-498eef7c2446"
   },
   "outputs": [],
   "source": [
    "x_min, x_max = X_train[:,0].min() - 1, X_train[:,0].max() + 1\n",
    "y_min, y_max = X_train[:,1].min() - 1, X_train[:,1].max() + 1\n",
    "xx, yy = np.meshgrid(np.arange(x_min, x_max, 0.1),\n",
    "                     np.arange(y_min, y_max, 0.1))\n",
    "\n",
    "\n",
    "x_test = np.squeeze(np.stack((xx.ravel(),yy.ravel()))).T\n",
    "Z = model.predict(x_test)\n",
    "\n",
    "Z = Z.reshape(xx.shape)\n",
    "plt.contourf(xx, yy, Z)\n",
    "plt.scatter(X_train[:, 0], X_train[:, 1], c=y_train, edgecolors='black')"
   ]
  },
  {
   "cell_type": "markdown",
   "metadata": {
    "id": "EB54PSku2SZB"
   },
   "source": [
    "Now, let's see if our model can handle our test data."
   ]
  },
  {
   "cell_type": "markdown",
   "metadata": {
    "id": "2Qk3i3rY2SZD"
   },
   "source": [
    "## Try our trained model on the test data\n",
    "\n",
    "Now, let's get the prediction results on the test data to see if our model can handle unseen data. Store the predicted labels in the variable `predictions`."
   ]
  },
  {
   "cell_type": "code",
   "execution_count": null,
   "metadata": {
    "colab": {
     "base_uri": "https://localhost:8080/"
    },
    "executionInfo": {
     "elapsed": 41,
     "status": "ok",
     "timestamp": 1657871741438,
     "user": {
      "displayName": "Courtney Ngo",
      "userId": "01361140591205022195"
     },
     "user_tz": -480
    },
    "id": "L1b9RIaN2SZD",
    "outputId": "8cdd3782-ece4-4e10-b09d-124c9da1e345"
   },
   "outputs": [],
   "source": [
    "# Write your code here\n"
   ]
  },
  {
   "cell_type": "markdown",
   "metadata": {},
   "source": [
    "Print the predictions."
   ]
  },
  {
   "cell_type": "code",
   "execution_count": null,
   "metadata": {},
   "outputs": [],
   "source": [
    "print(predictions)"
   ]
  },
  {
   "cell_type": "markdown",
   "metadata": {
    "id": "7_uX_McX2SZD"
   },
   "source": [
    "Compare the ground truth labels with the predicted labels. Store the total number of correct predictions in the variable `num_correct`."
   ]
  },
  {
   "cell_type": "code",
   "execution_count": null,
   "metadata": {
    "colab": {
     "base_uri": "https://localhost:8080/"
    },
    "executionInfo": {
     "elapsed": 38,
     "status": "ok",
     "timestamp": 1657871741439,
     "user": {
      "displayName": "Courtney Ngo",
      "userId": "01361140591205022195"
     },
     "user_tz": -480
    },
    "id": "LzIH__9K2SZE",
    "outputId": "9a527856-9950-4315-cb92-af9df6f444e1",
    "scrolled": true
   },
   "outputs": [],
   "source": [
    "# Write your code here\n"
   ]
  },
  {
   "cell_type": "markdown",
   "metadata": {},
   "source": [
    "Print the number of correct predictions."
   ]
  },
  {
   "cell_type": "code",
   "execution_count": null,
   "metadata": {},
   "outputs": [],
   "source": [
    "print(num_correct)"
   ]
  },
  {
   "cell_type": "markdown",
   "metadata": {
    "id": "gInipBOI2SZG"
   },
   "source": [
    "Compute for the accuracy. Store the accuracy in the variable `accuracy`."
   ]
  },
  {
   "cell_type": "code",
   "execution_count": null,
   "metadata": {
    "colab": {
     "base_uri": "https://localhost:8080/"
    },
    "executionInfo": {
     "elapsed": 33,
     "status": "ok",
     "timestamp": 1657871741439,
     "user": {
      "displayName": "Courtney Ngo",
      "userId": "01361140591205022195"
     },
     "user_tz": -480
    },
    "id": "j9jFlJro2SZG",
    "outputId": "945fa5f4-3ff1-499e-91f1-c1e4c7573035"
   },
   "outputs": [],
   "source": [
    "# Write your code here\n"
   ]
  },
  {
   "cell_type": "markdown",
   "metadata": {},
   "source": [
    "Print the accuracy."
   ]
  },
  {
   "cell_type": "code",
   "execution_count": null,
   "metadata": {},
   "outputs": [],
   "source": [
    "print(accuracy)"
   ]
  },
  {
   "cell_type": "markdown",
   "metadata": {
    "id": "Is52sEDS2SZH"
   },
   "source": [
    "**Question #4:** What is the accuracy of the model when evaluated on the test set? Express your answer in a floating point number from 0 to 1. Limit to 4 decimal places."
   ]
  },
  {
   "cell_type": "markdown",
   "metadata": {
    "id": "oB9WQRmX2SZH"
   },
   "source": [
    "<!--crumb;qna;Q4-->"
   ]
  },
  {
   "cell_type": "markdown",
   "metadata": {
    "id": "a9Mt-bGs2SZI"
   },
   "source": [
    "A: "
   ]
  },
  {
   "cell_type": "markdown",
   "metadata": {
    "id": "rNmVKdgV2SZI"
   },
   "source": [
    "You should see  high score for our test data."
   ]
  },
  {
   "cell_type": "markdown",
   "metadata": {
    "id": "L4HPmHv82SZI"
   },
   "source": [
    "## Cat Dataset\n",
    "\n",
    "Now, let's try to make a model on a harder and more complex dataset: the cat image dataset from the previous notebook."
   ]
  },
  {
   "cell_type": "markdown",
   "metadata": {
    "id": "Hj3JKBMZ2SZJ"
   },
   "source": [
    "## Load data\n",
    "\n",
    "Load the `cat_dataset.hdf5` file that you created from the previous notebook."
   ]
  },
  {
   "cell_type": "code",
   "execution_count": null,
   "metadata": {
    "colab": {
     "base_uri": "https://localhost:8080/",
     "height": 561
    },
    "executionInfo": {
     "elapsed": 819,
     "status": "error",
     "timestamp": 1657871742230,
     "user": {
      "displayName": "Courtney Ngo",
      "userId": "01361140591205022195"
     },
     "user_tz": -480
    },
    "id": "midRC0Rx2SZJ",
    "outputId": "af606db0-fdb1-4d39-8cce-1d83e98f3ebb"
   },
   "outputs": [],
   "source": [
    "# Write your code here\n"
   ]
  },
  {
   "cell_type": "markdown",
   "metadata": {
    "id": "LILC3wmZ2SZK"
   },
   "source": [
    "Get the training images and labels using the keys `train_x` and `train_y`, and store them in the variables `train_images` and `y_train`, respectively."
   ]
  },
  {
   "cell_type": "code",
   "execution_count": null,
   "metadata": {
    "executionInfo": {
     "elapsed": 28,
     "status": "aborted",
     "timestamp": 1657871742218,
     "user": {
      "displayName": "Courtney Ngo",
      "userId": "01361140591205022195"
     },
     "user_tz": -480
    },
    "id": "MM7Ezf4_2SZK"
   },
   "outputs": [],
   "source": [
    "# Write your code here\n"
   ]
  },
  {
   "cell_type": "markdown",
   "metadata": {
    "id": "8MsOlqv42SZK"
   },
   "source": [
    "Get the test images and labels using the keys `test_x` and `test_y`, and store them in the variables `test_images` and `y_test`, respectively."
   ]
  },
  {
   "cell_type": "code",
   "execution_count": null,
   "metadata": {
    "executionInfo": {
     "elapsed": 28,
     "status": "aborted",
     "timestamp": 1657871742219,
     "user": {
      "displayName": "Courtney Ngo",
      "userId": "01361140591205022195"
     },
     "user_tz": -480
    },
    "id": "ZmWAz6MZ2SZL"
   },
   "outputs": [],
   "source": [
    "# Write your code here\n"
   ]
  },
  {
   "cell_type": "markdown",
   "metadata": {
    "id": "Z_KCyfMG2SZT"
   },
   "source": [
    "Remove the unnecessary axis in the label `np.ndarray` using `np.squeeze()` function. Print the shapes of the images and labels."
   ]
  },
  {
   "cell_type": "code",
   "execution_count": null,
   "metadata": {
    "executionInfo": {
     "elapsed": 28,
     "status": "aborted",
     "timestamp": 1657871742219,
     "user": {
      "displayName": "Courtney Ngo",
      "userId": "01361140591205022195"
     },
     "user_tz": -480
    },
    "id": "XdTSwNhS2SZX"
   },
   "outputs": [],
   "source": [
    "num_train, H, W, C = train_images.shape\n",
    "num_test, _, _, _ = test_images.shape\n",
    "\n",
    "y_train = np.squeeze(y_train)\n",
    "y_test = np.squeeze(y_test)\n",
    "\n",
    "print('Train images shape =', train_images.shape)\n",
    "print('Train labels shape =', y_train.shape)\n",
    "print('Test images shape =', test_images.shape)\n",
    "print('Test labels shape =', y_test.shape)"
   ]
  },
  {
   "cell_type": "markdown",
   "metadata": {
    "id": "S6V8lhc92SZe"
   },
   "source": [
    "Reshape the images. Keep the `N` axis only and combine `H`, `W` and `C` axes into one axis."
   ]
  },
  {
   "cell_type": "code",
   "execution_count": null,
   "metadata": {
    "executionInfo": {
     "elapsed": 27,
     "status": "aborted",
     "timestamp": 1657871742219,
     "user": {
      "displayName": "Courtney Ngo",
      "userId": "01361140591205022195"
     },
     "user_tz": -480
    },
    "id": "SnvdUd-P2SZf",
    "scrolled": true
   },
   "outputs": [],
   "source": [
    "X_train = np.reshape(train_images, [num_train, -1])\n",
    "X_test = np.reshape(test_images, [num_test, -1])\n",
    "\n",
    "print('X_train shape =', X_train.shape)\n",
    "print('Train labels shape =', y_train.shape)\n",
    "print('X_test shape =', X_test.shape)\n",
    "print('Test labels shape =', y_test.shape)"
   ]
  },
  {
   "cell_type": "markdown",
   "metadata": {
    "id": "CzrUFBPA2SZp"
   },
   "source": [
    "## Visualize images\n",
    "\n",
    "Display random images in the training data"
   ]
  },
  {
   "cell_type": "code",
   "execution_count": null,
   "metadata": {
    "executionInfo": {
     "elapsed": 28,
     "status": "aborted",
     "timestamp": 1657871742220,
     "user": {
      "displayName": "Courtney Ngo",
      "userId": "01361140591205022195"
     },
     "user_tz": -480
    },
    "id": "12zCe6Zv2SZq",
    "scrolled": false
   },
   "outputs": [],
   "source": [
    "random_index = np.arange(num_train)\n",
    "np.random.shuffle(random_index)\n",
    "plt.figure(figsize=(8, 6))\n",
    "for i in range(9):\n",
    "    plt.subplot(3, 3, i + 1)\n",
    "    plt.imshow(train_images[random_index[i]])\n",
    "    plt.axis('off')\n",
    "    plt.title('Idx = ' + str(random_index[i]) + ', y = ' + str(np.squeeze(y_train[random_index[i]])))"
   ]
  },
  {
   "cell_type": "markdown",
   "metadata": {
    "id": "xzUP9NYz2SZr"
   },
   "source": [
    "Here are the photos, where a `y=1` means it is a cat, and `y=0` means it is not a cat. You should see 9 photos in a 3x3 grid. Each photo has a caption above it displaying the photo's index and classification (`y=0` or `y=1`)."
   ]
  },
  {
   "cell_type": "markdown",
   "metadata": {
    "id": "1Zg5w31w2SZr"
   },
   "source": [
    "## Binomial Logistic Regression on the Cat Dataset\n",
    "\n",
    "Use `sklearn`'s `SGDClassifier` to create your logistic regression model. Since we only have two classes (`Cat` or `Not Cat`), we will be implementing a binomial logistic regression."
   ]
  },
  {
   "cell_type": "markdown",
   "metadata": {
    "id": "hlUqCrpk2SZs"
   },
   "source": [
    "Instantiate an `SGDClassifier` object. Set the following hyperparameters:\n",
    "- Loss function: 'log_loss'\n",
    "- Initial learning rate: 0.001\n",
    "- Maximum iterations: 200\n",
    "- Learning rate: 'constant'\n",
    "- Random state: 1\n",
    "- Verbose: 1\n",
    "\n",
    "See the documentation [here](https://scikit-learn.org/stable/modules/generated/sklearn.linear_model.SGDClassifier.html)."
   ]
  },
  {
   "cell_type": "code",
   "execution_count": null,
   "metadata": {
    "executionInfo": {
     "elapsed": 29,
     "status": "aborted",
     "timestamp": 1657871742221,
     "user": {
      "displayName": "Courtney Ngo",
      "userId": "01361140591205022195"
     },
     "user_tz": -480
    },
    "id": "uQAnHG1e2SZs"
   },
   "outputs": [],
   "source": [
    "# Write your code here\n"
   ]
  },
  {
   "cell_type": "markdown",
   "metadata": {
    "id": "gV0x14JR2SZt"
   },
   "source": [
    "Train the model."
   ]
  },
  {
   "cell_type": "code",
   "execution_count": null,
   "metadata": {
    "executionInfo": {
     "elapsed": 30,
     "status": "aborted",
     "timestamp": 1657871742222,
     "user": {
      "displayName": "Courtney Ngo",
      "userId": "01361140591205022195"
     },
     "user_tz": -480
    },
    "id": "5_5KTYMb2SZv"
   },
   "outputs": [],
   "source": [
    "# Write your code here\n"
   ]
  },
  {
   "cell_type": "markdown",
   "metadata": {
    "id": "ETQXYfNx2SZv"
   },
   "source": [
    "**Question #5:** How many epochs did the model train before convergence?"
   ]
  },
  {
   "cell_type": "markdown",
   "metadata": {
    "id": "a_KRulND2SZw"
   },
   "source": [
    "<!--crumb;qna;Q5-->"
   ]
  },
  {
   "cell_type": "markdown",
   "metadata": {
    "id": "8WC0StOw2SZw"
   },
   "source": [
    "A: "
   ]
  },
  {
   "cell_type": "markdown",
   "metadata": {
    "id": "sWNPOVvq2SZw"
   },
   "source": [
    "## Try our trained model on the test data\n",
    "\n",
    "Now, let's get the prediction results on the test data to see if our model can handle unseen data. Store the predicted labels in the variable `predictions`."
   ]
  },
  {
   "cell_type": "code",
   "execution_count": null,
   "metadata": {
    "executionInfo": {
     "elapsed": 30,
     "status": "aborted",
     "timestamp": 1657871742222,
     "user": {
      "displayName": "Courtney Ngo",
      "userId": "01361140591205022195"
     },
     "user_tz": -480
    },
    "id": "C1obi02o2SZx"
   },
   "outputs": [],
   "source": [
    "# Write your code here\n"
   ]
  },
  {
   "cell_type": "markdown",
   "metadata": {},
   "source": [
    "Print the predictions."
   ]
  },
  {
   "cell_type": "code",
   "execution_count": null,
   "metadata": {},
   "outputs": [],
   "source": [
    "print(predictions)"
   ]
  },
  {
   "cell_type": "markdown",
   "metadata": {
    "id": "WnCiT3JR2SZx"
   },
   "source": [
    "Compare the ground truth labels with the predicted labels. Store the total number of correct predictions in the variable `num_correct`."
   ]
  },
  {
   "cell_type": "code",
   "execution_count": null,
   "metadata": {
    "executionInfo": {
     "elapsed": 29,
     "status": "aborted",
     "timestamp": 1657871742222,
     "user": {
      "displayName": "Courtney Ngo",
      "userId": "01361140591205022195"
     },
     "user_tz": -480
    },
    "id": "45155Xxx2SZy"
   },
   "outputs": [],
   "source": [
    "# Write your code here\n"
   ]
  },
  {
   "cell_type": "markdown",
   "metadata": {},
   "source": [
    "Print the number of correct predictions."
   ]
  },
  {
   "cell_type": "code",
   "execution_count": null,
   "metadata": {},
   "outputs": [],
   "source": [
    "print(num_correct)"
   ]
  },
  {
   "cell_type": "markdown",
   "metadata": {
    "id": "tiJvrWiC2SZ5"
   },
   "source": [
    "Compute for the accuracy. Store the accuracy in the variable `accuracy`."
   ]
  },
  {
   "cell_type": "code",
   "execution_count": null,
   "metadata": {
    "executionInfo": {
     "elapsed": 30,
     "status": "aborted",
     "timestamp": 1657871742223,
     "user": {
      "displayName": "Courtney Ngo",
      "userId": "01361140591205022195"
     },
     "user_tz": -480
    },
    "id": "gQHJEaXy2SZ5"
   },
   "outputs": [],
   "source": [
    "# Write your code here\n"
   ]
  },
  {
   "cell_type": "markdown",
   "metadata": {},
   "source": [
    "Print the accuracy."
   ]
  },
  {
   "cell_type": "code",
   "execution_count": null,
   "metadata": {},
   "outputs": [],
   "source": [
    "print(accuracy)"
   ]
  },
  {
   "cell_type": "markdown",
   "metadata": {
    "id": "U9wQQlOj2SZ6"
   },
   "source": [
    "**Question #6:** What is the accuracy of the model when evaluated on the test set? Express your answer in a floating point number from 0 to 1. Limit to 4 decimal places."
   ]
  },
  {
   "cell_type": "markdown",
   "metadata": {
    "id": "TlePZ4KW2SZ6"
   },
   "source": [
    "<!--crumb;qna;Q6-->"
   ]
  },
  {
   "cell_type": "markdown",
   "metadata": {
    "id": "t14sINYz2SZ6"
   },
   "source": [
    "A: "
   ]
  },
  {
   "cell_type": "markdown",
   "metadata": {
    "id": "x5mX0ybp2SZ7"
   },
   "source": [
    "## Mini-batch gradient descent\n",
    "If you read the doc, you would notice that SGDClassifier's `fit()` function implements (single-instance) stochastic gradient descent to approximate the weight values. Let's try to implement the mini-batch gradient descent by using the classifier's `partial_fit()` method instead. \n",
    "\n",
    "- This will require repetitive (looped) calls of the function `partial_fit()`.\n",
    "- We will also need to get a subset of the data, a randomly selected subset per iteration. You will have to implement how to randomly select the mini-batch the model will train on."
   ]
  },
  {
   "cell_type": "markdown",
   "metadata": {
    "id": "DAGklJ_v2SZ7"
   },
   "source": [
    "Let's learn how to access elements of the array based on its indices. In the example below, `sample_array` contains values from 4 to 14, while `chosen_index` contains values 1, 3, 5. "
   ]
  },
  {
   "cell_type": "code",
   "execution_count": null,
   "metadata": {
    "executionInfo": {
     "elapsed": 30,
     "status": "aborted",
     "timestamp": 1657871742223,
     "user": {
      "displayName": "Courtney Ngo",
      "userId": "01361140591205022195"
     },
     "user_tz": -480
    },
    "id": "WpWDmpcH2SZ9"
   },
   "outputs": [],
   "source": [
    "# Scratch cell. Don't use the variables from the other cells\n",
    "sample_array = np.arange(4, 15, 1)\n",
    "chosen_index = [1, 3, 5]\n",
    "\n",
    "print('Array:', sample_array)\n",
    "print('Chosen indices:', chosen_index)"
   ]
  },
  {
   "cell_type": "markdown",
   "metadata": {
    "id": "trPFQkNr2SaA"
   },
   "source": [
    "Let's select a subset of `sample_array` by filtering it through the indices in `chosen_index`. Thus, `subset_array` will contain values from the `sample_array` with index 1, 3, and 5, which is 5, 7, 9."
   ]
  },
  {
   "cell_type": "code",
   "execution_count": null,
   "metadata": {
    "executionInfo": {
     "elapsed": 31,
     "status": "aborted",
     "timestamp": 1657871742224,
     "user": {
      "displayName": "Courtney Ngo",
      "userId": "01361140591205022195"
     },
     "user_tz": -480
    },
    "id": "hQIcCWRf2SaB"
   },
   "outputs": [],
   "source": [
    "# Scratch cell\n",
    "subset_array = sample_array[chosen_index]\n",
    "print(subset_array)"
   ]
  },
  {
   "cell_type": "markdown",
   "metadata": {
    "id": "VUWLJKwJ2SaD"
   },
   "source": [
    "## Creating a `DataLoader` class\n",
    "\n",
    "A data loader is usually used to shuffle the dataset and to divide it into multiple batches according to a batch size. For example, suppose that you have 20 instances in your dataset and you set your batch size to 5. Thus, a `DataLoader` object will divide your dataset into 4 batches with 5 instances each. If you are training your model, `DataLoader` should shuffle the instances. During testing, instances are not usually shuffled.\n",
    "\n",
    "Open `data_loader.py` file. Some of the functions in the `DataLoader` class are not yet implemented. We will implement the missing parts of this class. We will use this in implementing our mini-batch gradient descent."
   ]
  },
  {
   "cell_type": "markdown",
   "metadata": {
    "id": "ovUcBbnn2SaE"
   },
   "source": [
    "Import the `DataLoader` class."
   ]
  },
  {
   "cell_type": "code",
   "execution_count": null,
   "metadata": {
    "executionInfo": {
     "elapsed": 31,
     "status": "aborted",
     "timestamp": 1657871742224,
     "user": {
      "displayName": "Courtney Ngo",
      "userId": "01361140591205022195"
     },
     "user_tz": -480
    },
    "id": "faB5N14b2SaE"
   },
   "outputs": [],
   "source": [
    "from data_loader import DataLoader"
   ]
  },
  {
   "cell_type": "markdown",
   "metadata": {
    "id": "FaadoFAB2SaE"
   },
   "source": [
    "Let's create a dummy data, where `sample_X` contains the data and `sample_y` contains the corresponding ground truth labels. The variable `sample_X` has 20 instances with 5 features, where the value in each row corresponds to its index in the array."
   ]
  },
  {
   "cell_type": "code",
   "execution_count": null,
   "metadata": {
    "executionInfo": {
     "elapsed": 31,
     "status": "aborted",
     "timestamp": 1657871742225,
     "user": {
      "displayName": "Courtney Ngo",
      "userId": "01361140591205022195"
     },
     "user_tz": -480
    },
    "id": "8jV96XP72SaF"
   },
   "outputs": [],
   "source": [
    "sample_X = np.array([[i for _ in range(5)] for i in range(20)])\n",
    "sample_y = np.array([1 if i % 2 == 1 else 0 for i in range(20)])\n",
    "\n",
    "print('X\\n', sample_X)\n",
    "print('y\\n', sample_y)"
   ]
  },
  {
   "cell_type": "markdown",
   "metadata": {
    "id": "AA3sZg9i2SaF"
   },
   "source": [
    "Instantiate a `DataLoader` object. Pass `sample_X` as our `X`, `sample_y` as our `y`, and `5` as our `batch_size`."
   ]
  },
  {
   "cell_type": "code",
   "execution_count": null,
   "metadata": {
    "executionInfo": {
     "elapsed": 31,
     "status": "aborted",
     "timestamp": 1657871742225,
     "user": {
      "displayName": "Courtney Ngo",
      "userId": "01361140591205022195"
     },
     "user_tz": -480
    },
    "id": "GvjJgDTk2SaF"
   },
   "outputs": [],
   "source": [
    "# Write your code here\n"
   ]
  },
  {
   "cell_type": "markdown",
   "metadata": {
    "id": "pZdRzs-l2SaG"
   },
   "source": [
    "Open `data_loader.py` file and complete the `shuffle()` function in the `DataLoader` class. This function shuffles the indices of the dataset."
   ]
  },
  {
   "cell_type": "markdown",
   "metadata": {
    "id": "Mm_7Ylt32SaG"
   },
   "source": [
    "Implement the `shuffle()` function  in the `DataLoader` class. Inline comments should help you in completing the contents of the function. Upon implementing the function, execute the code below."
   ]
  },
  {
   "cell_type": "code",
   "execution_count": null,
   "metadata": {
    "executionInfo": {
     "elapsed": 32,
     "status": "aborted",
     "timestamp": 1657871742226,
     "user": {
      "displayName": "Courtney Ngo",
      "userId": "01361140591205022195"
     },
     "user_tz": -480
    },
    "id": "prIurjAR2SaH"
   },
   "outputs": [],
   "source": [
    "data_loader.shuffle()\n",
    "print(data_loader.indices)"
   ]
  },
  {
   "cell_type": "markdown",
   "metadata": {
    "id": "sjZyI0c02SaI"
   },
   "source": [
    "**Question #7:** What are the indices of the first batch after calling the `shuffle()` function?"
   ]
  },
  {
   "cell_type": "markdown",
   "metadata": {
    "id": "LNPX5h982SaJ"
   },
   "source": [
    "<!--crumb;qna;Q7-->"
   ]
  },
  {
   "cell_type": "markdown",
   "metadata": {
    "id": "D1e2moh42SaJ"
   },
   "source": [
    "A: "
   ]
  },
  {
   "cell_type": "markdown",
   "metadata": {
    "id": "lYYJA3lV2SaJ"
   },
   "source": [
    "Open `data_loader.py` file and complete the `get_batch()` function in the `DataLoader` class. This function returns `X` and `y` divided into different batches of size `batch_size`."
   ]
  },
  {
   "cell_type": "markdown",
   "metadata": {
    "id": "9wmW-h5b2SaK"
   },
   "source": [
    "Implement the `get_batch()` function  in the `DataLoader` class. Inline comments should help you in completing the contents of the function."
   ]
  },
  {
   "cell_type": "markdown",
   "metadata": {},
   "source": [
    "Get the batches by calling the function `get_batch()` and assign the return value to the variable `batches`."
   ]
  },
  {
   "cell_type": "code",
   "execution_count": null,
   "metadata": {
    "executionInfo": {
     "elapsed": 31,
     "status": "aborted",
     "timestamp": 1657871742226,
     "user": {
      "displayName": "Courtney Ngo",
      "userId": "01361140591205022195"
     },
     "user_tz": -480
    },
    "id": "-Hw41ERA2SaK"
   },
   "outputs": [],
   "source": [
    "# Write your code here\n"
   ]
  },
  {
   "cell_type": "markdown",
   "metadata": {
    "id": "j24EuRF82SaK"
   },
   "source": [
    "Let's print the first batch of instances. The first batch should contain 5 instances."
   ]
  },
  {
   "cell_type": "code",
   "execution_count": null,
   "metadata": {
    "executionInfo": {
     "elapsed": 32,
     "status": "aborted",
     "timestamp": 1657871742227,
     "user": {
      "displayName": "Courtney Ngo",
      "userId": "01361140591205022195"
     },
     "user_tz": -480
    },
    "id": "AKPE9BVJ2SaK"
   },
   "outputs": [],
   "source": [
    "X_batch, y_batch = batches\n",
    "\n",
    "print('First batch:')\n",
    "print('X', X_batch[0])\n",
    "print('y', y_batch[0])"
   ]
  },
  {
   "cell_type": "markdown",
   "metadata": {
    "id": "xZQu-DJg2SaM"
   },
   "source": [
    "**Question #8:** What are the indices of the first batch after calling the `get_batch()` function?"
   ]
  },
  {
   "cell_type": "markdown",
   "metadata": {
    "id": "BefFuP7H2SaM"
   },
   "source": [
    "<!--crumb;qna;Q8-->"
   ]
  },
  {
   "cell_type": "markdown",
   "metadata": {
    "id": "Bht4kVuW2SaN"
   },
   "source": [
    "A: "
   ]
  },
  {
   "cell_type": "markdown",
   "metadata": {
    "id": "WAh3_Smk2SaN"
   },
   "source": [
    "Training over all the batches (i.e., the whole dataset) constitute 1 epoch. In `scikit`, the hyperparameter `max_iters` actually corresponds to the number of epochs and not the number of iterations if you closely read the documentation."
   ]
  },
  {
   "cell_type": "markdown",
   "metadata": {
    "id": "PxgqRO-n2SaO"
   },
   "source": [
    "## Using the `DataLoader` class to train via mini-batch gradient descent\n",
    "\n",
    "Instantiate an `SGDClassifier` object. Set the following hyperparameters:\n",
    "- Loss function: 'log_loss'\n",
    "- Initial learning rate: 0.001\n",
    "- Learning rate: 'constant'\n",
    "- Random state: 1\n",
    "- Verbose: 0\n",
    "\n",
    "We will not set the hyperparameter `max_iter` since we will be training over the dataset manually using the `DataLoader` class."
   ]
  },
  {
   "cell_type": "code",
   "execution_count": null,
   "metadata": {
    "executionInfo": {
     "elapsed": 31,
     "status": "aborted",
     "timestamp": 1657871742227,
     "user": {
      "displayName": "Courtney Ngo",
      "userId": "01361140591205022195"
     },
     "user_tz": -480
    },
    "id": "d8av0va42SaO"
   },
   "outputs": [],
   "source": [
    "# Write your code here\n"
   ]
  },
  {
   "cell_type": "markdown",
   "metadata": {},
   "source": [
    "Set the maximum number of epochs to 200."
   ]
  },
  {
   "cell_type": "code",
   "execution_count": null,
   "metadata": {},
   "outputs": [],
   "source": [
    "max_epochs = 200"
   ]
  },
  {
   "cell_type": "markdown",
   "metadata": {
    "id": "eYAVAIaJ2SaO"
   },
   "source": [
    "Instantiate a `DataLoader` object. Pass the `X` and `y` of the train set of the Cat Dataset and `10` as our `batch_size`."
   ]
  },
  {
   "cell_type": "code",
   "execution_count": null,
   "metadata": {
    "executionInfo": {
     "elapsed": 31,
     "status": "aborted",
     "timestamp": 1657871742227,
     "user": {
      "displayName": "Courtney Ngo",
      "userId": "01361140591205022195"
     },
     "user_tz": -480
    },
    "id": "2RRJSCmL2SaP"
   },
   "outputs": [],
   "source": [
    "# Write your code here\n"
   ]
  },
  {
   "cell_type": "markdown",
   "metadata": {
    "id": "yiboolJp2SaP"
   },
   "source": [
    "Train your model. Complete the code below."
   ]
  },
  {
   "cell_type": "code",
   "execution_count": null,
   "metadata": {
    "executionInfo": {
     "elapsed": 31,
     "status": "aborted",
     "timestamp": 1657871742228,
     "user": {
      "displayName": "Courtney Ngo",
      "userId": "01361140591205022195"
     },
     "user_tz": -480
    },
    "id": "a9OXk8hT2SaQ"
   },
   "outputs": [],
   "source": [
    "from sklearn.metrics import log_loss\n",
    "\n",
    "e = 0\n",
    "is_converged = False\n",
    "previous_loss = 0\n",
    "labels = np.unique(y_train)\n",
    "\n",
    "# For each epoch\n",
    "while e < max_epochs and is_converged is not True:\n",
    "    \n",
    "    loss = 0\n",
    "    \n",
    "    # TODO: Get the batch for this epoch.\n",
    "    X_batch, y_batch = None\n",
    "    \n",
    "    # For each batch\n",
    "    for X, y in zip(X_batch, y_batch):\n",
    "        \n",
    "        # TODO: Partial fit the model to the subset you selected\n",
    "        # In partial fit, you have to pass a classes parameters, use labels as the value\n",
    "        \n",
    "        \n",
    "        # Compute the loss\n",
    "        y_pred = model.predict_proba(X_train)\n",
    "        loss += log_loss(y_train, y_pred)\n",
    "        \n",
    "    # Display the average loss per epoch\n",
    "    print('Epoch:', e + 1, '\\tLoss:', (loss / len(X_batch)))\n",
    "    \n",
    "    if abs(previous_loss - loss) < 0.005:\n",
    "        is_converged = True\n",
    "    else:\n",
    "        previous_loss = loss\n",
    "        e += 1"
   ]
  },
  {
   "cell_type": "markdown",
   "metadata": {
    "id": "0TvJPlTn2SaR"
   },
   "source": [
    "**Question #9:** How many epochs did the model train before convergence?"
   ]
  },
  {
   "cell_type": "markdown",
   "metadata": {
    "id": "6IYVqeEf2SaS"
   },
   "source": [
    "<!--crumb;qna;Q9-->"
   ]
  },
  {
   "cell_type": "markdown",
   "metadata": {
    "id": "NIFItnSj2SaS"
   },
   "source": [
    "A: "
   ]
  },
  {
   "cell_type": "markdown",
   "metadata": {
    "id": "AsxeVGGW2SaS"
   },
   "source": [
    "**Question #10:** What is the average loss of the model in epoch 5? Limit to 4 decimal places."
   ]
  },
  {
   "cell_type": "markdown",
   "metadata": {
    "id": "O-ABEGnq2SaT"
   },
   "source": [
    "<!--crumb;qna;Q10-->"
   ]
  },
  {
   "cell_type": "markdown",
   "metadata": {
    "id": "ybgbwMbG2SaV"
   },
   "source": [
    "A: "
   ]
  },
  {
   "cell_type": "markdown",
   "metadata": {
    "id": "oe0gyy8r2SaW"
   },
   "source": [
    "## Try our trained model on the test data\n",
    "\n",
    "Now, let's get the prediction results on the test data to see if our model can handle unseen cat images. Store the predicted labels in the variable `predictions`."
   ]
  },
  {
   "cell_type": "code",
   "execution_count": null,
   "metadata": {
    "executionInfo": {
     "elapsed": 31,
     "status": "aborted",
     "timestamp": 1657871742228,
     "user": {
      "displayName": "Courtney Ngo",
      "userId": "01361140591205022195"
     },
     "user_tz": -480
    },
    "id": "vjm8oafQ2SaW"
   },
   "outputs": [],
   "source": [
    "# Write your code here\n"
   ]
  },
  {
   "cell_type": "markdown",
   "metadata": {},
   "source": [
    "Print the predictions."
   ]
  },
  {
   "cell_type": "code",
   "execution_count": null,
   "metadata": {},
   "outputs": [],
   "source": [
    "print(predictions)"
   ]
  },
  {
   "cell_type": "markdown",
   "metadata": {
    "id": "CG5W7WXE2SaX"
   },
   "source": [
    "Compare the ground truth labels with the predicted labels. Store the total number of correct predictions in the variable `num_correct`."
   ]
  },
  {
   "cell_type": "code",
   "execution_count": null,
   "metadata": {
    "executionInfo": {
     "elapsed": 31,
     "status": "aborted",
     "timestamp": 1657871742229,
     "user": {
      "displayName": "Courtney Ngo",
      "userId": "01361140591205022195"
     },
     "user_tz": -480
    },
    "id": "P6eI4jo92SaY"
   },
   "outputs": [],
   "source": [
    "# Write your code here\n"
   ]
  },
  {
   "cell_type": "markdown",
   "metadata": {},
   "source": [
    "Print the number of correct predictions."
   ]
  },
  {
   "cell_type": "code",
   "execution_count": null,
   "metadata": {},
   "outputs": [],
   "source": [
    "print(num_correct)"
   ]
  },
  {
   "cell_type": "markdown",
   "metadata": {
    "id": "hEK6epEW2Sac"
   },
   "source": [
    "Compute for the accuracy. Store the accuracy in the variable `accuracy`."
   ]
  },
  {
   "cell_type": "code",
   "execution_count": null,
   "metadata": {
    "executionInfo": {
     "elapsed": 31,
     "status": "aborted",
     "timestamp": 1657871742229,
     "user": {
      "displayName": "Courtney Ngo",
      "userId": "01361140591205022195"
     },
     "user_tz": -480
    },
    "id": "rENLRT_J2Sad"
   },
   "outputs": [],
   "source": [
    "# Write your code here\n"
   ]
  },
  {
   "cell_type": "markdown",
   "metadata": {},
   "source": [
    "Print the accuracy."
   ]
  },
  {
   "cell_type": "code",
   "execution_count": null,
   "metadata": {},
   "outputs": [],
   "source": [
    "print(accuracy)"
   ]
  },
  {
   "cell_type": "markdown",
   "metadata": {
    "id": "2DN3zBgs2Sae"
   },
   "source": [
    "**Question #11:** What is the accuracy of the model when evaluated on the test set? Express your answer in a floating point number from 0 to 1. Limit to 4 decimal places."
   ]
  },
  {
   "cell_type": "markdown",
   "metadata": {
    "id": "Q3DW6k0Q2Saf"
   },
   "source": [
    "<!--crumb;qna;Q11-->"
   ]
  },
  {
   "cell_type": "markdown",
   "metadata": {
    "id": "1BVkQAba2Saf"
   },
   "source": [
    "A: "
   ]
  },
  {
   "cell_type": "markdown",
   "metadata": {
    "id": "f9fpFaYn2Sag"
   },
   "source": [
    "**Sanity Check:** You will not see much difference in the performance (unless we try a bigger dataset). But mini-batch gradient descent is expected to reach the minimum error (converge) quicker than stochastic gradient descent."
   ]
  },
  {
   "cell_type": "markdown",
   "metadata": {
    "id": "G0A1FPfs2Sag"
   },
   "source": [
    "Store the weights of the model in the variable `weights`. Then, display the first 5 weights of the model."
   ]
  },
  {
   "cell_type": "code",
   "execution_count": null,
   "metadata": {
    "executionInfo": {
     "elapsed": 31,
     "status": "aborted",
     "timestamp": 1657871742229,
     "user": {
      "displayName": "Courtney Ngo",
      "userId": "01361140591205022195"
     },
     "user_tz": -480
    },
    "id": "odXnv_Fx2Sak"
   },
   "outputs": [],
   "source": [
    "# Write your code here\n"
   ]
  },
  {
   "cell_type": "markdown",
   "metadata": {
    "id": "-CWesbXt2Sal"
   },
   "source": [
    "**Question #12:** How many weights does the model have?"
   ]
  },
  {
   "cell_type": "markdown",
   "metadata": {
    "id": "6lbX4Ams2Sal"
   },
   "source": [
    "<!--crumb;qna;Q12-->"
   ]
  },
  {
   "cell_type": "markdown",
   "metadata": {
    "id": "tAs5IxhQ2San"
   },
   "source": [
    "A: "
   ]
  },
  {
   "cell_type": "markdown",
   "metadata": {
    "id": "EGIal5pZ2Sao"
   },
   "source": [
    "**Question #13:** What is the value of the first weight of the model? Limit to 4 decimal places."
   ]
  },
  {
   "cell_type": "markdown",
   "metadata": {
    "id": "yp9z2HoB2Sao"
   },
   "source": [
    "<!--crumb;qna;Q13-->"
   ]
  },
  {
   "cell_type": "markdown",
   "metadata": {
    "id": "zfIpkdz42Sap"
   },
   "source": [
    "A: "
   ]
  },
  {
   "cell_type": "markdown",
   "metadata": {
    "id": "4gJRh1Z62Sas"
   },
   "source": [
    "**Question #14:** With respect to the input data, what does each weight represent?"
   ]
  },
  {
   "cell_type": "markdown",
   "metadata": {
    "id": "rqAp4ryX2Sau"
   },
   "source": [
    "<!--crumb;qna;Q14-->"
   ]
  },
  {
   "cell_type": "markdown",
   "metadata": {
    "id": "7z5Bsv9i2Sau"
   },
   "source": [
    "A: "
   ]
  },
  {
   "cell_type": "markdown",
   "metadata": {
    "id": "toWqPntu2Sau"
   },
   "source": [
    "Print out the probabilities of each instance in the test set being `y=0` and `y=1`."
   ]
  },
  {
   "cell_type": "code",
   "execution_count": null,
   "metadata": {
    "executionInfo": {
     "elapsed": 31,
     "status": "aborted",
     "timestamp": 1657871742230,
     "user": {
      "displayName": "Courtney Ngo",
      "userId": "01361140591205022195"
     },
     "user_tz": -480
    },
    "id": "QY3Q9SBC2Sav",
    "scrolled": false
   },
   "outputs": [],
   "source": [
    "# Write your code here\n"
   ]
  },
  {
   "cell_type": "markdown",
   "metadata": {},
   "source": [
    "**Question #15:** Given the probabilities, what is the class of the 2nd instance in the test set?"
   ]
  },
  {
   "cell_type": "markdown",
   "metadata": {},
   "source": [
    "<!--crumb;qna;Q15-->"
   ]
  },
  {
   "cell_type": "markdown",
   "metadata": {},
   "source": [
    "A: "
   ]
  },
  {
   "cell_type": "markdown",
   "metadata": {
    "id": "1zNx6JTq2Sav"
   },
   "source": [
    "## Testing with pictures\n",
    "Let's see the actual image next to the ground truth and our model's predictions"
   ]
  },
  {
   "cell_type": "code",
   "execution_count": null,
   "metadata": {
    "executionInfo": {
     "elapsed": 31,
     "status": "aborted",
     "timestamp": 1657871742230,
     "user": {
      "displayName": "Courtney Ngo",
      "userId": "01361140591205022195"
     },
     "user_tz": -480
    },
    "id": "IYmOhbrr2Sav",
    "scrolled": true
   },
   "outputs": [],
   "source": [
    "classes = ['not cat', 'cat']\n",
    "random_index = np.squeeze(np.random.choice(len(y_test), 1))\n",
    "\n",
    "prediction = model.predict([X_test[random_index]])\n",
    "plt.imshow(test_images[int(random_index)])\n",
    "plt.axis('off')\n",
    "plt.title('y = ' + classes[(np.squeeze(y_test[random_index]))] + ' | prediction = ' + classes[np.squeeze(prediction)])"
   ]
  },
  {
   "cell_type": "markdown",
   "metadata": {
    "id": "F2xJFwKm2Sav"
   },
   "source": [
    "# Conclusion\n",
    "\n",
    "Contrary to what its name implies, logistic regression is not a regression model. It is used for classification.\n",
    "\n",
    "It is named like that because logistic regression is just like linear regression up until the activation function (sigmoid/logistic). But, instead of giving a raw score, the scores are plugged into a logistic/sigmoid function which returns the probability of whether it's y==1. Sigmoid/logistic is the first activiation function we have encountered, but there are various others which we will encounter soon in neural networks.\n",
    "\n",
    "As you should've seen in an earlier cell, the probabilities of the model will always be given out in 2s for binomial - one for each of your classes. They both should total to 1. In the next notebook, we will tackle multinomial logistic regression where there are more than 2 classes. You will see the same format for your probabilities, but now the shape will be `(num_test, num_classes)`.\n",
    "\n",
    "As we are already classifying, we normally won't present our hypothesis model as the line that tries to capture our model. Instead, we should think about boundaries between the two classes.\n"
   ]
  },
  {
   "cell_type": "markdown",
   "metadata": {
    "id": "4EkNkqDx2Saw"
   },
   "source": [
    "### <center>fin</center>"
   ]
  },
  {
   "cell_type": "markdown",
   "metadata": {
    "id": "wQOM0z0L2Saw"
   },
   "source": [
    "\n",
    "<!-- DO NOT MODIFY OR DELETE THIS -->\n",
    "<sup>made/compiled by daniel stanley tan & courtney anne ngo 🐰 & thomas james tiam-lee</sup> <br>\n",
    "<sup>for comments, corrections, suggestions, please email:</sup><sup> danieltan07@gmail.com & courtneyngo@gmail.com & thomasjamestiamlee@gmail.com</sup><br>\n",
    "<sup>please cc your instructor, too</sup>\n",
    "<!-- DO NOT MODIFY OR DELETE THIS -->"
   ]
  }
 ],
 "metadata": {
  "colab": {
   "name": "03b - Logistic Regression - Answer.ipynb",
   "provenance": []
  },
  "kernelspec": {
   "display_name": "Python 3 (ipykernel)",
   "language": "python",
   "name": "python3"
  },
  "language_info": {
   "codemirror_mode": {
    "name": "ipython",
    "version": 3
   },
   "file_extension": ".py",
   "mimetype": "text/x-python",
   "name": "python",
   "nbconvert_exporter": "python",
   "pygments_lexer": "ipython3",
   "version": "3.10.6"
  }
 },
 "nbformat": 4,
 "nbformat_minor": 1
}
