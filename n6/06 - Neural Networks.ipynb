{
 "cells": [
  {
   "cell_type": "markdown",
   "metadata": {},
   "source": [
    "__Name/Section:__"
   ]
  },
  {
   "cell_type": "markdown",
   "metadata": {},
   "source": [
    "A: Aaron Palpallatoc / S11"
   ]
  },
  {
   "cell_type": "markdown",
   "metadata": {},
   "source": [
    "# Neural Networks Exercise\n",
    "\n",
    "In this notebook, we will extend our `SGDClassifier` into a 2-layer neural network to train on a multinomial dataset.\n",
    "\n",
    "**Note: there is a jump from how scikit and PyTorch train their models.** It might be helpful to think that PyTorch sets the design of the computation graph first, then starts a session to \"feed\" the data for training.\n"
   ]
  },
  {
   "cell_type": "markdown",
   "metadata": {},
   "source": [
    "## Instructions\n",
    "* Read each cell and implement the TODOs sequentially. The markdown/text cells also contain instructions which you need to follow to get the whole notebook working.\n",
    "* Do not change the variable names unless the instructor allows you to.\n",
    "* Answer all the markdown/text cells with 'A: ' on them. The answer must strictly consume one line only.\n",
    "* You are expected to search how to some functions work on the Internet or via the docs. \n",
    "* There are commented markdown cells that have crumbs. Do not delete them or separate them from the cell originally directly below it. \n",
    "* You may add new cells for \"scrap work\" as long as the crumbs are not separated from the cell below it.\n",
    "* The notebooks will undergo a 'Restart and Run All' command, so make sure that your code is working properly.\n",
    "* You are expected to understand the data set loading and processing separately from this class.\n",
    "* You may not reproduce this notebook or share them to anyone."
   ]
  },
  {
   "cell_type": "markdown",
   "metadata": {},
   "source": [
    "## Import\n",
    "Import **matplotlib**, **csv**, **numpy**, and **torch**."
   ]
  },
  {
   "cell_type": "code",
   "execution_count": 1,
   "metadata": {},
   "outputs": [],
   "source": [
    "from sklearn.model_selection import train_test_split\n",
    "import matplotlib.pyplot as plt\n",
    "import torch.optim as optim\n",
    "import torch.nn as nn\n",
    "import numpy as np\n",
    "import torch\n",
    "import csv\n",
    "import math\n",
    "\n",
    "%matplotlib inline\n",
    "\n",
    "# set default size of plots\n",
    "plt.rcParams['figure.figsize'] = (8.0, 8.0)\n",
    "plt.rcParams['image.interpolation'] = 'nearest'\n",
    "\n",
    "torch.manual_seed(0)\n",
    "\n",
    "\n",
    "%load_ext autoreload\n",
    "%autoreload 2"
   ]
  },
  {
   "cell_type": "markdown",
   "metadata": {},
   "source": [
    "# Synthetic Dataset\n",
    "\n",
    "Let's use the `make_blobs()` function to create a dataset with 1650 instances centered in (-6, 0), (0, 0), and (-3, -5)."
   ]
  },
  {
   "cell_type": "code",
   "execution_count": 2,
   "metadata": {},
   "outputs": [],
   "source": [
    "from sklearn.datasets import make_blobs\n",
    "\n",
    "centers = [[-6, 0], [0, 0], [-3, -5]]\n",
    "\n",
    "X, y = make_blobs(n_samples=1650, \n",
    "                  centers=centers, \n",
    "                  random_state=5)"
   ]
  },
  {
   "cell_type": "markdown",
   "metadata": {},
   "source": [
    "Let's get the number of instances per class. Below are our classes and their corresponding colors in the graph later.\n",
    "- class `0`, violet\n",
    "- class `1`, turquoise\n",
    "- class `2`, yellow"
   ]
  },
  {
   "cell_type": "code",
   "execution_count": 3,
   "metadata": {},
   "outputs": [
    {
     "name": "stdout",
     "output_type": "stream",
     "text": [
      "Number of class 0: 550\n",
      "Number of class 1: 550\n",
      "Number of class 2: 550\n"
     ]
    }
   ],
   "source": [
    "X_0 = X[y == 0]\n",
    "X_1 = X[y == 1]\n",
    "X_2 = X[y == 2]\n",
    "\n",
    "print('Number of class 0:', len(X_0))\n",
    "print('Number of class 1:', len(X_1))\n",
    "print('Number of class 2:', len(X_2))"
   ]
  },
  {
   "cell_type": "markdown",
   "metadata": {},
   "source": [
    "There are 550 instances for each class."
   ]
  },
  {
   "cell_type": "markdown",
   "metadata": {},
   "source": [
    "Let's divide the dataset into train and test set. The test set will contain 50 instances for each class."
   ]
  },
  {
   "cell_type": "code",
   "execution_count": 4,
   "metadata": {},
   "outputs": [
    {
     "name": "stdout",
     "output_type": "stream",
     "text": [
      "(150, 2)\n",
      "(150,)\n"
     ]
    }
   ],
   "source": [
    "np.random.seed(10)\n",
    "\n",
    "# Select 50 `class 0` instances\n",
    "selected_0 = np.random.choice(np.arange(len(X_0)),\n",
    "                              size=50,\n",
    "                              replace=False)\n",
    "\n",
    "# Select 50 `class 1` instances\n",
    "selected_1 = np.random.choice(np.arange(len(X_1)),\n",
    "                              size=50,\n",
    "                              replace=False)\n",
    "\n",
    "# Select 50 `class 2` instances\n",
    "selected_2 = np.random.choice(np.arange(len(X_2)),\n",
    "                              size=50,\n",
    "                              replace=False)\n",
    "\n",
    "# Form the test set\n",
    "X_test = np.concatenate((X_0[selected_0],\n",
    "                         X_1[selected_1],\n",
    "                         X_2[selected_2]))\n",
    "y_test = np.concatenate((np.array([0 for _ in range(50)]),\n",
    "                         np.array([1 for _ in range(50)]),\n",
    "                         np.array([2 for _ in range(50)])))\n",
    "\n",
    "print(X_test.shape)\n",
    "print(y_test.shape)"
   ]
  },
  {
   "cell_type": "markdown",
   "metadata": {},
   "source": [
    "The remaining 1500 instances will be a part of the train set, where each class has 500 instances."
   ]
  },
  {
   "cell_type": "code",
   "execution_count": 5,
   "metadata": {},
   "outputs": [
    {
     "name": "stdout",
     "output_type": "stream",
     "text": [
      "(1500, 2)\n",
      "(1500,)\n"
     ]
    }
   ],
   "source": [
    "X_train = np.concatenate((np.delete(X_0, selected_0, 0),\n",
    "                          np.delete(X_1, selected_1, 0),\n",
    "                          np.delete(X_2, selected_2, 0)))\n",
    "y_train = np.concatenate((np.array([0 for _ in range(500)]),\n",
    "                          np.array([1 for _ in range(500)]),\n",
    "                          np.array([2 for _ in range(500)])))\n",
    "\n",
    "print(X_train.shape)\n",
    "print(y_train.shape)"
   ]
  },
  {
   "cell_type": "markdown",
   "metadata": {},
   "source": [
    "Visualize the train data."
   ]
  },
  {
   "cell_type": "code",
   "execution_count": 6,
   "metadata": {},
   "outputs": [
    {
     "data": {
      "text/plain": [
       "Text(0.5, 1.0, 'Train data')"
      ]
     },
     "execution_count": 6,
     "metadata": {},
     "output_type": "execute_result"
    },
    {
     "data": {
      "image/png": "[encoded data removed]",
      "text/plain": [
       "<Figure size 800x800 with 1 Axes>"
      ]
     },
     "metadata": {},
     "output_type": "display_data"
    }
   ],
   "source": [
    "plt.scatter(X_train[:, 0], X_train[:, 1], c=y_train)\n",
    "plt.title('Train data')"
   ]
  },
  {
   "cell_type": "markdown",
   "metadata": {},
   "source": [
    "Visualize the test data."
   ]
  },
  {
   "cell_type": "code",
   "execution_count": 7,
   "metadata": {},
   "outputs": [
    {
     "data": {
      "text/plain": [
       "Text(0.5, 1.0, 'Test data')"
      ]
     },
     "execution_count": 7,
     "metadata": {},
     "output_type": "execute_result"
    },
    {
     "data": {
      "image/png": "[encoded data removed]",
      "text/plain": [
       "<Figure size 800x800 with 1 Axes>"
      ]
     },
     "metadata": {},
     "output_type": "display_data"
    }
   ],
   "source": [
    "plt.scatter(X_test[:, 0], X_test[:, 1], c=y_test)\n",
    "plt.title('Test data')"
   ]
  },
  {
   "cell_type": "markdown",
   "metadata": {},
   "source": [
    "**Sanity check:** You should have a similar graph like our training data, but now with fewer points. The colors should appear in the same area, too."
   ]
  },
  {
   "cell_type": "markdown",
   "metadata": {},
   "source": [
    "Convert the `np.ndarray` arrays to `torch.Tensor`. We use `torch.Tensor` in PyTorch."
   ]
  },
  {
   "cell_type": "markdown",
   "metadata": {},
   "source": [
    "Convert the variable `X_train` to the datatype `torch.Tensor` and assign the return value to variable `X_train`."
   ]
  },
  {
   "cell_type": "code",
   "execution_count": 8,
   "metadata": {},
   "outputs": [],
   "source": [
    "# Write your code here\n",
    "X_train = torch.Tensor(X_train)"
   ]
  },
  {
   "cell_type": "markdown",
   "metadata": {},
   "source": [
    "Convert the variable `y_train` to the datatype `torch.Tensor` and assign the return value to variable `y_train`."
   ]
  },
  {
   "cell_type": "code",
   "execution_count": 9,
   "metadata": {},
   "outputs": [],
   "source": [
    "# Write your code here\n",
    "y_train = torch.Tensor(y_train)"
   ]
  },
  {
   "cell_type": "markdown",
   "metadata": {},
   "source": [
    "Convert the variable `X_test` to the datatype `torch.Tensor` and assign the return value to variable `X_test`."
   ]
  },
  {
   "cell_type": "code",
   "execution_count": 10,
   "metadata": {},
   "outputs": [],
   "source": [
    "# Write your code here\n",
    "X_test = torch.Tensor(X_test)"
   ]
  },
  {
   "cell_type": "markdown",
   "metadata": {},
   "source": [
    "Convert the variable `y_test` to the datatype `torch.Tensor` and assign the return value to variable `y_test`."
   ]
  },
  {
   "cell_type": "code",
   "execution_count": 11,
   "metadata": {},
   "outputs": [],
   "source": [
    "# Write your code here\n",
    "y_test = torch.Tensor(y_test)"
   ]
  },
  {
   "cell_type": "markdown",
   "metadata": {},
   "source": [
    "This is the data which we will feed into our neural network model."
   ]
  },
  {
   "cell_type": "markdown",
   "metadata": {},
   "source": [
    "# Neural Network\n",
    "\n",
    "We will follow the pseudocode below:\n",
    "\n",
    "\n",
    "1. Set up the size of our network.\n",
    "2. Initialize weights variables.\n",
    "\n",
    "start loop\n",
    "3. Do forward propagation.\n",
    "4. Get the predictions.\n",
    "5. Calculate for the loss.\n",
    "6. Do backward propagation to update/optimize the weight variables.\n",
    "\n",
    "end loop\n",
    "\n",
    "Open `neural_network.py` file. Some of the functions in the `NeuralNetwork` class are not yet implemented. We will implement the missing parts of this class."
   ]
  },
  {
   "cell_type": "markdown",
   "metadata": {},
   "source": [
    "Import the `NeuralNetwork` class."
   ]
  },
  {
   "cell_type": "code",
   "execution_count": 12,
   "metadata": {},
   "outputs": [],
   "source": [
    "from neural_network import NeuralNetwork"
   ]
  },
  {
   "cell_type": "markdown",
   "metadata": {},
   "source": [
    "## Step 1. Setting up the size of the network\n",
    "\n",
    "Instantiate a `NeuralNetwork` object. Set the following parameters:\n",
    "- `list_hidden` = (5, 10)\n",
    "- `activation` = `sigmoid`\n",
    "\n",
    "Here, we are creating a Neural Network with two hidden layers, where there are 5 units in the first layer and 10 units in the second layer.\n",
    "\n",
    "Set the other parameters according to the synthetic dataset that we created earlier."
   ]
  },
  {
   "cell_type": "code",
   "execution_count": 13,
   "metadata": {},
   "outputs": [],
   "source": [
    "# Write your code here\n",
    "network = NeuralNetwork(\n",
    "    list_hidden=(5, 10),\n",
    "    activation='sigmoid',\n",
    "    input_size=2,\n",
    "    num_classes=3\n",
    ")"
   ]
  },
  {
   "cell_type": "markdown",
   "metadata": {},
   "source": [
    "Open `neural_network.py` file and complete the `create_network()` function in the `NeuralNetwork` class. This function creates the layers of the neural network."
   ]
  },
  {
   "cell_type": "markdown",
   "metadata": {},
   "source": [
    "Implement the `create_network()` function  in the `NeuralNetwork` class. Inline comments should help you in completing the contents of the function."
   ]
  },
  {
   "cell_type": "markdown",
   "metadata": {},
   "source": [
    "Create the layers of the neural network by calling the function `create_network()`."
   ]
  },
  {
   "cell_type": "code",
   "execution_count": 14,
   "metadata": {},
   "outputs": [],
   "source": [
    "# Write your code here\n",
    "network.create_network()"
   ]
  },
  {
   "cell_type": "markdown",
   "metadata": {},
   "source": [
    "Display the structure of the neural network."
   ]
  },
  {
   "cell_type": "code",
   "execution_count": 15,
   "metadata": {},
   "outputs": [
    {
     "name": "stdout",
     "output_type": "stream",
     "text": [
      "NeuralNetwork(\n",
      "  (layers): Sequential(\n",
      "    (0): Linear(in_features=2, out_features=5, bias=True)\n",
      "    (1): Sigmoid()\n",
      "    (2): Linear(in_features=5, out_features=10, bias=True)\n",
      "    (3): Sigmoid()\n",
      "    (4): Linear(in_features=10, out_features=3, bias=True)\n",
      "    (5): Softmax(dim=1)\n",
      "  )\n",
      ")\n"
     ]
    }
   ],
   "source": [
    "print(network)"
   ]
  },
  {
   "cell_type": "markdown",
   "metadata": {},
   "source": [
    "**Question #1:** Give the value of the `in_features` of the first `nn.Linear` module (Index 0)."
   ]
  },
  {
   "cell_type": "markdown",
   "metadata": {},
   "source": [
    "<!--crumb;qna;Q1-->"
   ]
  },
  {
   "cell_type": "markdown",
   "metadata": {},
   "source": [
    "A: 2"
   ]
  },
  {
   "cell_type": "markdown",
   "metadata": {},
   "source": [
    "**Question #2:** Give the value of the `out_features` of the last `nn.Linear` module (Index 4)."
   ]
  },
  {
   "cell_type": "markdown",
   "metadata": {},
   "source": [
    "<!--crumb;qna;Q2-->"
   ]
  },
  {
   "cell_type": "markdown",
   "metadata": {},
   "source": [
    "A: 3"
   ]
  },
  {
   "cell_type": "markdown",
   "metadata": {},
   "source": [
    "**Question #3:** Give the total number of parameters of the model."
   ]
  },
  {
   "cell_type": "markdown",
   "metadata": {},
   "source": [
    "<!--crumb;qna;Q3-->"
   ]
  },
  {
   "cell_type": "markdown",
   "metadata": {},
   "source": [
    "A: 108"
   ]
  },
  {
   "cell_type": "markdown",
   "metadata": {},
   "source": [
    "## Step 2. Initializing the model weights\n",
    "\n",
    "Open `neural_network.py` file and complete the `init_weights()` function in the `NeuralNetwork` class. This function initializes the weight of the network. Weights of a `nn.Linear` layer should be initialized from a normal distribution with mean `0` and standard deviation `0.1`. Bias terms of a `nn.Linear` layer should be initialized with a constant value of `0`."
   ]
  },
  {
   "cell_type": "markdown",
   "metadata": {},
   "source": [
    "Implement the `init_weights()` function  in the `NeuralNetwork` class. Inline comments should help you in completing the contents of the function."
   ]
  },
  {
   "cell_type": "markdown",
   "metadata": {},
   "source": [
    "Initialize the weights of the neural network by calling the function `init_weights()`."
   ]
  },
  {
   "cell_type": "code",
   "execution_count": 16,
   "metadata": {},
   "outputs": [],
   "source": [
    "# Write your code here\n",
    "network.init_weights()"
   ]
  },
  {
   "cell_type": "markdown",
   "metadata": {},
   "source": [
    "Display the weight of the 1st `nn.Linear` layer in the network."
   ]
  },
  {
   "cell_type": "code",
   "execution_count": 17,
   "metadata": {
    "scrolled": false
   },
   "outputs": [
    {
     "name": "stdout",
     "output_type": "stream",
     "text": [
      "Parameter containing:\n",
      "tensor([[ 0.0392, -0.0224],\n",
      "        [-0.0320, -0.1205],\n",
      "        [ 0.1044, -0.0633],\n",
      "        [ 0.0573,  0.0541],\n",
      "        [-0.0392, -0.1043]], requires_grad=True)\n"
     ]
    }
   ],
   "source": [
    "print(network.layers[0].weight)"
   ]
  },
  {
   "cell_type": "markdown",
   "metadata": {},
   "source": [
    "**Sanity check:** The output of the previous cell should look like:\n",
    "\n",
    "```\n",
    "Parameter containing:\n",
    "tensor([[ x.xxxx, x.xxxx],\n",
    "        ...\n",
    "        [ x.xxxx, x.xxxx]], requires_grad=True)```\n",
    "        \n",
    "where `x.xxxx` is some float."
   ]
  },
  {
   "cell_type": "markdown",
   "metadata": {},
   "source": [
    "**Question #4:** Give the first value in the first row of the weights of the 1st `nn.Linear` layer in the network."
   ]
  },
  {
   "cell_type": "markdown",
   "metadata": {},
   "source": [
    "<!--crumb;qna;Q4-->"
   ]
  },
  {
   "cell_type": "markdown",
   "metadata": {},
   "source": [
    "A: 0.0392"
   ]
  },
  {
   "cell_type": "markdown",
   "metadata": {},
   "source": [
    "Display the bias term of the 1st `nn.Linear` layer in the network."
   ]
  },
  {
   "cell_type": "code",
   "execution_count": 18,
   "metadata": {},
   "outputs": [
    {
     "name": "stdout",
     "output_type": "stream",
     "text": [
      "Parameter containing:\n",
      "tensor([0., 0., 0., 0., 0.], requires_grad=True)\n"
     ]
    }
   ],
   "source": [
    "print(network.layers[0].bias)"
   ]
  },
  {
   "cell_type": "markdown",
   "metadata": {},
   "source": [
    "**Sanity check:** The output of the previous cell should be:\n",
    "\n",
    "```\n",
    "Parameter containing:\n",
    "tensor([0., 0., 0., 0., 0.], requires_grad=True)```"
   ]
  },
  {
   "cell_type": "markdown",
   "metadata": {},
   "source": [
    "Display the weight of the 2nd `nn.Linear` layer in the network."
   ]
  },
  {
   "cell_type": "code",
   "execution_count": 19,
   "metadata": {
    "scrolled": true
   },
   "outputs": [
    {
     "name": "stdout",
     "output_type": "stream",
     "text": [
      "Parameter containing:\n",
      "tensor([[ 0.0030, -0.0050,  0.1065,  0.0886, -0.0811],\n",
      "        [ 0.0674, -0.1123, -0.0092,  0.0140,  0.1119],\n",
      "        [ 0.0315,  0.1753, -0.0740, -0.1242, -0.0175],\n",
      "        [ 0.0699, -0.1294, -0.0024, -0.0235, -0.0709],\n",
      "        [-0.0866, -0.0266,  0.0167,  0.0791, -0.0932],\n",
      "        [-0.0858, -0.0965, -0.0099, -0.0299, -0.0065],\n",
      "        [-0.1572, -0.1321,  0.0045,  0.1585, -0.0236],\n",
      "        [ 0.0944,  0.0546, -0.1358,  0.1145, -0.0965],\n",
      "        [-0.0259, -0.0042,  0.0189,  0.2143, -0.0278],\n",
      "        [ 0.0551,  0.0015, -0.0918, -0.1234,  0.0254]], requires_grad=True)\n"
     ]
    }
   ],
   "source": [
    "# Write your code here\n",
    "print(network.layers[2].weight)"
   ]
  },
  {
   "cell_type": "markdown",
   "metadata": {},
   "source": [
    "**Question #5:** Give the last value in the last row of the weights of the 2nd `nn.Linear` layer in the network."
   ]
  },
  {
   "cell_type": "markdown",
   "metadata": {},
   "source": [
    "<!--crumb;qna;Q5-->"
   ]
  },
  {
   "cell_type": "markdown",
   "metadata": {},
   "source": [
    "A: 0.0254"
   ]
  },
  {
   "cell_type": "markdown",
   "metadata": {},
   "source": [
    "Display the bias term of the 2nd `nn.Linear` layer in the network."
   ]
  },
  {
   "cell_type": "code",
   "execution_count": 20,
   "metadata": {},
   "outputs": [
    {
     "name": "stdout",
     "output_type": "stream",
     "text": [
      "Parameter containing:\n",
      "tensor([0., 0., 0., 0., 0., 0., 0., 0., 0., 0.], requires_grad=True)\n"
     ]
    }
   ],
   "source": [
    "# Write your code here\n",
    "print(network.layers[2].bias)"
   ]
  },
  {
   "cell_type": "markdown",
   "metadata": {},
   "source": [
    "Display the weight of the 3rd `nn.Linear` layer in the network."
   ]
  },
  {
   "cell_type": "code",
   "execution_count": 21,
   "metadata": {},
   "outputs": [
    {
     "name": "stdout",
     "output_type": "stream",
     "text": [
      "Parameter containing:\n",
      "tensor([[ 0.0334,  0.0176,  0.0486,  0.0277,  0.0599, -0.0302, -0.0745, -0.1091,\n",
      "         -0.1047, -0.1577],\n",
      "        [ 0.0427,  0.0679,  0.0918,  0.0481,  0.0506,  0.1519, -0.0490,  0.0923,\n",
      "          0.1998,  0.1483],\n",
      "        [ 0.0195, -0.1137, -0.0924,  0.1874,  0.1012, -0.1448,  0.0176,  0.0606,\n",
      "          0.0311, -0.1692]], requires_grad=True)\n"
     ]
    }
   ],
   "source": [
    "# Write your code here\n",
    "print(network.layers[4].weight)"
   ]
  },
  {
   "cell_type": "markdown",
   "metadata": {},
   "source": [
    "**Question #6:** Give the first value in the first row of the weights of the 3rd `nn.Linear` layer in the network."
   ]
  },
  {
   "cell_type": "markdown",
   "metadata": {},
   "source": [
    "<!--crumb;qna;Q6-->"
   ]
  },
  {
   "cell_type": "markdown",
   "metadata": {},
   "source": [
    "A: 0.0334"
   ]
  },
  {
   "cell_type": "markdown",
   "metadata": {},
   "source": [
    "Display the bias term of the 3rd `nn.Linear` layer in the network."
   ]
  },
  {
   "cell_type": "code",
   "execution_count": 22,
   "metadata": {
    "scrolled": true
   },
   "outputs": [
    {
     "name": "stdout",
     "output_type": "stream",
     "text": [
      "Parameter containing:\n",
      "tensor([0., 0., 0.], requires_grad=True)\n"
     ]
    }
   ],
   "source": [
    "# Write your code here\n",
    "print(network.layers[4].bias)"
   ]
  },
  {
   "cell_type": "markdown",
   "metadata": {},
   "source": [
    "## Step 3. Forward propagation\n",
    "\n",
    "Forward propagation computes the output of each layer in the neural network. \n",
    "\n",
    "Open `neural_network.py` file and complete the `forward_manual()` function in the `NeuralNetwork` class. This function performs the forward propagation of the model, implemented manually. You have to manually implement the computation of the output of each linear layer in the network."
   ]
  },
  {
   "cell_type": "markdown",
   "metadata": {},
   "source": [
    "Implement the `forward_manual()` function  in the `NeuralNetwork` class. Inline comments should help you in completing the contents of the function."
   ]
  },
  {
   "cell_type": "markdown",
   "metadata": {},
   "source": [
    "Perform forward propagation in the model by calling the function `forward_manual`. Pass the training instance in index `0`. Set `verbose=True`. Assign the return values to variables `scores` and `probabilities.`\n",
    "\n",
    "The function should display the output of the model for in each layer."
   ]
  },
  {
   "cell_type": "code",
   "execution_count": 23,
   "metadata": {
    "scrolled": false
   },
   "outputs": [
    {
     "name": "stdout",
     "output_type": "stream",
     "text": [
      "Output of layer 0\n",
      "tensor([[-0.3000,  0.1435, -0.8014, -0.3752,  0.2076]], grad_fn=<AddBackward0>) \n",
      "\n",
      "Output of layer 1\n",
      "tensor([[0.4256, 0.5358, 0.3097, 0.4073, 0.5517]], grad_fn=<SigmoidBackward0>) \n",
      "\n",
      "Output of layer 2\n",
      "tensor([[ 0.0229,  0.0331,  0.0242, -0.0891, -0.0651, -0.1070, -0.0847,  0.0208,\n",
      "          0.0645, -0.0404]], grad_fn=<AddBackward0>) \n",
      "\n",
      "Output of layer 3\n",
      "tensor([[0.5057, 0.5083, 0.5060, 0.4778, 0.4837, 0.4733, 0.4788, 0.5052, 0.5161,\n",
      "         0.4899]], grad_fn=<SigmoidBackward0>) \n",
      "\n",
      "Output of layer 4\n",
      "tensor([[-0.1437,  0.4208, -0.0526]], grad_fn=<AddBackward0>) \n",
      "\n",
      "Output of layer 5\n",
      "tensor([[0.2595, 0.4563, 0.2842]], grad_fn=<SoftmaxBackward0>) \n",
      "\n"
     ]
    }
   ],
   "source": [
    "# Write your code here\n",
    "score, probabilities = network.forward_manual(X_train[0:1],verbose=True)"
   ]
  },
  {
   "cell_type": "markdown",
   "metadata": {},
   "source": [
    "**Sanity check:** Let's call the pre-implemented `forward()` function of the model. This function also performs forward propagation, but using the operations defined in Pytorch modules. Thus, the output of our implementation of the `forward_manual()` function should be the same as the output of the `forward()` function below."
   ]
  },
  {
   "cell_type": "code",
   "execution_count": 24,
   "metadata": {},
   "outputs": [
    {
     "name": "stdout",
     "output_type": "stream",
     "text": [
      "Output of layer 0\n",
      "tensor([[-0.3000,  0.1435, -0.8014, -0.3752,  0.2076]],\n",
      "       grad_fn=<AddmmBackward0>) \n",
      "\n",
      "Output of layer 1\n",
      "tensor([[0.4256, 0.5358, 0.3097, 0.4073, 0.5517]], grad_fn=<SigmoidBackward0>) \n",
      "\n",
      "Output of layer 2\n",
      "tensor([[ 0.0229,  0.0331,  0.0242, -0.0891, -0.0651, -0.1070, -0.0847,  0.0208,\n",
      "          0.0645, -0.0404]], grad_fn=<AddmmBackward0>) \n",
      "\n",
      "Output of layer 3\n",
      "tensor([[0.5057, 0.5083, 0.5060, 0.4778, 0.4837, 0.4733, 0.4788, 0.5052, 0.5161,\n",
      "         0.4899]], grad_fn=<SigmoidBackward0>) \n",
      "\n",
      "Output of layer 4\n",
      "tensor([[-0.1437,  0.4208, -0.0526]], grad_fn=<AddmmBackward0>) \n",
      "\n",
      "Output of layer 5\n",
      "tensor([[0.2595, 0.4563, 0.2842]], grad_fn=<SoftmaxBackward0>) \n",
      "\n"
     ]
    },
    {
     "data": {
      "text/plain": [
       "(tensor([[-0.1437,  0.4208, -0.0526]], grad_fn=<AddmmBackward0>),\n",
       " tensor([[0.2595, 0.4563, 0.2842]], grad_fn=<SoftmaxBackward0>))"
      ]
     },
     "execution_count": 24,
     "metadata": {},
     "output_type": "execute_result"
    }
   ],
   "source": [
    "# Write your code here\n",
    "network.forward(X_train[0:1], True)"
   ]
  },
  {
   "cell_type": "markdown",
   "metadata": {},
   "source": [
    "**Question #7:** What is the sum of the output of the last layer of the network? Why did we get that sum?"
   ]
  },
  {
   "cell_type": "markdown",
   "metadata": {},
   "source": [
    "<!--crumb;qna;Q7-->"
   ]
  },
  {
   "cell_type": "markdown",
   "metadata": {},
   "source": [
    "A: 1.0. This is because the softmax function normalizes the output values so that they represent a probability distribution over the classes."
   ]
  },
  {
   "cell_type": "markdown",
   "metadata": {},
   "source": [
    "## Step 4. Getting the predictions\n",
    "\n",
    "Since this is a multinomial classification problem, the predicted class corresponds to the class with the highest probability.\n",
    "\n",
    "Open `neural_network.py` file and complete the `predict()` function in the `NeuralNetwork` class. This function returns the index of the class with the highest probability."
   ]
  },
  {
   "cell_type": "markdown",
   "metadata": {},
   "source": [
    "Implement the `predict()` function  in the `NeuralNetwork` class. Inline comments should help you in completing the contents of the function."
   ]
  },
  {
   "cell_type": "markdown",
   "metadata": {},
   "source": [
    "Get 10 random training instances in the dataset."
   ]
  },
  {
   "cell_type": "code",
   "execution_count": 25,
   "metadata": {
    "scrolled": true
   },
   "outputs": [
    {
     "name": "stdout",
     "output_type": "stream",
     "text": [
      "Random indices:  [1289 1149  527 1344 1393 1147 1180  733 1032 1097]\n"
     ]
    }
   ],
   "source": [
    "np.random.seed(10)\n",
    "random_indices = np.random.randint(X_train.shape[0], \n",
    "                                   size=10)\n",
    "print('Random indices: ', random_indices)"
   ]
  },
  {
   "cell_type": "markdown",
   "metadata": {},
   "source": [
    "Compute the scores and probabilities of the random training instances by calling the function `forward()`. Assign the return values to variables `scores` and `probabilities`."
   ]
  },
  {
   "cell_type": "code",
   "execution_count": 26,
   "metadata": {},
   "outputs": [],
   "source": [
    "# Write your code here\n",
    "scores, probabilities = network.forward(X_train[random_indices])"
   ]
  },
  {
   "cell_type": "markdown",
   "metadata": {},
   "source": [
    "Print the raw scores of random instances in the dataset."
   ]
  },
  {
   "cell_type": "code",
   "execution_count": 27,
   "metadata": {},
   "outputs": [
    {
     "name": "stdout",
     "output_type": "stream",
     "text": [
      "Scores:  tensor([[-0.1422,  0.4195, -0.0527],\n",
      "        [-0.1423,  0.4196, -0.0529],\n",
      "        [-0.1434,  0.4207, -0.0495],\n",
      "        [-0.1420,  0.4193, -0.0534],\n",
      "        [-0.1417,  0.4189, -0.0538],\n",
      "        [-0.1422,  0.4194, -0.0539],\n",
      "        [-0.1420,  0.4193, -0.0535],\n",
      "        [-0.1432,  0.4207, -0.0491],\n",
      "        [-0.1418,  0.4190, -0.0543],\n",
      "        [-0.1423,  0.4195, -0.0527]], grad_fn=<AddmmBackward0>)\n"
     ]
    }
   ],
   "source": [
    "# Write your code here\n",
    "print('Scores: ', scores)"
   ]
  },
  {
   "cell_type": "markdown",
   "metadata": {},
   "source": [
    "Print the probabilities of random instances in the dataset."
   ]
  },
  {
   "cell_type": "code",
   "execution_count": 28,
   "metadata": {},
   "outputs": [
    {
     "name": "stdout",
     "output_type": "stream",
     "text": [
      "Probabilities:  tensor([[0.2599, 0.4558, 0.2843],\n",
      "        [0.2599, 0.4559, 0.2842],\n",
      "        [0.2593, 0.4558, 0.2848],\n",
      "        [0.2600, 0.4558, 0.2841],\n",
      "        [0.2602, 0.4558, 0.2841],\n",
      "        [0.2600, 0.4559, 0.2840],\n",
      "        [0.2600, 0.4558, 0.2841],\n",
      "        [0.2593, 0.4558, 0.2849],\n",
      "        [0.2602, 0.4559, 0.2840],\n",
      "        [0.2599, 0.4558, 0.2843]], grad_fn=<SoftmaxBackward0>)\n"
     ]
    }
   ],
   "source": [
    "# Write your code here\n",
    "print('Probabilities: ', probabilities)"
   ]
  },
  {
   "cell_type": "markdown",
   "metadata": {},
   "source": [
    "Get the predicted class by calling the function `predict()`. Store the predicted labels in the variable `predictions`."
   ]
  },
  {
   "cell_type": "code",
   "execution_count": 29,
   "metadata": {},
   "outputs": [],
   "source": [
    "# Write your code here\n",
    "predictions = network.predict(probabilities)"
   ]
  },
  {
   "cell_type": "code",
   "execution_count": 30,
   "metadata": {},
   "outputs": [
    {
     "name": "stdout",
     "output_type": "stream",
     "text": [
      "tensor([1, 1, 1, 1, 1, 1, 1, 1, 1, 1])\n"
     ]
    }
   ],
   "source": [
    "print(predictions)"
   ]
  },
  {
   "cell_type": "markdown",
   "metadata": {},
   "source": [
    "**Sanity Check:** All selected training examples are currently being classified under one class."
   ]
  },
  {
   "cell_type": "markdown",
   "metadata": {},
   "source": [
    "**Question #8:** Obviously, the predicted class received the highest probability among the other classes. Why are all selected training examples being classified under one class?"
   ]
  },
  {
   "cell_type": "markdown",
   "metadata": {},
   "source": [
    "<!--crumb;qna;Q8-->"
   ]
  },
  {
   "cell_type": "markdown",
   "metadata": {},
   "source": [
    "A: This is because the model is most confident predicting those instances belonging to the second class."
   ]
  },
  {
   "cell_type": "markdown",
   "metadata": {},
   "source": [
    "## Step 5. Calculating the loss\n",
    "\n",
    "Since this is a multinomial classification problem, we need to use cross entropy loss.\n",
    "\n",
    "In PyTorch, we can use `nn.CrossEntropyLoss()` to calculate the cross entropy loss between the raw score output of the model and the target class. You may read the documentation [here](https://pytorch.org/docs/stable/generated/torch.nn.CrossEntropyLoss.html#torch.nn.CrossEntropyLoss)."
   ]
  },
  {
   "cell_type": "markdown",
   "metadata": {},
   "source": [
    "Instantiate a `nn.CrossEntropy()` object. Do not change any default values set as parameter. Assign it to the variable `criterion`."
   ]
  },
  {
   "cell_type": "code",
   "execution_count": 31,
   "metadata": {},
   "outputs": [],
   "source": [
    "# Write your code here\n",
    "criterion = nn.CrossEntropyLoss()"
   ]
  },
  {
   "cell_type": "markdown",
   "metadata": {},
   "source": [
    "Get the target classes of the random training examples from the previous step. Convert the `torch.Tensor` to `torch.long`. This is because `nn.CrossEntropyLoss()` expects the target classes to be represented as a `long` and not `float`. Assign the return value to variable `target_classes`."
   ]
  },
  {
   "cell_type": "code",
   "execution_count": 32,
   "metadata": {},
   "outputs": [],
   "source": [
    "# Write your code here\n",
    "target_classes = torch.LongTensor(y_train[random_indices].long())"
   ]
  },
  {
   "cell_type": "markdown",
   "metadata": {},
   "source": [
    "Compute the loss and assign the return value to variable `loss`.\n",
    "\n",
    "To note, the loss function accepts the score output of the model, not the probabilities. Read the documentation to understand values to pass for the `input` and the `target` parameters."
   ]
  },
  {
   "cell_type": "code",
   "execution_count": 33,
   "metadata": {},
   "outputs": [],
   "source": [
    "# Write your code here\n",
    "loss = criterion(scores, target_classes)"
   ]
  },
  {
   "cell_type": "markdown",
   "metadata": {},
   "source": [
    "Print the loss."
   ]
  },
  {
   "cell_type": "code",
   "execution_count": 34,
   "metadata": {},
   "outputs": [
    {
     "name": "stdout",
     "output_type": "stream",
     "text": [
      "Loss: 1.1638\n"
     ]
    }
   ],
   "source": [
    "print('Loss: {:.4f}'.format(loss.item()))"
   ]
  },
  {
   "cell_type": "markdown",
   "metadata": {},
   "source": [
    "**Question #9:** What is the loss in this scenario? Limit to 4 decimal places."
   ]
  },
  {
   "cell_type": "markdown",
   "metadata": {},
   "source": [
    "<!--crumb;qna;Q9-->"
   ]
  },
  {
   "cell_type": "markdown",
   "metadata": {},
   "source": [
    "A: 1.1638"
   ]
  },
  {
   "cell_type": "markdown",
   "metadata": {},
   "source": [
    "## Step 6: Backward propagation for optimizing weights\n",
    "\n",
    "The next step would be to perform backward propagation to update the weights of the model. This will make the model better in classifying the input data. In PyTorch, we can call `backward()` function of the loss module to perform backward propagation. We also need to instantiate an optimizer to update the weights.\n",
    "\n",
    "Read this [documentation](https://pytorch.org/docs/stable/optim.html#taking-an-optimization-step) to learn the general pseudocode for updating weights in PyTorch."
   ]
  },
  {
   "cell_type": "markdown",
   "metadata": {},
   "source": [
    "We will use Adam as our optimizer.\n",
    "\n",
    "Instantiate an `optim.Adam` object. Set the following parameters:\n",
    "- `params` = Set this to the parameters of your network\n",
    "- `lr` = `0.001`"
   ]
  },
  {
   "cell_type": "code",
   "execution_count": 35,
   "metadata": {},
   "outputs": [],
   "source": [
    "# Write your code here\n",
    "optimizer = optim.Adam(\n",
    "    params = network.parameters(),\n",
    "    lr = 0.001\n",
    ")"
   ]
  },
  {
   "cell_type": "markdown",
   "metadata": {},
   "source": [
    "Empty the gradients of the network."
   ]
  },
  {
   "cell_type": "code",
   "execution_count": 36,
   "metadata": {},
   "outputs": [],
   "source": [
    "# Write your code here\n",
    "optimizer.zero_grad()"
   ]
  },
  {
   "cell_type": "markdown",
   "metadata": {},
   "source": [
    "Compute the gradients through backward propagation."
   ]
  },
  {
   "cell_type": "code",
   "execution_count": 37,
   "metadata": {
    "scrolled": true
   },
   "outputs": [],
   "source": [
    "# Write your code here\n",
    "loss.backward()"
   ]
  },
  {
   "cell_type": "markdown",
   "metadata": {},
   "source": [
    "Update the weights."
   ]
  },
  {
   "cell_type": "code",
   "execution_count": 38,
   "metadata": {},
   "outputs": [],
   "source": [
    "# Write your code here\n",
    "optimizer.step()"
   ]
  },
  {
   "cell_type": "markdown",
   "metadata": {},
   "source": [
    "Display the weight of the 1st `nn.Linear` layer in the network after updating."
   ]
  },
  {
   "cell_type": "code",
   "execution_count": 39,
   "metadata": {
    "scrolled": true
   },
   "outputs": [
    {
     "name": "stdout",
     "output_type": "stream",
     "text": [
      "Parameter containing:\n",
      "tensor([[ 0.0402, -0.0214],\n",
      "        [-0.0310, -0.1195],\n",
      "        [ 0.1034, -0.0643],\n",
      "        [ 0.0563,  0.0531],\n",
      "        [-0.0382, -0.1033]], requires_grad=True)\n"
     ]
    }
   ],
   "source": [
    "# Write your code here\n",
    "print(network.layers[0].weight)"
   ]
  },
  {
   "cell_type": "markdown",
   "metadata": {},
   "source": [
    "**Sanity check:** The output of the previous cell should be different from the initial set of weights, which is:\n",
    "\n",
    "```\n",
    "Parameter containing:\n",
    "tensor([[ x.xxxx, x.xxxx],\n",
    "        ...\n",
    "        [ x.xxxx, x.xxxx]], requires_grad=True)```\n",
    "        \n",
    "where `x.xxxx` is some float."
   ]
  },
  {
   "cell_type": "markdown",
   "metadata": {},
   "source": [
    "**Question #10:** What is the leftmost value in the weight tensor of the 1st `nn.Linear` layer in the network after updating? Limit to 4 decimal places."
   ]
  },
  {
   "cell_type": "markdown",
   "metadata": {},
   "source": [
    "<!--crumb;qna;Q10-->"
   ]
  },
  {
   "cell_type": "markdown",
   "metadata": {},
   "source": [
    "A: 0.0402"
   ]
  },
  {
   "cell_type": "markdown",
   "metadata": {},
   "source": [
    "## Putting all steps together\n",
    "\n",
    "We will train the model using mini-batch gradient descent. \n",
    "\n",
    "Use the `data_loader.py` file that we implemented in the previous notebook. Import the `DataLoader` class."
   ]
  },
  {
   "cell_type": "code",
   "execution_count": 40,
   "metadata": {},
   "outputs": [],
   "source": [
    "from data_loader import DataLoader"
   ]
  },
  {
   "cell_type": "markdown",
   "metadata": {},
   "source": [
    "Instantiate an `DataLoader` object. Pass the `X` and `y` of the train set and `32` as our `batch_size`. Assign it to the variable `data_loader`."
   ]
  },
  {
   "cell_type": "code",
   "execution_count": 41,
   "metadata": {},
   "outputs": [],
   "source": [
    "# Write your code here\n",
    "data_loader = DataLoader(X_train, y_train, batch_size=32)"
   ]
  },
  {
   "cell_type": "markdown",
   "metadata": {},
   "source": [
    "Train your network. Complete the code below."
   ]
  },
  {
   "cell_type": "code",
   "execution_count": 42,
   "metadata": {},
   "outputs": [
    {
     "name": "stdout",
     "output_type": "stream",
     "text": [
      "Epoch: 1 \tLoss: 1.115149\n",
      "Epoch: 2 \tLoss: 1.100188\n",
      "Epoch: 3 \tLoss: 1.096161\n",
      "Epoch: 4 \tLoss: 1.092372\n",
      "Epoch: 5 \tLoss: 1.087015\n",
      "Epoch: 6 \tLoss: 1.079634\n",
      "Epoch: 7 \tLoss: 1.067850\n",
      "Epoch: 8 \tLoss: 1.052415\n",
      "Epoch: 9 \tLoss: 1.031145\n",
      "Epoch: 10 \tLoss: 1.004536\n",
      "Epoch: 11 \tLoss: 0.970554\n",
      "Epoch: 12 \tLoss: 0.929101\n",
      "Epoch: 13 \tLoss: 0.880339\n",
      "Epoch: 14 \tLoss: 0.825428\n",
      "Epoch: 15 \tLoss: 0.764867\n",
      "Epoch: 16 \tLoss: 0.701514\n",
      "Epoch: 17 \tLoss: 0.638213\n",
      "Epoch: 18 \tLoss: 0.576875\n",
      "Epoch: 19 \tLoss: 0.518326\n",
      "Epoch: 20 \tLoss: 0.464125\n",
      "Epoch: 21 \tLoss: 0.414932\n",
      "Epoch: 22 \tLoss: 0.370523\n",
      "Epoch: 23 \tLoss: 0.331353\n",
      "Epoch: 24 \tLoss: 0.296653\n",
      "Epoch: 25 \tLoss: 0.266225\n",
      "Epoch: 26 \tLoss: 0.239588\n",
      "Epoch: 27 \tLoss: 0.216124\n",
      "Epoch: 28 \tLoss: 0.195654\n",
      "Epoch: 29 \tLoss: 0.177895\n",
      "Epoch: 30 \tLoss: 0.162242\n",
      "Epoch: 31 \tLoss: 0.148590\n",
      "Epoch: 32 \tLoss: 0.136579\n",
      "Epoch: 33 \tLoss: 0.125659\n",
      "Epoch: 34 \tLoss: 0.116304\n",
      "Epoch: 35 \tLoss: 0.107667\n",
      "Epoch: 36 \tLoss: 0.100138\n",
      "Epoch: 37 \tLoss: 0.093404\n",
      "Epoch: 38 \tLoss: 0.087345\n",
      "Epoch: 39 \tLoss: 0.081871\n",
      "Epoch: 40 \tLoss: 0.076984\n",
      "Epoch: 41 \tLoss: 0.072537\n",
      "Epoch: 42 \tLoss: 0.068548\n",
      "Epoch: 43 \tLoss: 0.064756\n",
      "Epoch: 44 \tLoss: 0.061493\n",
      "Epoch: 45 \tLoss: 0.058313\n",
      "Epoch: 46 \tLoss: 0.055617\n",
      "Epoch: 47 \tLoss: 0.052952\n",
      "Epoch: 48 \tLoss: 0.050597\n",
      "Epoch: 49 \tLoss: 0.048432\n",
      "Epoch: 50 \tLoss: 0.046398\n",
      "Epoch: 51 \tLoss: 0.044484\n",
      "Epoch: 52 \tLoss: 0.042738\n",
      "Epoch: 53 \tLoss: 0.041194\n",
      "Epoch: 54 \tLoss: 0.039634\n",
      "Epoch: 55 \tLoss: 0.038246\n",
      "Epoch: 56 \tLoss: 0.036947\n",
      "Epoch: 57 \tLoss: 0.035742\n",
      "Epoch: 58 \tLoss: 0.034677\n",
      "Epoch: 59 \tLoss: 0.033658\n",
      "Epoch: 60 \tLoss: 0.032376\n",
      "Epoch: 61 \tLoss: 0.031558\n",
      "Epoch: 62 \tLoss: 0.030558\n",
      "Epoch: 63 \tLoss: 0.029767\n",
      "Epoch: 64 \tLoss: 0.028987\n",
      "Epoch: 65 \tLoss: 0.028284\n",
      "Epoch: 66 \tLoss: 0.027508\n",
      "Epoch: 67 \tLoss: 0.026918\n",
      "Epoch: 68 \tLoss: 0.026247\n",
      "Epoch: 69 \tLoss: 0.025640\n",
      "Epoch: 70 \tLoss: 0.025077\n",
      "Epoch: 71 \tLoss: 0.024730\n",
      "Epoch: 72 \tLoss: 0.024098\n",
      "Epoch: 73 \tLoss: 0.023550\n",
      "Epoch: 74 \tLoss: 0.023128\n",
      "Epoch: 75 \tLoss: 0.022648\n",
      "Epoch: 76 \tLoss: 0.022324\n",
      "Epoch: 77 \tLoss: 0.021938\n",
      "Epoch: 78 \tLoss: 0.021496\n",
      "Epoch: 79 \tLoss: 0.021232\n",
      "Epoch: 80 \tLoss: 0.020798\n",
      "Epoch: 81 \tLoss: 0.020459\n",
      "Epoch: 82 \tLoss: 0.020143\n",
      "Epoch: 83 \tLoss: 0.019910\n",
      "Epoch: 84 \tLoss: 0.019631\n",
      "Epoch: 85 \tLoss: 0.019358\n",
      "Epoch: 86 \tLoss: 0.019047\n",
      "Epoch: 87 \tLoss: 0.018943\n",
      "Epoch: 88 \tLoss: 0.018550\n",
      "Epoch: 89 \tLoss: 0.018460\n",
      "Epoch: 90 \tLoss: 0.018220\n",
      "Epoch: 91 \tLoss: 0.018246\n",
      "Epoch: 92 \tLoss: 0.017795\n",
      "Epoch: 93 \tLoss: 0.017602\n",
      "Epoch: 94 \tLoss: 0.017382\n",
      "Epoch: 95 \tLoss: 0.017269\n",
      "Epoch: 96 \tLoss: 0.017069\n",
      "Epoch: 97 \tLoss: 0.017001\n",
      "Epoch: 98 \tLoss: 0.016805\n",
      "Epoch: 99 \tLoss: 0.016737\n",
      "Epoch: 100 \tLoss: 0.016778\n",
      "Epoch: 101 \tLoss: 0.016296\n",
      "Epoch: 102 \tLoss: 0.016268\n",
      "Epoch: 103 \tLoss: 0.016091\n",
      "Epoch: 104 \tLoss: 0.015984\n",
      "Epoch: 105 \tLoss: 0.015881\n",
      "Epoch: 106 \tLoss: 0.015727\n",
      "Epoch: 107 \tLoss: 0.015634\n",
      "Epoch: 108 \tLoss: 0.015963\n",
      "Epoch: 109 \tLoss: 0.015487\n",
      "Epoch: 110 \tLoss: 0.015325\n",
      "Epoch: 111 \tLoss: 0.015294\n",
      "Epoch: 112 \tLoss: 0.015079\n",
      "Epoch: 113 \tLoss: 0.015169\n",
      "Epoch: 114 \tLoss: 0.014986\n",
      "Epoch: 115 \tLoss: 0.015405\n",
      "Epoch: 116 \tLoss: 0.014921\n",
      "Epoch: 117 \tLoss: 0.014824\n",
      "Epoch: 118 \tLoss: 0.014713\n",
      "Epoch: 119 \tLoss: 0.014613\n",
      "Epoch: 120 \tLoss: 0.014547\n",
      "Epoch: 121 \tLoss: 0.014544\n",
      "Epoch: 122 \tLoss: 0.014521\n",
      "Epoch: 123 \tLoss: 0.014487\n",
      "Epoch: 124 \tLoss: 0.014441\n",
      "Epoch: 125 \tLoss: 0.014300\n",
      "Epoch: 126 \tLoss: 0.014282\n",
      "Epoch: 127 \tLoss: 0.014237\n",
      "Epoch: 128 \tLoss: 0.014053\n",
      "Epoch: 129 \tLoss: 0.014213\n",
      "Epoch: 130 \tLoss: 0.014022\n",
      "Epoch: 131 \tLoss: 0.014079\n",
      "Epoch: 132 \tLoss: 0.013977\n",
      "Epoch: 133 \tLoss: 0.013917\n",
      "Epoch: 134 \tLoss: 0.013911\n",
      "Epoch: 135 \tLoss: 0.013932\n",
      "Epoch: 136 \tLoss: 0.013842\n",
      "Epoch: 137 \tLoss: 0.013772\n",
      "Epoch: 138 \tLoss: 0.013733\n",
      "Epoch: 139 \tLoss: 0.013905\n",
      "Epoch: 140 \tLoss: 0.013852\n",
      "Epoch: 141 \tLoss: 0.013653\n",
      "Epoch: 142 \tLoss: 0.013679\n",
      "Epoch: 143 \tLoss: 0.013687\n",
      "Epoch: 144 \tLoss: 0.013537\n",
      "Epoch: 145 \tLoss: 0.013877\n",
      "Epoch: 146 \tLoss: 0.013528\n",
      "Epoch: 147 \tLoss: 0.013392\n",
      "Epoch: 148 \tLoss: 0.013423\n",
      "Epoch: 149 \tLoss: 0.013371\n",
      "Epoch: 150 \tLoss: 0.013433\n",
      "Epoch: 151 \tLoss: 0.013325\n",
      "Epoch: 152 \tLoss: 0.013568\n",
      "Epoch: 153 \tLoss: 0.013291\n",
      "Epoch: 154 \tLoss: 0.013261\n",
      "Epoch: 155 \tLoss: 0.013254\n",
      "Epoch: 156 \tLoss: 0.013351\n",
      "Epoch: 157 \tLoss: 0.013232\n",
      "Epoch: 158 \tLoss: 0.013153\n",
      "Epoch: 159 \tLoss: 0.013162\n",
      "Epoch: 160 \tLoss: 0.013075\n",
      "Epoch: 161 \tLoss: 0.013132\n",
      "Epoch: 162 \tLoss: 0.013178\n",
      "Epoch: 163 \tLoss: 0.013119\n",
      "Epoch: 164 \tLoss: 0.013076\n",
      "Epoch: 165 \tLoss: 0.013027\n",
      "Epoch: 166 \tLoss: 0.013124\n",
      "Epoch: 167 \tLoss: 0.013027\n",
      "Epoch: 168 \tLoss: 0.013252\n",
      "Epoch: 169 \tLoss: 0.013311\n",
      "Epoch: 170 \tLoss: 0.012962\n",
      "Epoch: 171 \tLoss: 0.013054\n",
      "Epoch: 172 \tLoss: 0.012956\n",
      "Epoch: 173 \tLoss: 0.012899\n",
      "Epoch: 174 \tLoss: 0.013220\n",
      "Epoch: 175 \tLoss: 0.012960\n",
      "Epoch: 176 \tLoss: 0.013000\n",
      "Epoch: 177 \tLoss: 0.012960\n",
      "Epoch: 178 \tLoss: 0.012966\n",
      "Epoch: 179 \tLoss: 0.012895\n",
      "Epoch: 180 \tLoss: 0.012907\n",
      "Epoch: 181 \tLoss: 0.013065\n",
      "Epoch: 182 \tLoss: 0.012941\n",
      "Epoch: 183 \tLoss: 0.013064\n",
      "Epoch: 184 \tLoss: 0.012834\n",
      "Epoch: 185 \tLoss: 0.012823\n",
      "Epoch: 186 \tLoss: 0.012893\n",
      "Epoch: 187 \tLoss: 0.012808\n",
      "Epoch: 188 \tLoss: 0.012824\n",
      "Epoch: 189 \tLoss: 0.012818\n",
      "Epoch: 190 \tLoss: 0.013256\n",
      "Epoch: 191 \tLoss: 0.012754\n",
      "Epoch: 192 \tLoss: 0.012796\n",
      "Epoch: 193 \tLoss: 0.012780\n",
      "Epoch: 194 \tLoss: 0.012868\n",
      "Epoch: 195 \tLoss: 0.012771\n",
      "Epoch: 196 \tLoss: 0.012694\n",
      "Epoch: 197 \tLoss: 0.012733\n",
      "Epoch: 198 \tLoss: 0.012912\n",
      "Epoch: 199 \tLoss: 0.012831\n",
      "Epoch: 200 \tLoss: 0.012865\n",
      "Epoch: 201 \tLoss: 0.012671\n"
     ]
    }
   ],
   "source": [
    "e = 0\n",
    "max_epochs = 400\n",
    "is_converged = False\n",
    "previous_loss = 0\n",
    "losses = []\n",
    "\n",
    "# For each epoch\n",
    "while e < max_epochs and is_converged is not True:\n",
    "    \n",
    "    current_epoch_loss = 0\n",
    "    \n",
    "    # TODO: Get the batch for this epoch.\n",
    "    X_batch, y_batch = data_loader.get_batch()\n",
    "    \n",
    "    # For each batch\n",
    "    for X, y in zip(X_batch, y_batch):\n",
    "        X = torch.Tensor(X)\n",
    "        y = torch.Tensor(y).to(torch.long)\n",
    "        \n",
    "        # TODO: Empty the gradients of the network.\n",
    "        optimizer.zero_grad()\n",
    "        \n",
    "        # TODO: Forward propagation\n",
    "        scores, probabilities = network.forward(X)\n",
    "        \n",
    "        # TODO: Compute the loss\n",
    "        loss = criterion(scores, y)\n",
    "        \n",
    "        # TODO: Backward propagation\n",
    "        loss.backward()\n",
    "        \n",
    "        # TODO: Update parameters\n",
    "        optimizer.step()\n",
    "        \n",
    "        current_epoch_loss += loss.item()\n",
    "    \n",
    "    average_loss = current_epoch_loss / len(X_batch)\n",
    "    losses.append(average_loss)\n",
    "    \n",
    "    # Display the average loss per epoch\n",
    "    print('Epoch:', e + 1, '\\tLoss: {:.6f}'.format(average_loss))\n",
    "    \n",
    "    if abs(previous_loss - loss) < 0.00005:\n",
    "        is_converged = True\n",
    "    else:\n",
    "        previous_loss = loss\n",
    "        e += 1"
   ]
  },
  {
   "cell_type": "markdown",
   "metadata": {},
   "source": [
    "**Question #11:** How many epochs did the model train before convergence?"
   ]
  },
  {
   "cell_type": "markdown",
   "metadata": {},
   "source": [
    "<!--crumb;qna;Q11-->"
   ]
  },
  {
   "cell_type": "markdown",
   "metadata": {},
   "source": [
    "A: 201"
   ]
  },
  {
   "cell_type": "markdown",
   "metadata": {},
   "source": [
    "**Question #12:** What is the average loss at the last epoch? Limit to 6 decimal places."
   ]
  },
  {
   "cell_type": "markdown",
   "metadata": {},
   "source": [
    "<!--crumb;qna;Q12-->"
   ]
  },
  {
   "cell_type": "markdown",
   "metadata": {},
   "source": [
    "A: 0.012671"
   ]
  },
  {
   "cell_type": "markdown",
   "metadata": {},
   "source": [
    "## Try our trained network on the test data\n",
    "\n",
    "Set the network in test `eval` mode first, to avoid updating the weights."
   ]
  },
  {
   "cell_type": "code",
   "execution_count": 43,
   "metadata": {},
   "outputs": [
    {
     "data": {
      "text/plain": [
       "NeuralNetwork(\n",
       "  (layers): Sequential(\n",
       "    (0): Linear(in_features=2, out_features=5, bias=True)\n",
       "    (1): Sigmoid()\n",
       "    (2): Linear(in_features=5, out_features=10, bias=True)\n",
       "    (3): Sigmoid()\n",
       "    (4): Linear(in_features=10, out_features=3, bias=True)\n",
       "    (5): Softmax(dim=1)\n",
       "  )\n",
       ")"
      ]
     },
     "execution_count": 43,
     "metadata": {},
     "output_type": "execute_result"
    }
   ],
   "source": [
    "network.eval()"
   ]
  },
  {
   "cell_type": "markdown",
   "metadata": {},
   "source": [
    "Perform forward propagation on the test data. Assign the return values to variables `scores` and `probabilities`."
   ]
  },
  {
   "cell_type": "code",
   "execution_count": 44,
   "metadata": {},
   "outputs": [
    {
     "name": "stdout",
     "output_type": "stream",
     "text": [
      "Output of layer 0\n",
      "tensor([[-4.4806,  3.4652, -0.6999, -2.9678,  3.5828],\n",
      "        [-8.7969,  1.4737, -3.4121, -5.8417,  1.7558],\n",
      "        [-6.2320,  3.9662, -1.2135, -4.9008,  4.1524],\n",
      "        [-8.4796,  3.2450, -2.4842, -6.5823,  3.5173],\n",
      "        [-6.9775,  2.0845, -2.3713, -4.4963,  2.2970],\n",
      "        [-4.9403,  2.6741, -1.2484, -2.9347,  2.8084],\n",
      "        [-5.7790,  2.5105, -1.6752, -3.6240,  2.6770],\n",
      "        [-4.3543,  4.2295, -0.3040, -3.2972,  4.3432],\n",
      "        [-8.7662,  3.3321, -2.5659, -6.9017,  3.6157],\n",
      "        [-6.8463,  1.7257, -2.4770, -4.1634,  1.9325],\n",
      "        [-5.6991,  2.2069, -1.7777, -3.3714,  2.3699],\n",
      "        [-5.0371,  3.0797, -1.1073, -3.2629,  3.2183],\n",
      "        [-5.4186,  5.1845, -0.3244, -4.8530,  5.3408],\n",
      "        [-7.9216,  3.6155, -2.0829, -6.2770,  3.8667],\n",
      "        [-8.3951,  2.0808, -2.9705, -5.8212,  2.3482],\n",
      "        [-4.8241,  2.9809, -1.0618, -3.0056,  3.1110],\n",
      "        [-4.3344,  2.3012, -1.1602, -2.1491,  2.4114],\n",
      "        [-5.7918,  2.0062, -1.9067, -3.3405,  2.1725],\n",
      "        [-7.2974,  1.6348, -2.7078, -4.5324,  1.8590],\n",
      "        [-7.2390,  3.7115, -1.7521, -5.6942,  3.9364],\n",
      "        [-5.8822,  1.4704, -2.1850, -3.1113,  1.6395],\n",
      "        [-5.3595,  3.3119, -1.1391, -3.7007,  3.4633],\n",
      "        [-3.3992,  3.9344, -0.0338, -2.2303,  4.0106],\n",
      "        [-6.9911,  3.8137, -1.6018, -5.5220,  4.0291],\n",
      "        [-8.3188,  5.4579, -1.4242, -7.7281,  5.7271],\n",
      "        [-5.1585,  3.7923, -0.8390, -3.7940,  3.9366],\n",
      "        [-4.7250,  2.1788, -1.3797, -2.4430,  2.3040],\n",
      "        [-4.9645,  4.2017, -0.5737, -3.8522,  4.3391],\n",
      "        [-4.9328,  2.4880, -1.3286, -2.8187,  2.6217],\n",
      "        [-4.4431,  3.0301, -0.8792, -2.6778,  3.1456],\n",
      "        [-5.8557,  3.9682, -1.0540, -4.5497,  4.1397],\n",
      "        [-4.2088,  2.3080, -1.1042, -2.0355,  2.4133],\n",
      "        [-1.9762,  4.3396,  0.7477, -1.1356,  4.3612],\n",
      "        [-5.6192,  1.7042, -1.9694, -3.0020,  1.8634],\n",
      "        [-4.9790,  3.8052, -0.7575, -3.6334,  3.9425],\n",
      "        [-6.1816,  1.8721, -2.1312, -3.6269,  2.0533],\n",
      "        [-9.4373,  1.4760, -3.6810, -6.4426,  1.7830],\n",
      "        [-5.6050,  2.1989, -1.7416, -3.2785,  2.3583],\n",
      "        [-6.1714,  2.8691, -1.6798, -4.2014,  3.0514],\n",
      "        [-7.6269,  2.3018, -2.5476, -5.2316,  2.5398],\n",
      "        [-6.0308,  3.9379, -1.1414, -4.6959,  4.1163],\n",
      "        [-9.3853,  2.7968, -3.0669, -7.1676,  3.1036],\n",
      "        [-8.8837,  1.6174, -3.3842, -6.0072,  1.9031],\n",
      "        [-6.6479,  3.0487, -1.8002, -4.7527,  3.2497],\n",
      "        [-9.2003,  2.1408, -3.2830, -6.6101,  2.4395],\n",
      "        [-6.7992,  3.8050, -1.5249, -5.3373,  4.0129],\n",
      "        [-6.7579,  1.9844, -2.3237, -4.2321,  2.1882],\n",
      "        [-5.1413,  5.5898, -0.0258, -4.8308,  5.7359],\n",
      "        [-5.1196,  4.3718, -0.5628, -4.0970,  4.5154],\n",
      "        [-7.5376,  2.3620, -2.4830, -5.1833,  2.5966],\n",
      "        [-6.0201, -4.0071, -4.6990, -0.0317, -3.8403],\n",
      "        [-1.0643, -1.9777, -1.7003,  3.4187, -2.0003],\n",
      "        [-0.2243, -2.7609, -1.6974,  4.6638, -2.8171],\n",
      "        [-3.9133, -2.8627, -3.2979,  1.2701, -2.7760],\n",
      "        [-2.6326, -0.7269, -1.8005,  1.2179, -0.6869],\n",
      "        [-4.9196, -0.5444, -2.6827, -1.0300, -0.4155],\n",
      "        [-3.7271, -2.9113, -3.2412,  1.4729, -2.8319],\n",
      "        [-2.7708, -2.9776, -2.8679,  2.4069, -2.9353],\n",
      "        [-3.0212, -1.6566, -2.3812,  1.3986, -1.6028],\n",
      "        [-2.6171, -2.4929, -2.5858,  2.2669, -2.4560],\n",
      "        [-3.8055, -3.9817, -3.7542,  2.0265, -3.9008],\n",
      "        [-0.6395, -3.3990, -2.1585,  4.6490, -3.4401],\n",
      "        [-4.0135, -2.9889, -3.3967,  1.2503, -2.8985],\n",
      "        [-2.4705, -3.3382, -2.9030,  2.8992, -3.3082],\n",
      "        [-1.3209, -3.5393, -2.5086,  4.0933, -3.5541],\n",
      "        [-2.5706, -0.3804, -1.6190,  1.0729, -0.3423],\n",
      "        [-2.6584, -2.6682, -2.6818,  2.3309, -2.6299],\n",
      "        [-3.2045, -3.0634, -3.0892,  2.0511, -3.0044],\n",
      "        [-2.1602, -2.7526, -2.5096,  2.8467, -2.7337],\n",
      "        [-3.1866, -3.1488, -3.1199,  2.1179, -3.0907],\n",
      "        [-2.3125, -0.1310, -1.3984,  1.1685, -0.1026],\n",
      "        [-2.1496, -1.2841, -1.8468,  1.9964, -1.2636],\n",
      "        [-2.8524, -3.2931, -3.0437,  2.5153, -3.2481],\n",
      "        [-2.0751, -0.9154, -1.6501,  1.8501, -0.8973],\n",
      "        [-1.6222, -1.3757, -1.6655,  2.5437, -1.3758],\n",
      "        [-6.6522, -4.8157, -5.3280, -0.1498, -4.6255],\n",
      "        [-3.6668, -2.8894, -3.2060,  1.5165, -2.8123],\n",
      "        [-5.3002, -2.0597, -3.5225, -0.4986, -1.9181],\n",
      "        [-1.0672, -2.5572, -1.9613,  3.7555, -2.5805],\n",
      "        [ 0.3703, -0.6509, -0.5008,  3.9844, -0.7273],\n",
      "        [-4.6202, -2.6924, -3.5195,  0.5086, -2.5781],\n",
      "        [-2.5437, -3.0481, -2.8038,  2.6608, -3.0148],\n",
      "        [ 1.2995, -2.4540, -0.9176,  5.9104, -2.5689],\n",
      "        [-1.6830, -3.3033, -2.5554,  3.6160, -3.3038],\n",
      "        [-3.9769, -2.8751, -3.3303,  1.2178, -2.7859],\n",
      "        [-1.2484, -3.0368, -2.2528,  3.8668, -3.0537],\n",
      "        [-1.8184, -3.5140, -2.7069,  3.6127, -3.5094],\n",
      "        [-0.8416, -1.3904, -1.3431,  3.2831, -1.4208],\n",
      "        [-2.9584, -2.7366, -2.8389,  2.0902, -2.6868],\n",
      "        [-1.8785, -1.0683, -1.6357,  2.1238, -1.0580],\n",
      "        [-4.2413, -1.2475, -2.7120,  0.0169, -1.1458],\n",
      "        [-2.2823, -2.1697, -2.2997,  2.3910, -2.1453],\n",
      "        [-3.4245, -1.6989, -2.5701,  1.0459, -1.6295],\n",
      "        [-4.0093, -3.8232, -3.7690,  1.7429, -3.7341],\n",
      "        [-3.5832, -2.6903, -3.0815,  1.4781, -2.6161],\n",
      "        [-2.4794, -3.9193, -3.1673,  3.2313, -3.8897],\n",
      "        [-3.9804, -1.9835, -2.9320,  0.6922, -1.8930],\n",
      "        [-2.5960, -2.7874, -2.7089,  2.4591, -2.7516],\n",
      "        [-5.8743, -2.9698, -4.1725, -0.5029, -2.8072],\n",
      "        [-4.1635, -1.3310, -2.7166,  0.1386, -1.2325],\n",
      "        [ 3.2732,  1.4643,  1.6711,  5.4628,  1.2783],\n",
      "        [ 2.3422,  2.4817,  1.7349,  3.9953,  2.3332],\n",
      "        [ 4.6013,  4.8538,  3.7506,  4.7206,  4.6210],\n",
      "        [ 1.0405,  0.6650,  0.3717,  3.8409,  0.5645],\n",
      "        [ 2.9452,  4.0333,  2.6846,  3.6509,  3.8636],\n",
      "        [ 3.8744,  1.8856,  2.1134,  5.7788,  1.6769],\n",
      "        [ 4.2265,  3.1463,  2.8271,  5.3699,  2.9257],\n",
      "        [ 1.4025,  1.6414,  0.9621,  3.6079,  1.5282],\n",
      "        [ 4.1286,  3.2068,  2.8129,  5.2429,  2.9900],\n",
      "        [ 2.3813,  3.8307,  2.3561,  3.2417,  3.6826],\n",
      "        [ 5.4938,  1.5875,  2.6623,  7.4694,  1.3155],\n",
      "        [ 1.2338,  3.9270,  1.9156,  2.1110,  3.8235],\n",
      "        [ 5.2406,  1.0281,  2.3048,  7.5601,  0.7652],\n",
      "        [ 0.2521,  1.8210,  0.5577,  2.4258,  1.7527],\n",
      "        [ 2.2448,  1.9167,  1.4405,  4.2351,  1.7712],\n",
      "        [ 3.2765,  3.2650,  2.4798,  4.4111,  3.0814],\n",
      "        [ 3.8369,  2.3251,  2.2946,  5.4863,  2.1184],\n",
      "        [ 3.7585,  4.5266,  3.2486,  4.1233,  4.3260],\n",
      "        [ 2.4725,  2.6168,  1.8503,  4.0382,  2.4634],\n",
      "        [ 3.5289,  3.1301,  2.5258,  4.7264,  2.9365],\n",
      "        [ 2.2164,  4.3508,  2.5198,  2.7827,  4.2098],\n",
      "        [ 0.9087,  3.7767,  1.7112,  1.8948,  3.6856],\n",
      "        [ 4.3298,  2.6478,  2.6470,  5.7586,  2.4224],\n",
      "        [ 3.5419,  3.5740,  2.7302,  4.4785,  3.3805],\n",
      "        [ 1.0191,  2.1998,  1.0508,  2.9218,  2.1023],\n",
      "        [ 6.2796,  1.4790,  2.9449,  8.2686,  1.1764],\n",
      "        [ 3.5170,  1.2947,  1.6978,  5.7904,  1.0990],\n",
      "        [ 3.0488,  3.3919,  2.4407,  4.1236,  3.2173],\n",
      "        [ 3.9722,  2.7173,  2.5275,  5.3831,  2.5060],\n",
      "        [ 0.4401,  4.3694,  1.7795,  1.1090,  4.2974],\n",
      "        [ 1.2859,  2.7383,  1.4047,  2.8562,  2.6312],\n",
      "        [ 4.2077,  3.2734,  2.8761,  5.2779,  3.0537],\n",
      "        [ 8.0293,  4.4713,  5.0239,  8.1536,  4.1050],\n",
      "        [ 1.9939,  3.4506,  2.0225,  3.1017,  3.3170],\n",
      "        [ 0.5942,  3.2628,  1.3483,  1.9014,  3.1832],\n",
      "        [ 3.2183,  3.5449,  2.5808,  4.1927,  3.3639],\n",
      "        [ 1.2803,  1.4058,  0.8049,  3.6315,  1.2970],\n",
      "        [ 5.8223,  4.1650,  3.9564,  6.2671,  3.8839],\n",
      "        [ 2.6464,  4.5062,  2.7708,  3.0942,  4.3487],\n",
      "        [ 4.8257,  2.6177,  2.8426,  6.2405,  2.3731],\n",
      "        [ 2.5741,  1.3535,  1.3267,  4.8733,  1.1944],\n",
      "        [ 4.1491,  2.4831,  2.4970,  5.6859,  2.2645],\n",
      "        [ 6.0843,  2.9429,  3.5189,  7.2282,  2.6499],\n",
      "        [ 2.4925,  0.6023,  0.9555,  5.2369,  0.4453],\n",
      "        [ 3.7306,  0.9269,  1.6230,  6.2058,  0.7224],\n",
      "        [ 4.2141,  0.9130,  1.8205,  6.6665,  0.6897],\n",
      "        [ 3.7043,  2.0601,  2.1199,  5.5173,  1.8582],\n",
      "        [ 3.3201,  2.3061,  2.0683,  5.0136,  2.1194],\n",
      "        [ 1.6557,  1.7341,  1.1103,  3.7906,  1.6112],\n",
      "        [ 4.8243,  4.8034,  3.8219,  4.9589,  4.5618]],\n",
      "       grad_fn=<AddmmBackward0>) \n",
      "\n",
      "Output of layer 1\n",
      "tensor([[1.1199e-02, 9.6968e-01, 3.3183e-01, 4.8902e-02, 9.7295e-01],\n",
      "        [1.5118e-04, 8.1362e-01, 3.1920e-02, 2.8954e-03, 8.5269e-01],\n",
      "        [1.9616e-03, 9.8141e-01, 2.2908e-01, 7.3856e-03, 9.8452e-01],\n",
      "        [2.0761e-04, 9.6249e-01, 7.6974e-02, 1.3827e-03, 9.7118e-01],\n",
      "        [9.3180e-04, 8.8939e-01, 8.5385e-02, 1.1027e-02, 9.0863e-01],\n",
      "        [7.1014e-03, 9.3548e-01, 2.2298e-01, 5.0463e-02, 9.4313e-01],\n",
      "        [3.0822e-03, 9.2487e-01, 1.5773e-01, 2.5983e-02, 9.3566e-01],\n",
      "        [1.2689e-02, 9.8565e-01, 4.2458e-01, 3.5667e-02, 9.8717e-01],\n",
      "        [1.5588e-04, 9.6551e-01, 7.1364e-02, 1.0051e-03, 9.7381e-01],\n",
      "        [1.0622e-03, 8.4886e-01, 7.7490e-02, 1.5317e-02, 8.7353e-01],\n",
      "        [3.3377e-03, 9.0087e-01, 1.4459e-01, 3.3202e-02, 9.1451e-01],\n",
      "        [6.4508e-03, 9.5605e-01, 2.4838e-01, 3.6866e-02, 9.6152e-01],\n",
      "        [4.4139e-03, 9.9443e-01, 4.1960e-01, 7.7448e-03, 9.9523e-01],\n",
      "        [3.6268e-04, 9.7380e-01, 1.1077e-01, 1.8755e-03, 9.7950e-01],\n",
      "        [2.2592e-04, 8.8902e-01, 4.8776e-02, 2.9552e-03, 9.1279e-01],\n",
      "        [7.9699e-03, 9.5170e-01, 2.5696e-01, 4.7174e-02, 9.5735e-01],\n",
      "        [1.2940e-02, 9.0897e-01, 2.3863e-01, 1.0442e-01, 9.1769e-01],\n",
      "        [3.0432e-03, 8.8144e-01, 1.2935e-01, 3.4207e-02, 8.9775e-01],\n",
      "        [6.7684e-04, 8.3682e-01, 6.2513e-02, 1.0641e-02, 8.6518e-01],\n",
      "        [7.1753e-04, 9.7614e-01, 1.4778e-01, 3.3540e-03, 9.8086e-01],\n",
      "        [2.7810e-03, 8.1312e-01, 1.0110e-01, 4.2646e-02, 8.3747e-01],\n",
      "        [4.6812e-03, 9.6483e-01, 2.4249e-01, 2.4110e-02, 9.6963e-01],\n",
      "        [3.2321e-02, 9.8082e-01, 4.9156e-01, 9.7065e-02, 9.8220e-01],\n",
      "        [9.1923e-04, 9.7841e-01, 1.6773e-01, 3.9819e-03, 9.8252e-01],\n",
      "        [2.4383e-04, 9.9576e-01, 1.9400e-01, 4.4011e-04, 9.9675e-01],\n",
      "        [5.7175e-03, 9.7795e-01, 3.0175e-01, 2.2011e-02, 9.8086e-01],\n",
      "        [8.7925e-03, 8.9833e-01, 2.0106e-01, 7.9952e-02, 9.0921e-01],\n",
      "        [6.9329e-03, 9.8525e-01, 3.6039e-01, 2.0791e-02, 9.8712e-01],\n",
      "        [7.1547e-03, 9.2330e-01, 2.0939e-01, 5.6324e-02, 9.3225e-01],\n",
      "        [1.1623e-02, 9.5392e-01, 2.9334e-01, 6.4296e-02, 9.5873e-01],\n",
      "        [2.8553e-03, 9.8144e-01, 2.5846e-01, 1.0460e-02, 9.8432e-01],\n",
      "        [1.4646e-02, 9.0953e-01, 2.4895e-01, 1.1553e-01, 9.1784e-01],\n",
      "        [1.2172e-01, 9.8713e-01, 6.7867e-01, 2.4313e-01, 9.8740e-01],\n",
      "        [3.6145e-03, 8.4608e-01, 1.2246e-01, 4.7334e-02, 8.6570e-01],\n",
      "        [6.8341e-03, 9.7823e-01, 3.1918e-01, 2.5745e-02, 9.8097e-01],\n",
      "        [2.0628e-03, 8.6670e-01, 1.0611e-01, 2.5910e-02, 8.8628e-01],\n",
      "        [7.9686e-05, 8.1397e-01, 2.4579e-02, 1.5897e-03, 8.5607e-01],\n",
      "        [3.6660e-03, 9.0015e-01, 1.4911e-01, 3.6315e-02, 9.1359e-01],\n",
      "        [2.0839e-03, 9.4630e-01, 1.5712e-01, 1.4754e-02, 9.5484e-01],\n",
      "        [4.8692e-04, 9.0903e-01, 7.2585e-02, 5.3165e-03, 9.2688e-01],\n",
      "        [2.3977e-03, 9.8088e-01, 2.4207e-01, 9.0500e-03, 9.8396e-01],\n",
      "        [8.3938e-05, 9.4250e-01, 4.4494e-02, 7.7056e-04, 9.5704e-01],\n",
      "        [1.3861e-04, 8.3444e-01, 3.2793e-02, 2.4550e-03, 8.7025e-01],\n",
      "        [1.2950e-03, 9.5473e-01, 1.4183e-01, 8.5547e-03, 9.6266e-01],\n",
      "        [1.0100e-04, 8.9480e-01, 3.6160e-02, 1.3449e-03, 9.1979e-01],\n",
      "        [1.1134e-03, 9.7822e-01, 1.7875e-01, 4.7858e-03, 9.8224e-01],\n",
      "        [1.1604e-03, 8.7915e-01, 8.9182e-02, 1.4314e-02, 8.9918e-01],\n",
      "        [5.8160e-03, 9.9628e-01, 4.9354e-01, 7.9168e-03, 9.9678e-01],\n",
      "        [5.9429e-03, 9.8753e-01, 3.6291e-01, 1.6351e-02, 9.8918e-01],\n",
      "        [5.3237e-04, 9.1389e-01, 7.7057e-02, 5.5782e-03, 9.3064e-01],\n",
      "        [2.4236e-03, 1.7861e-02, 9.0223e-03, 4.9207e-01, 2.1036e-02],\n",
      "        [2.5649e-01, 1.2156e-01, 1.5442e-01, 9.6828e-01, 1.1917e-01],\n",
      "        [4.4416e-01, 5.9474e-02, 1.5480e-01, 9.9066e-01, 5.6405e-02],\n",
      "        [1.9583e-02, 5.4027e-02, 3.5642e-02, 7.8076e-01, 5.8634e-02],\n",
      "        [6.7072e-02, 3.2588e-01, 1.4179e-01, 7.7169e-01, 3.3473e-01],\n",
      "        [7.2490e-03, 3.6716e-01, 6.4004e-02, 2.6309e-01, 3.9760e-01],\n",
      "        [2.3498e-02, 5.1599e-02, 3.7645e-02, 8.1349e-01, 5.5627e-02],\n",
      "        [5.8922e-02, 4.8450e-02, 5.3765e-02, 9.1735e-01, 5.0435e-02],\n",
      "        [4.6475e-02, 1.6022e-01, 8.4621e-02, 8.0196e-01, 1.6759e-01],\n",
      "        [6.8048e-02, 7.6357e-02, 7.0060e-02, 9.0610e-01, 7.9004e-02],\n",
      "        [2.1763e-02, 1.8312e-02, 2.2883e-02, 8.8355e-01, 1.9825e-02],\n",
      "        [3.4537e-01, 3.2325e-02, 1.0354e-01, 9.9052e-01, 3.1067e-02],\n",
      "        [1.7750e-02, 4.7928e-02, 3.2398e-02, 7.7735e-01, 5.2227e-02],\n",
      "        [7.7949e-02, 3.4282e-02, 5.2004e-02, 9.4781e-01, 3.5293e-02],\n",
      "        [2.1068e-01, 2.8213e-02, 7.5257e-02, 9.8359e-01, 2.7811e-02],\n",
      "        [7.1052e-02, 4.0604e-01, 1.6534e-01, 7.4514e-01, 4.1526e-01],\n",
      "        [6.5474e-02, 6.4874e-02, 6.4056e-02, 9.1140e-01, 6.7237e-02],\n",
      "        [3.8996e-02, 4.4643e-02, 4.3557e-02, 8.8606e-01, 4.7226e-02],\n",
      "        [1.0338e-01, 5.9942e-02, 7.5185e-02, 9.4515e-01, 6.1014e-02],\n",
      "        [3.9672e-02, 4.1139e-02, 4.2294e-02, 8.9263e-01, 4.3494e-02],\n",
      "        [9.0095e-02, 4.6729e-01, 1.9806e-01, 7.6287e-01, 4.7437e-01],\n",
      "        [1.0437e-01, 2.1686e-01, 1.3625e-01, 8.8041e-01, 2.2036e-01],\n",
      "        [5.4557e-02, 3.5809e-02, 4.5489e-02, 9.2521e-01, 3.7394e-02],\n",
      "        [1.1154e-01, 2.8590e-01, 1.6110e-01, 8.6414e-01, 2.8961e-01],\n",
      "        [1.6490e-01, 2.0170e-01, 1.5902e-01, 9.2715e-01, 2.0169e-01],\n",
      "        [1.2895e-03, 8.0362e-03, 4.8305e-03, 4.6262e-01, 9.7036e-03],\n",
      "        [2.4921e-02, 5.2681e-02, 3.8941e-02, 8.2002e-01, 5.6665e-02],\n",
      "        [4.9658e-03, 1.1307e-01, 2.8680e-02, 3.7787e-01, 1.2807e-01],\n",
      "        [2.5594e-01, 7.1943e-02, 1.2332e-01, 9.7714e-01, 7.0405e-02],\n",
      "        [5.9153e-01, 3.4278e-01, 3.7735e-01, 9.8174e-01, 3.2579e-01],\n",
      "        [9.7552e-03, 6.3422e-02, 2.8762e-02, 6.2449e-01, 7.0564e-02],\n",
      "        [7.2849e-02, 4.5300e-02, 5.7120e-02, 9.3467e-01, 4.6764e-02],\n",
      "        [7.8574e-01, 7.9148e-02, 2.8545e-01, 9.9730e-01, 7.1168e-02],\n",
      "        [1.5669e-01, 3.5457e-02, 7.2061e-02, 9.7381e-01, 3.5443e-02],\n",
      "        [1.8399e-02, 5.3400e-02, 3.4548e-02, 7.7168e-01, 5.8091e-02],\n",
      "        [2.2298e-01, 4.5789e-02, 9.5112e-02, 9.7950e-01, 4.5056e-02],\n",
      "        [1.3963e-01, 2.8917e-02, 6.2565e-02, 9.7373e-01, 2.9045e-02],\n",
      "        [3.0120e-01, 1.9935e-01, 2.0700e-01, 9.6384e-01, 1.9454e-01],\n",
      "        [4.9343e-02, 6.0845e-02, 5.5258e-02, 8.8995e-01, 6.3757e-02],\n",
      "        [1.3256e-01, 2.5573e-01, 1.6304e-01, 8.9319e-01, 2.5769e-01],\n",
      "        [1.4185e-02, 2.2314e-01, 6.2271e-02, 5.0422e-01, 2.4126e-01],\n",
      "        [9.2603e-02, 1.0251e-01, 9.1144e-02, 9.1614e-01, 1.0477e-01],\n",
      "        [3.1538e-02, 1.5461e-01, 7.1088e-02, 7.3998e-01, 1.6390e-01],\n",
      "        [1.7823e-02, 2.1390e-02, 2.2554e-02, 8.5105e-01, 2.3337e-02],\n",
      "        [2.7036e-02, 6.3549e-02, 4.3878e-02, 8.1429e-01, 6.8107e-02],\n",
      "        [7.7316e-02, 1.9469e-02, 4.0417e-02, 9.6200e-01, 2.0042e-02],\n",
      "        [1.8336e-02, 1.2095e-01, 5.0594e-02, 6.6646e-01, 1.3091e-01],\n",
      "        [6.9397e-02, 5.8011e-02, 6.2450e-02, 9.2123e-01, 5.9994e-02],\n",
      "        [2.8029e-03, 4.8809e-02, 1.5180e-02, 3.7686e-01, 5.6937e-02],\n",
      "        [1.5315e-02, 2.0899e-01, 6.1998e-02, 5.3459e-01, 2.2575e-01],\n",
      "        [9.6350e-01, 8.1219e-01, 8.4172e-01, 9.9578e-01, 7.8216e-01],\n",
      "        [9.1231e-01, 9.2285e-01, 8.5003e-01, 9.8193e-01, 9.1159e-01],\n",
      "        [9.9006e-01, 9.9226e-01, 9.7704e-01, 9.9117e-01, 9.9025e-01],\n",
      "        [7.3895e-01, 6.6039e-01, 5.9187e-01, 9.7898e-01, 6.3749e-01],\n",
      "        [9.5003e-01, 9.8259e-01, 9.3611e-01, 9.7469e-01, 9.7944e-01],\n",
      "        [9.7966e-01, 8.6826e-01, 8.9220e-01, 9.9692e-01, 8.4249e-01],\n",
      "        [9.8561e-01, 9.5876e-01, 9.4412e-01, 9.9537e-01, 9.4910e-01],\n",
      "        [8.0259e-01, 8.3773e-01, 7.2353e-01, 9.7361e-01, 8.2174e-01],\n",
      "        [9.8415e-01, 9.6109e-01, 9.4337e-01, 9.9474e-01, 9.5212e-01],\n",
      "        [9.1539e-01, 9.7877e-01, 9.1342e-01, 9.6237e-01, 9.7546e-01],\n",
      "        [9.9590e-01, 8.3026e-01, 9.3477e-01, 9.9943e-01, 7.8843e-01],\n",
      "        [7.7447e-01, 9.8068e-01, 8.7165e-01, 8.9197e-01, 9.7862e-01],\n",
      "        [9.9473e-01, 7.3654e-01, 9.0927e-01, 9.9948e-01, 6.8247e-01],\n",
      "        [5.6270e-01, 8.6069e-01, 6.3592e-01, 9.1877e-01, 8.5229e-01],\n",
      "        [9.0420e-01, 8.7177e-01, 8.0853e-01, 9.8573e-01, 8.5461e-01],\n",
      "        [9.6361e-01, 9.6321e-01, 9.2272e-01, 9.8800e-01, 9.5612e-01],\n",
      "        [9.7890e-01, 9.1093e-01, 9.0843e-01, 9.9587e-01, 8.9268e-01],\n",
      "        [9.7721e-01, 9.8930e-01, 9.6262e-01, 9.8407e-01, 9.8695e-01],\n",
      "        [9.2219e-01, 9.3193e-01, 8.6417e-01, 9.8268e-01, 9.2154e-01],\n",
      "        [9.7150e-01, 9.5812e-01, 9.2593e-01, 9.9122e-01, 9.4962e-01],\n",
      "        [9.0172e-01, 9.8727e-01, 9.2552e-01, 9.4173e-01, 9.8537e-01],\n",
      "        [7.1273e-01, 9.7761e-01, 8.4700e-01, 8.6930e-01, 9.7553e-01],\n",
      "        [9.8700e-01, 9.3387e-01, 9.3383e-01, 9.9685e-01, 9.1852e-01],\n",
      "        [9.7186e-01, 9.7272e-01, 9.3879e-01, 9.8878e-01, 9.6709e-01],\n",
      "        [7.3479e-01, 9.0023e-01, 7.4093e-01, 9.4892e-01, 8.9112e-01],\n",
      "        [9.9813e-01, 8.1443e-01, 9.5002e-01, 9.9974e-01, 7.6431e-01],\n",
      "        [9.7117e-01, 7.8495e-01, 8.4525e-01, 9.9695e-01, 7.5008e-01],\n",
      "        [9.5473e-01, 9.6745e-01, 9.1988e-01, 9.8407e-01, 9.6148e-01],\n",
      "        [9.8152e-01, 9.3804e-01, 9.2605e-01, 9.9543e-01, 9.2456e-01],\n",
      "        [6.0829e-01, 9.8750e-01, 8.5564e-01, 7.5194e-01, 9.8658e-01],\n",
      "        [7.8346e-01, 9.3925e-01, 8.0293e-01, 9.4564e-01, 9.3284e-01],\n",
      "        [9.8534e-01, 9.6350e-01, 9.4665e-01, 9.9492e-01, 9.5494e-01],\n",
      "        [9.9967e-01, 9.8870e-01, 9.9346e-01, 9.9971e-01, 9.8378e-01],\n",
      "        [8.8016e-01, 9.6925e-01, 8.8314e-01, 9.5696e-01, 9.6501e-01],\n",
      "        [6.4433e-01, 9.6313e-01, 7.9385e-01, 8.7005e-01, 9.6020e-01],\n",
      "        [9.6152e-01, 9.7194e-01, 9.2961e-01, 9.8512e-01, 9.6656e-01],\n",
      "        [7.8251e-01, 8.0310e-01, 6.9103e-01, 9.7421e-01, 7.8533e-01],\n",
      "        [9.9705e-01, 9.8471e-01, 9.8123e-01, 9.9811e-01, 9.7984e-01],\n",
      "        [9.3379e-01, 9.8908e-01, 9.4108e-01, 9.5665e-01, 9.8724e-01],\n",
      "        [9.9204e-01, 9.3199e-01, 9.4493e-01, 9.9805e-01, 9.1475e-01],\n",
      "        [9.2917e-01, 7.9470e-01, 7.9030e-01, 9.9241e-01, 7.6753e-01],\n",
      "        [9.8447e-01, 9.2295e-01, 9.2393e-01, 9.9662e-01, 9.0590e-01],\n",
      "        [9.9773e-01, 9.4993e-01, 9.7122e-01, 9.9927e-01, 9.3401e-01],\n",
      "        [9.2361e-01, 6.4617e-01, 7.2223e-01, 9.9471e-01, 6.0953e-01],\n",
      "        [9.7658e-01, 7.1645e-01, 8.3520e-01, 9.9799e-01, 6.7314e-01],\n",
      "        [9.8543e-01, 7.1361e-01, 8.6062e-01, 9.9873e-01, 6.6591e-01],\n",
      "        [9.7597e-01, 8.8697e-01, 8.9283e-01, 9.9600e-01, 8.6509e-01],\n",
      "        [9.6511e-01, 9.0938e-01, 8.8778e-01, 9.9340e-01, 8.9278e-01],\n",
      "        [8.3966e-01, 8.4993e-01, 7.5218e-01, 9.7792e-01, 8.3358e-01],\n",
      "        [9.9203e-01, 9.9186e-01, 9.7858e-01, 9.9303e-01, 9.8967e-01]],\n",
      "       grad_fn=<SigmoidBackward0>) \n",
      "\n",
      "Output of layer 2\n",
      "tensor([[ 3.1380,  2.3736,  2.4958,  ..., -2.4553, -2.4378, -2.4555],\n",
      "        [ 2.1241,  2.6439,  2.6192,  ..., -2.2125, -1.9496, -1.4399],\n",
      "        [ 3.0937,  2.5772,  2.7109,  ..., -2.6184, -2.5465, -2.3518],\n",
      "        ...,\n",
      "        [ 0.9205, -2.3564, -2.6714,  ...,  2.7002,  2.2937, -2.7360],\n",
      "        [ 0.5750, -1.9323, -2.3193,  ...,  2.5057,  2.2289, -2.1727],\n",
      "        [ 1.4311, -2.4245, -2.6547,  ...,  2.5123,  2.0066, -3.2561]],\n",
      "       grad_fn=<AddmmBackward0>) \n",
      "\n",
      "Output of layer 3\n",
      "tensor([[0.9584, 0.9148, 0.9238,  ..., 0.0791, 0.0803, 0.0790],\n",
      "        [0.8932, 0.9336, 0.9321,  ..., 0.0986, 0.1246, 0.1916],\n",
      "        [0.9566, 0.9294, 0.9377,  ..., 0.0680, 0.0727, 0.0869],\n",
      "        ...,\n",
      "        [0.7152, 0.0866, 0.0647,  ..., 0.9370, 0.9084, 0.0609],\n",
      "        [0.6399, 0.1265, 0.0895,  ..., 0.9245, 0.9028, 0.1022],\n",
      "        [0.8071, 0.0813, 0.0657,  ..., 0.9250, 0.8815, 0.0371]],\n",
      "       grad_fn=<SigmoidBackward0>) \n",
      "\n",
      "Output of layer 4\n",
      "tensor([[ 5.3249, -3.3154, -2.4894],\n",
      "        [ 4.8705, -2.0609, -3.4915],\n",
      "        [ 5.4094, -3.2122, -2.7017],\n",
      "        [ 5.3170, -2.8416, -3.0409],\n",
      "        [ 5.1126, -2.5398, -3.1797],\n",
      "        [ 5.2118, -2.9770, -2.7658],\n",
      "        [ 5.2123, -2.8321, -2.9386],\n",
      "        [ 5.3961, -3.5350, -2.3102],\n",
      "        [ 5.3219, -2.8412, -3.0466],\n",
      "        [ 4.9756, -2.3189, -3.2952],\n",
      "        [ 5.1247, -2.6881, -3.0150],\n",
      "        [ 5.3000, -3.1256, -2.6857],\n",
      "        [ 5.4717, -3.5734, -2.3468],\n",
      "        [ 5.3579, -2.9558, -2.9492],\n",
      "        [ 5.1110, -2.4691, -3.2629],\n",
      "        [ 5.2702, -3.1129, -2.6684],\n",
      "        [ 5.0132, -2.8124, -2.7441],\n",
      "        [ 5.0582, -2.5626, -3.0925],\n",
      "        [ 4.9405, -2.2324, -3.3611],\n",
      "        [ 5.3764, -3.0394, -2.8702],\n",
      "        [ 4.7949, -2.1284, -3.3258],\n",
      "        [ 5.3447, -3.1618, -2.6914],\n",
      "        [ 5.2408, -3.5725, -2.0995],\n",
      "        [ 5.3881, -3.0869, -2.8266],\n",
      "        [ 5.4402, -3.1991, -2.7502],\n",
      "        [ 5.3927, -3.3183, -2.5592],\n",
      "        [ 5.0298, -2.7227, -2.8695],\n",
      "        [ 5.4205, -3.4431, -2.4433],\n",
      "        [ 5.1615, -2.8896, -2.8147],\n",
      "        [ 5.2472, -3.1695, -2.5766],\n",
      "        [ 5.4121, -3.2636, -2.6442],\n",
      "        [ 4.9891, -2.8188, -2.7100],\n",
      "        [ 4.6610, -3.7622, -1.2547],\n",
      "        [ 4.9092, -2.3465, -3.1885],\n",
      "        [ 5.3893, -3.3461, -2.5229],\n",
      "        [ 5.0211, -2.4535, -3.1830],\n",
      "        [ 4.8739, -2.0524, -3.5057],\n",
      "        [ 5.1177, -2.6898, -3.0053],\n",
      "        [ 5.2895, -2.9333, -2.9020],\n",
      "        [ 5.1732, -2.6080, -3.1639],\n",
      "        [ 5.4091, -3.2330, -2.6768],\n",
      "        [ 5.2542, -2.6923, -3.1511],\n",
      "        [ 4.9406, -2.1721, -3.4342],\n",
      "        [ 5.3154, -2.9420, -2.9198],\n",
      "        [ 5.1250, -2.4703, -3.2766],\n",
      "        [ 5.3904, -3.1072, -2.8050],\n",
      "        [ 5.0773, -2.4952, -3.1946],\n",
      "        [ 5.4780, -3.6859, -2.2239],\n",
      "        [ 5.4343, -3.4579, -2.4408],\n",
      "        [ 5.1879, -2.6387, -3.1432],\n",
      "        [-2.3044,  5.4378, -4.5761],\n",
      "        [-4.3385,  5.2036, -2.0838],\n",
      "        [-4.9305,  5.1138, -1.3785],\n",
      "        [-3.2588,  5.6529, -3.7699],\n",
      "        [-2.2565,  4.2548, -3.1862],\n",
      "        [ 1.0113,  2.3886, -4.5982],\n",
      "        [-3.3832,  5.6857, -3.6723],\n",
      "        [-3.8112,  5.7293, -3.2584],\n",
      "        [-3.0666,  5.2539, -3.5034],\n",
      "        [-3.7401,  5.6276, -3.2155],\n",
      "        [-3.6704,  5.8347, -3.5341],\n",
      "        [-4.7683,  5.4102, -1.8869],\n",
      "        [-3.2600,  5.6708, -3.7899],\n",
      "        [-3.9807,  5.7632, -3.1164],\n",
      "        [-4.4408,  5.6261, -2.4730],\n",
      "        [-1.6578,  3.5692, -3.0144],\n",
      "        [-3.7759,  5.6694, -3.2261],\n",
      "        [-3.6697,  5.7440, -3.4286],\n",
      "        [-3.9948,  5.6543, -2.9743],\n",
      "        [-3.6991,  5.7575, -3.4125],\n",
      "        [-1.4089,  3.0275, -2.6278],\n",
      "        [-3.3365,  4.9988, -2.9019],\n",
      "        [-3.8476,  5.7748, -3.2724],\n",
      "        [-3.0151,  4.5896, -2.7577],\n",
      "        [-3.7401,  5.0039, -2.4748],\n",
      "        [-2.2289,  5.4332, -4.6557],\n",
      "        [-3.4052,  5.6864, -3.6490],\n",
      "        [-1.3531,  4.7432, -4.8060],\n",
      "        [-4.4649,  5.3995, -2.1838],\n",
      "        [-4.3354,  2.9122,  0.6472],\n",
      "        [-2.6477,  5.4478, -4.2022],\n",
      "        [-3.9079,  5.7311, -3.1568],\n",
      "        [-5.3621,  4.1608,  0.1574],\n",
      "        [-4.2653,  5.6715, -2.7087],\n",
      "        [-3.2272,  5.6474, -3.7982],\n",
      "        [-4.4348,  5.5457, -2.3857],\n",
      "        [-4.2298,  5.7145, -2.7957],\n",
      "        [-4.2328,  4.7496, -1.6551],\n",
      "        [-3.6734,  5.6872, -3.3578],\n",
      "        [-3.3248,  4.7585, -2.6256],\n",
      "        [-1.3554,  4.3808, -4.3558],\n",
      "        [-3.7782,  5.5161, -3.0430],\n",
      "        [-2.8030,  5.2142, -3.7466],\n",
      "        [-3.5581,  5.8087, -3.6260],\n",
      "        [-3.3628,  5.6455, -3.6468],\n",
      "        [-4.0428,  5.8133, -3.1082],\n",
      "        [-2.6078,  5.2667, -4.0274],\n",
      "        [-3.8320,  5.6908, -3.1910],\n",
      "        [-1.6878,  5.0871, -4.8473],\n",
      "        [-1.5906,  4.5479, -4.2943],\n",
      "        [-2.5877, -2.1052,  4.8502],\n",
      "        [-2.0803, -2.5759,  4.8421],\n",
      "        [-1.9739, -2.9601,  5.1672],\n",
      "        [-2.9800, -0.4703,  3.3209],\n",
      "        [-1.9042, -2.9096,  5.0318],\n",
      "        [-2.3977, -2.4215,  5.0128],\n",
      "        [-2.0916, -2.8129,  5.1289],\n",
      "        [-2.2147, -1.9519,  4.2591],\n",
      "        [-2.0806, -2.8203,  5.1253],\n",
      "        [-1.8212, -2.8895,  4.9166],\n",
      "        [-2.5310, -2.3350,  5.0581],\n",
      "        [-1.2436, -2.9614,  4.3581],\n",
      "        [-2.8516, -1.8954,  4.8907],\n",
      "        [-1.2496, -1.8335,  3.0608],\n",
      "        [-2.2754, -2.2969,  4.7318],\n",
      "        [-2.0292, -2.8115,  5.0581],\n",
      "        [-2.2478, -2.6043,  5.0604],\n",
      "        [-1.9485, -2.9459,  5.1227],\n",
      "        [-2.0642, -2.6306,  4.8877],\n",
      "        [-2.0662, -2.7943,  5.0793],\n",
      "        [-1.7035, -2.9638,  4.8708],\n",
      "        [-0.9729, -2.9581,  4.0548],\n",
      "        [-2.1797, -2.7163,  5.1150],\n",
      "        [-2.0100, -2.8604,  5.0930],\n",
      "        [-1.6925, -2.3053,  4.0993],\n",
      "        [-2.5810, -2.2914,  5.0619],\n",
      "        [-2.6926, -1.9924,  4.8320],\n",
      "        [-1.9906, -2.8275,  5.0336],\n",
      "        [-2.1571, -2.7222,  5.0968],\n",
      "        [-0.0060, -3.2375,  3.2985],\n",
      "        [-1.6313, -2.6063,  4.3808],\n",
      "        [-2.0743, -2.8317,  5.1314],\n",
      "        [-2.0160, -2.9542,  5.2074],\n",
      "        [-1.7700, -2.8274,  4.7886],\n",
      "        [-0.7948, -2.8144,  3.6951],\n",
      "        [-1.9880, -2.8524,  5.0593],\n",
      "        [-2.3382, -1.6833,  4.0768],\n",
      "        [-2.0237, -2.9319,  5.1904],\n",
      "        [-1.8034, -2.9631,  4.9810],\n",
      "        [-2.1925, -2.7223,  5.1361],\n",
      "        [-2.6240, -1.9178,  4.6681],\n",
      "        [-2.2136, -2.6666,  5.0949],\n",
      "        [-2.1399, -2.8100,  5.1790],\n",
      "        [-3.2306, -0.9674,  4.1894],\n",
      "        [-2.9464, -1.6516,  4.7040],\n",
      "        [-2.9491, -1.6939,  4.7573],\n",
      "        [-2.3283, -2.4941,  5.0211],\n",
      "        [-2.2335, -2.5716,  5.0066],\n",
      "        [-2.2410, -2.0820,  4.4413],\n",
      "        [-1.9822, -2.9579,  5.1740]], grad_fn=<AddmmBackward0>) \n",
      "\n",
      "Output of layer 5\n",
      "tensor([[9.9942e-01, 1.7673e-04, 4.0366e-04],\n",
      "        [9.9879e-01, 9.7545e-04, 2.3330e-04],\n",
      "        [9.9952e-01, 1.8007e-04, 3.0004e-04],\n",
      "        [9.9948e-01, 2.8611e-04, 2.3441e-04],\n",
      "        [9.9928e-01, 4.7454e-04, 2.5025e-04],\n",
      "        [9.9938e-01, 2.7758e-04, 3.4282e-04],\n",
      "        [9.9939e-01, 3.2070e-04, 2.8833e-04],\n",
      "        [9.9942e-01, 1.3214e-04, 4.4972e-04],\n",
      "        [9.9948e-01, 2.8483e-04, 2.3195e-04],\n",
      "        [9.9907e-01, 6.7862e-04, 2.5564e-04],\n",
      "        [9.9930e-01, 4.0423e-04, 2.9150e-04],\n",
      "        [9.9944e-01, 2.1905e-04, 3.4010e-04],\n",
      "        [9.9948e-01, 1.1791e-04, 4.0204e-04],\n",
      "        [9.9951e-01, 2.4502e-04, 2.4662e-04],\n",
      "        [9.9926e-01, 5.1014e-04, 2.3063e-04],\n",
      "        [9.9942e-01, 2.2857e-04, 3.5650e-04],\n",
      "        [9.9917e-01, 3.9903e-04, 4.2725e-04],\n",
      "        [9.9922e-01, 4.8977e-04, 2.8831e-04],\n",
      "        [9.9899e-01, 7.6630e-04, 2.4785e-04],\n",
      "        [9.9952e-01, 2.2124e-04, 2.6202e-04],\n",
      "        [9.9872e-01, 9.8330e-04, 2.9697e-04],\n",
      "        [9.9947e-01, 2.0204e-04, 3.2340e-04],\n",
      "        [9.9920e-01, 1.4862e-04, 6.4834e-04],\n",
      "        [9.9952e-01, 2.0852e-04, 2.7051e-04],\n",
      "        [9.9955e-01, 1.7693e-04, 2.7717e-04],\n",
      "        [9.9948e-01, 1.6468e-04, 3.5183e-04],\n",
      "        [9.9920e-01, 4.2935e-04, 3.7072e-04],\n",
      "        [9.9947e-01, 1.4138e-04, 3.8423e-04],\n",
      "        [9.9934e-01, 3.1854e-04, 3.4333e-04],\n",
      "        [9.9938e-01, 2.2101e-04, 3.9986e-04],\n",
      "        [9.9951e-01, 1.7059e-04, 3.1692e-04],\n",
      "        [9.9914e-01, 4.0617e-04, 4.5287e-04],\n",
      "        [9.9709e-01, 2.1908e-04, 2.6890e-03],\n",
      "        [9.9899e-01, 7.0539e-04, 3.0391e-04],\n",
      "        [9.9947e-01, 1.6071e-04, 3.6604e-04],\n",
      "        [9.9916e-01, 5.6681e-04, 2.7331e-04],\n",
      "        [9.9879e-01, 9.8042e-04, 2.2923e-04],\n",
      "        [9.9930e-01, 4.0641e-04, 2.9644e-04],\n",
      "        [9.9945e-01, 2.6831e-04, 2.7686e-04],\n",
      "        [9.9934e-01, 4.1724e-04, 2.3932e-04],\n",
      "        [9.9952e-01, 1.7643e-04, 3.0770e-04],\n",
      "        [9.9942e-01, 3.5368e-04, 2.2355e-04],\n",
      "        [9.9896e-01, 8.1384e-04, 2.3035e-04],\n",
      "        [9.9948e-01, 2.5920e-04, 2.6501e-04],\n",
      "        [9.9927e-01, 5.0244e-04, 2.2435e-04],\n",
      "        [9.9952e-01, 2.0385e-04, 2.7578e-04],\n",
      "        [9.9923e-01, 5.1398e-04, 2.5540e-04],\n",
      "        [9.9944e-01, 1.0470e-04, 4.5173e-04],\n",
      "        [9.9948e-01, 1.3737e-04, 3.7987e-04],\n",
      "        [9.9936e-01, 3.9870e-04, 2.4076e-04],\n",
      "        [4.3394e-04, 9.9952e-01, 4.4755e-05],\n",
      "        [7.1711e-05, 9.9924e-01, 6.8361e-04],\n",
      "        [4.3369e-05, 9.9844e-01, 1.5128e-03],\n",
      "        [1.3478e-04, 9.9978e-01, 8.0845e-05],\n",
      "        [1.4835e-03, 9.9793e-01, 5.8551e-04],\n",
      "        [2.0129e-01, 7.9797e-01, 7.3732e-04],\n",
      "        [1.1518e-04, 9.9980e-01, 8.6260e-05],\n",
      "        [7.1866e-05, 9.9980e-01, 1.2491e-04],\n",
      "        [2.4339e-04, 9.9960e-01, 1.5725e-04],\n",
      "        [8.5423e-05, 9.9977e-01, 1.4435e-04],\n",
      "        [7.4460e-05, 9.9984e-01, 8.5336e-05],\n",
      "        [3.7952e-05, 9.9929e-01, 6.7698e-04],\n",
      "        [1.3223e-04, 9.9979e-01, 7.7842e-05],\n",
      "        [5.8641e-05, 9.9980e-01, 1.3917e-04],\n",
      "        [4.2448e-05, 9.9965e-01, 3.0371e-04],\n",
      "        [5.3338e-03, 9.9329e-01, 1.3735e-03],\n",
      "        [7.9045e-05, 9.9978e-01, 1.3697e-04],\n",
      "        [8.1585e-05, 9.9981e-01, 1.0383e-04],\n",
      "        [6.4471e-05, 9.9976e-01, 1.7888e-04],\n",
      "        [7.8162e-05, 9.9982e-01, 1.0410e-04],\n",
      "        [1.1659e-02, 9.8489e-01, 3.4461e-03],\n",
      "        [2.3975e-04, 9.9939e-01, 3.7027e-04],\n",
      "        [6.6218e-05, 9.9982e-01, 1.1770e-04],\n",
      "        [4.9754e-04, 9.9886e-01, 6.4356e-04],\n",
      "        [1.5930e-04, 9.9928e-01, 5.6457e-04],\n",
      "        [4.7010e-04, 9.9949e-01, 4.1518e-05],\n",
      "        [1.1259e-04, 9.9980e-01, 8.8230e-05],\n",
      "        [2.2461e-03, 9.9768e-01, 7.1095e-05],\n",
      "        [5.1965e-05, 9.9944e-01, 5.0856e-04],\n",
      "        [6.4453e-04, 9.0535e-01, 9.4010e-02],\n",
      "        [3.0479e-04, 9.9963e-01, 6.4404e-05],\n",
      "        [6.5126e-05, 9.9980e-01, 1.3801e-04],\n",
      "        [7.1842e-05, 9.8200e-01, 1.7925e-02],\n",
      "        [4.8349e-05, 9.9972e-01, 2.2930e-04],\n",
      "        [1.3987e-04, 9.9978e-01, 7.9017e-05],\n",
      "        [4.6276e-05, 9.9959e-01, 3.5913e-04],\n",
      "        [4.7989e-05, 9.9975e-01, 2.0135e-04],\n",
      "        [1.2538e-04, 9.9822e-01, 1.6508e-03],\n",
      "        [8.6026e-05, 9.9980e-01, 1.1795e-04],\n",
      "        [3.0835e-04, 9.9907e-01, 6.2046e-04],\n",
      "        [3.2161e-03, 9.9662e-01, 1.6006e-04],\n",
      "        [9.1925e-05, 9.9972e-01, 1.9174e-04],\n",
      "        [3.2958e-04, 9.9954e-01, 1.2828e-04],\n",
      "        [8.5501e-05, 9.9983e-01, 7.9896e-05],\n",
      "        [1.2236e-04, 9.9979e-01, 9.2119e-05],\n",
      "        [5.2420e-05, 9.9981e-01, 1.3347e-04],\n",
      "        [3.8014e-04, 9.9953e-01, 9.1923e-05],\n",
      "        [7.3145e-05, 9.9979e-01, 1.3886e-04],\n",
      "        [1.1406e-03, 9.9881e-01, 4.8421e-05],\n",
      "        [2.1533e-03, 9.9770e-01, 1.4417e-04],\n",
      "        [5.8762e-04, 9.5202e-04, 9.9846e-01],\n",
      "        [9.8395e-04, 5.9940e-04, 9.9842e-01],\n",
      "        [7.9105e-04, 2.9505e-04, 9.9891e-01],\n",
      "        [1.7910e-03, 2.2030e-02, 9.7618e-01],\n",
      "        [9.7089e-04, 3.5525e-04, 9.9867e-01],\n",
      "        [6.0416e-04, 5.8991e-04, 9.9881e-01],\n",
      "        [7.3062e-04, 3.5519e-04, 9.9891e-01],\n",
      "        [1.5379e-03, 2.0002e-03, 9.9646e-01],\n",
      "        [7.4134e-04, 3.5383e-04, 9.9890e-01],\n",
      "        [1.1833e-03, 4.0657e-04, 9.9841e-01],\n",
      "        [5.0535e-04, 6.1478e-04, 9.9888e-01],\n",
      "        [3.6754e-03, 6.5962e-04, 9.9566e-01],\n",
      "        [4.3339e-04, 1.1275e-03, 9.9844e-01],\n",
      "        [1.3154e-02, 7.3359e-03, 9.7951e-01],\n",
      "        [9.0372e-04, 8.8452e-04, 9.9821e-01],\n",
      "        [8.3466e-04, 3.8175e-04, 9.9878e-01],\n",
      "        [6.6922e-04, 4.6856e-04, 9.9886e-01],\n",
      "        [8.4828e-04, 3.1288e-04, 9.9884e-01],\n",
      "        [9.5535e-04, 5.4225e-04, 9.9850e-01],\n",
      "        [7.8756e-04, 3.8024e-04, 9.9883e-01],\n",
      "        [1.3932e-03, 3.9508e-04, 9.9821e-01],\n",
      "        [6.5053e-03, 8.9356e-04, 9.9260e-01],\n",
      "        [6.7839e-04, 3.9667e-04, 9.9892e-01],\n",
      "        [8.2166e-04, 3.5103e-04, 9.9883e-01],\n",
      "        [3.0383e-03, 1.6462e-03, 9.9532e-01],\n",
      "        [4.7892e-04, 6.3974e-04, 9.9888e-01],\n",
      "        [5.3878e-04, 1.0852e-03, 9.9838e-01],\n",
      "        [8.8898e-04, 3.8497e-04, 9.9873e-01],\n",
      "        [7.0659e-04, 4.0156e-04, 9.9889e-01],\n",
      "        [3.5366e-02, 1.3969e-03, 9.6324e-01],\n",
      "        [2.4409e-03, 9.2060e-04, 9.9664e-01],\n",
      "        [7.4151e-04, 3.4770e-04, 9.9891e-01],\n",
      "        [7.2862e-04, 2.8512e-04, 9.9899e-01],\n",
      "        [1.4151e-03, 4.9157e-04, 9.9809e-01],\n",
      "        [1.1081e-02, 1.4706e-03, 9.8745e-01],\n",
      "        [8.6871e-04, 3.6600e-04, 9.9877e-01],\n",
      "        [1.6290e-03, 3.1358e-03, 9.9524e-01],\n",
      "        [7.3540e-04, 2.9655e-04, 9.9897e-01],\n",
      "        [1.1297e-03, 3.5423e-04, 9.9852e-01],\n",
      "        [6.5584e-04, 3.8610e-04, 9.9896e-01],\n",
      "        [6.7944e-04, 1.3768e-03, 9.9794e-01],\n",
      "        [6.6907e-04, 4.2536e-04, 9.9891e-01],\n",
      "        [6.6222e-04, 3.3882e-04, 9.9900e-01],\n",
      "        [5.9540e-04, 5.7238e-03, 9.9368e-01],\n",
      "        [4.7481e-04, 1.7331e-03, 9.9779e-01],\n",
      "        [4.4901e-04, 1.5754e-03, 9.9798e-01],\n",
      "        [6.4225e-04, 5.4413e-04, 9.9881e-01],\n",
      "        [7.1637e-04, 5.1086e-04, 9.9877e-01],\n",
      "        [1.2495e-03, 1.4648e-03, 9.9729e-01],\n",
      "        [7.7916e-04, 2.9369e-04, 9.9893e-01]], grad_fn=<SoftmaxBackward0>) \n",
      "\n"
     ]
    }
   ],
   "source": [
    "# Write your code here\n",
    "scores, probabilities = network.forward(X_test, verbose=True)"
   ]
  },
  {
   "cell_type": "markdown",
   "metadata": {},
   "source": [
    "Now, let's get the prediction results on the test data to see if our model can handle unseen instances. Store the predicted labels in the variable `predictions`."
   ]
  },
  {
   "cell_type": "code",
   "execution_count": 45,
   "metadata": {},
   "outputs": [],
   "source": [
    "# Write your code here\n",
    "predictions = network.predict(probabilities)"
   ]
  },
  {
   "cell_type": "code",
   "execution_count": 46,
   "metadata": {},
   "outputs": [
    {
     "name": "stdout",
     "output_type": "stream",
     "text": [
      "tensor([0, 0, 0, 0, 0, 0, 0, 0, 0, 0, 0, 0, 0, 0, 0, 0, 0, 0, 0, 0, 0, 0, 0, 0,\n",
      "        0, 0, 0, 0, 0, 0, 0, 0, 0, 0, 0, 0, 0, 0, 0, 0, 0, 0, 0, 0, 0, 0, 0, 0,\n",
      "        0, 0, 1, 1, 1, 1, 1, 1, 1, 1, 1, 1, 1, 1, 1, 1, 1, 1, 1, 1, 1, 1, 1, 1,\n",
      "        1, 1, 1, 1, 1, 1, 1, 1, 1, 1, 1, 1, 1, 1, 1, 1, 1, 1, 1, 1, 1, 1, 1, 1,\n",
      "        1, 1, 1, 1, 2, 2, 2, 2, 2, 2, 2, 2, 2, 2, 2, 2, 2, 2, 2, 2, 2, 2, 2, 2,\n",
      "        2, 2, 2, 2, 2, 2, 2, 2, 2, 2, 2, 2, 2, 2, 2, 2, 2, 2, 2, 2, 2, 2, 2, 2,\n",
      "        2, 2, 2, 2, 2, 2])\n"
     ]
    }
   ],
   "source": [
    "print(predictions)"
   ]
  },
  {
   "cell_type": "markdown",
   "metadata": {},
   "source": [
    "Compare the ground truth labels with the predicted labels. Store the total number of correct predictions in the variable `num_correct`."
   ]
  },
  {
   "cell_type": "code",
   "execution_count": 47,
   "metadata": {},
   "outputs": [],
   "source": [
    "# Write your code here\n",
    "num_correct = (predictions == y_test).sum().item()"
   ]
  },
  {
   "cell_type": "code",
   "execution_count": 48,
   "metadata": {},
   "outputs": [
    {
     "name": "stdout",
     "output_type": "stream",
     "text": [
      "150\n"
     ]
    }
   ],
   "source": [
    "print(num_correct)"
   ]
  },
  {
   "cell_type": "markdown",
   "metadata": {},
   "source": [
    "Compute for the accuracy. Store the accuracy in the variable `accuracy`."
   ]
  },
  {
   "cell_type": "code",
   "execution_count": 49,
   "metadata": {},
   "outputs": [],
   "source": [
    "# Write your code here\n",
    "accuracy = num_correct / len(y_test)"
   ]
  },
  {
   "cell_type": "code",
   "execution_count": 50,
   "metadata": {},
   "outputs": [
    {
     "name": "stdout",
     "output_type": "stream",
     "text": [
      "1.0000\n"
     ]
    }
   ],
   "source": [
    "print('{:.4f}'.format(accuracy))"
   ]
  },
  {
   "cell_type": "markdown",
   "metadata": {},
   "source": [
    "**Question #13:** What is the accuracy of the network when evaluated on the test set? Express your answer in a floating point number from 0 to 1. Limit to 4 decimal places."
   ]
  },
  {
   "cell_type": "markdown",
   "metadata": {},
   "source": [
    "<!--crumb;qna;Q13-->"
   ]
  },
  {
   "cell_type": "markdown",
   "metadata": {},
   "source": [
    "A: 1.0000"
   ]
  },
  {
   "cell_type": "markdown",
   "metadata": {},
   "source": [
    "Let's visualize the loss for each training epoch."
   ]
  },
  {
   "cell_type": "code",
   "execution_count": 51,
   "metadata": {},
   "outputs": [
    {
     "data": {
      "text/plain": [
       "Text(0.5, 1.0, 'Loss for each training epoch')"
      ]
     },
     "execution_count": 51,
     "metadata": {},
     "output_type": "execute_result"
    },
    {
     "data": {
      "image/png": "[encoded data removed]",
      "text/plain": [
       "<Figure size 800x800 with 1 Axes>"
      ]
     },
     "metadata": {},
     "output_type": "display_data"
    }
   ],
   "source": [
    "x_values = [i for i in range(len(losses))]\n",
    "y_values = losses\n",
    "\n",
    "plt.plot(x_values, y_values)\n",
    "plt.xlabel('Epochs')\n",
    "plt.ylabel('Loss')\n",
    "plt.title('Loss for each training epoch')"
   ]
  },
  {
   "cell_type": "markdown",
   "metadata": {},
   "source": [
    "**Question #14:** Around what epoch did our training converge, i.e., when there are minimal changes in the value of the loss?"
   ]
  },
  {
   "cell_type": "markdown",
   "metadata": {},
   "source": [
    "<!--crumb;qna;Q14-->"
   ]
  },
  {
   "cell_type": "markdown",
   "metadata": {},
   "source": [
    "A: around 75"
   ]
  },
  {
   "cell_type": "markdown",
   "metadata": {},
   "source": [
    "# Iris Dataset\n",
    "We will use the Iris dataset as our dataset. Each instance represents an Iris flower using 4 distinct features:\n",
    "- `sepal_length` - length of the sepal in centimeters\n",
    "- `sepal_width` - width of the sepal in centimeters\n",
    "- `petal_length` - length of the petal in centimeters\n",
    "- `petal_width` - width of the petal in centimeters\n",
    "\n",
    "Iris flowers can be 3 divided into different classes, which are:\n",
    "- `Iris-setosa` - class `0`\n",
    "- `Iris-versicolor` - class `1`\n",
    "- `Iris-virginica` - class `2`"
   ]
  },
  {
   "cell_type": "markdown",
   "metadata": {},
   "source": [
    "Let's load `Iris.csv`."
   ]
  },
  {
   "cell_type": "code",
   "execution_count": 52,
   "metadata": {},
   "outputs": [
    {
     "name": "stdout",
     "output_type": "stream",
     "text": [
      "Training data shape: (150, 4)\n",
      "Ground truth values shape: (150,)\n"
     ]
    }
   ],
   "source": [
    "classes = {\n",
    "    'Iris-setosa': 0,\n",
    "    'Iris-versicolor': 1,\n",
    "    'Iris-virginica': 2\n",
    "}\n",
    "\n",
    "with open('Iris.csv', 'r') as csv_file:\n",
    "    raw_data = csv.reader(csv_file)\n",
    "    X_iris = np.empty((0, 4), float)\n",
    "    y_iris = np.empty((0, 1), int)\n",
    "    for row in raw_data:\n",
    "        X_iris = np.vstack([X_iris, np.array([float(row[0]),     # column for sepal_length\n",
    "                                              float(row[1]),     # column for sepal_width\n",
    "                                              float(row[2]),     # column for petal_length\n",
    "                                              float(row[3])])])  # column for petal_width\n",
    "        \n",
    "        y_iris = np.append(y_iris, np.array([classes[row[4]]]))  # column for class\n",
    "\n",
    "# This transforms the vector of length N into a matrix with shape (N, 1)\n",
    "y_house = np.expand_dims(y_iris, 1) \n",
    "\n",
    "print('Training data shape:', X_iris.shape)\n",
    "print('Ground truth values shape:', y_iris.shape)"
   ]
  },
  {
   "cell_type": "markdown",
   "metadata": {},
   "source": [
    "Let's get the number of instances per class."
   ]
  },
  {
   "cell_type": "code",
   "execution_count": 53,
   "metadata": {},
   "outputs": [
    {
     "name": "stdout",
     "output_type": "stream",
     "text": [
      "Number of class 0: 50\n",
      "Number of class 1: 50\n",
      "Number of class 2: 50\n"
     ]
    }
   ],
   "source": [
    "X_iris_0 = X_iris[y_iris == 0]\n",
    "X_iris_1 = X_iris[y_iris == 1]\n",
    "X_iris_2 = X_iris[y_iris == 2]\n",
    "\n",
    "print('Number of class 0:', len(X_iris_0))\n",
    "print('Number of class 1:', len(X_iris_1))\n",
    "print('Number of class 2:', len(X_iris_2))"
   ]
  },
  {
   "cell_type": "markdown",
   "metadata": {},
   "source": [
    "There are 50 instances for each class."
   ]
  },
  {
   "cell_type": "markdown",
   "metadata": {},
   "source": [
    "Let's divide the dataset into train and test set. The test set will contain 10 instances for each class."
   ]
  },
  {
   "cell_type": "code",
   "execution_count": 54,
   "metadata": {},
   "outputs": [
    {
     "name": "stdout",
     "output_type": "stream",
     "text": [
      "(30, 4)\n",
      "(30,)\n"
     ]
    }
   ],
   "source": [
    "np.random.seed(1)\n",
    "\n",
    "# Select 10 `class 0` instances\n",
    "selected_0 = np.random.choice(np.arange(len(X_iris_0)),\n",
    "                              size=10,\n",
    "                              replace=False)\n",
    "\n",
    "# Select 10 `class 1` instances\n",
    "selected_1 = np.random.choice(np.arange(len(X_iris_1)),\n",
    "                              size=10,\n",
    "                              replace=False)\n",
    "\n",
    "# Select 10 `class 2` instances\n",
    "selected_2 = np.random.choice(np.arange(len(X_iris_2)),\n",
    "                              size=10,\n",
    "                              replace=False)\n",
    "\n",
    "# Form the test set\n",
    "X_test = np.concatenate((X_iris_0[selected_0],\n",
    "                         X_iris_1[selected_1],\n",
    "                         X_iris_2[selected_2]))\n",
    "y_test = np.concatenate((np.array([0 for _ in range(10)]),\n",
    "                         np.array([1 for _ in range(10)]),\n",
    "                         np.array([2 for _ in range(10)])))\n",
    "\n",
    "print(X_test.shape)\n",
    "print(y_test.shape)"
   ]
  },
  {
   "cell_type": "markdown",
   "metadata": {},
   "source": [
    "The remaining 120 instances will be a part of the train set, where each class has 40 instances."
   ]
  },
  {
   "cell_type": "code",
   "execution_count": 55,
   "metadata": {},
   "outputs": [
    {
     "name": "stdout",
     "output_type": "stream",
     "text": [
      "(120, 4)\n",
      "(120,)\n"
     ]
    }
   ],
   "source": [
    "X_train = np.concatenate((np.delete(X_iris_0, selected_0, 0),\n",
    "                          np.delete(X_iris_1, selected_1, 0),\n",
    "                          np.delete(X_iris_2, selected_2, 0)))\n",
    "y_train = np.concatenate((np.array([0 for _ in range(40)]),\n",
    "                          np.array([1 for _ in range(40)]),\n",
    "                          np.array([2 for _ in range(40)])))\n",
    "\n",
    "print(X_train.shape)\n",
    "print(y_train.shape)"
   ]
  },
  {
   "cell_type": "markdown",
   "metadata": {},
   "source": [
    "Convert the `np.ndarray` arrays to `torch.Tensor`. We use `torch.Tensor` in PyTorch."
   ]
  },
  {
   "cell_type": "markdown",
   "metadata": {},
   "source": [
    "Convert the variable `X_train` to the datatype `torch.Tensor` and assign the return value to variable `X_train`."
   ]
  },
  {
   "cell_type": "code",
   "execution_count": 56,
   "metadata": {},
   "outputs": [],
   "source": [
    "# Write your code here\n",
    "X_train = torch.Tensor(X_train)"
   ]
  },
  {
   "cell_type": "markdown",
   "metadata": {},
   "source": [
    "Convert the variable `y_train` to the datatype `torch.Tensor` and assign the return value to variable `y_train`."
   ]
  },
  {
   "cell_type": "code",
   "execution_count": 58,
   "metadata": {},
   "outputs": [],
   "source": [
    "# Write your code here\n",
    "y_train = torch.Tensor(y_train)"
   ]
  },
  {
   "cell_type": "markdown",
   "metadata": {},
   "source": [
    "Convert the variable `X_test` to the datatype `torch.Tensor` and assign the return value to variable `X_test`."
   ]
  },
  {
   "cell_type": "code",
   "execution_count": 59,
   "metadata": {},
   "outputs": [],
   "source": [
    "# Write your code here\n",
    "X_test = torch.Tensor(X_test)"
   ]
  },
  {
   "cell_type": "markdown",
   "metadata": {},
   "source": [
    "Convert the variable `y_test` to the datatype `torch.Tensor` and assign the return value to variable `y_test`."
   ]
  },
  {
   "cell_type": "code",
   "execution_count": 60,
   "metadata": {},
   "outputs": [],
   "source": [
    "# Write your code here\n",
    "y_test = torch.Tensor(y_test)"
   ]
  },
  {
   "cell_type": "markdown",
   "metadata": {},
   "source": [
    "## Setting up the training pipeline\n",
    "\n",
    "Set-up the following:\n",
    "- Network\n",
    "- Optimizer\n",
    "- Loss function\n",
    "- Data loader"
   ]
  },
  {
   "cell_type": "markdown",
   "metadata": {},
   "source": [
    "Instantiate a `NeuralNetwork` object. Set the following parameters:\n",
    "- `list_hidden` = (5, 10)\n",
    "- `activation` = `sigmoid`\n",
    "\n",
    "Here, we are creating a Neural Network with two hidden layers, where there are 5 units in the first layer and 10 units in the second layer.\n",
    "\n",
    "Set the other parameters according to the Iris dataset."
   ]
  },
  {
   "cell_type": "code",
   "execution_count": 62,
   "metadata": {
    "scrolled": true
   },
   "outputs": [],
   "source": [
    "# Write your code here\n",
    "network = NeuralNetwork(\n",
    "    list_hidden=(5, 10),\n",
    "    activation='sigmoid',\n",
    "    input_size=4,\n",
    "    num_classes=3\n",
    ")"
   ]
  },
  {
   "cell_type": "markdown",
   "metadata": {},
   "source": [
    "Create the network and initialize the weights."
   ]
  },
  {
   "cell_type": "code",
   "execution_count": 63,
   "metadata": {},
   "outputs": [],
   "source": [
    "# Write your code here\n",
    "network.create_network()\n",
    "network.init_weights()"
   ]
  },
  {
   "cell_type": "markdown",
   "metadata": {},
   "source": [
    "Display the structure of the neural network."
   ]
  },
  {
   "cell_type": "code",
   "execution_count": 64,
   "metadata": {},
   "outputs": [
    {
     "name": "stdout",
     "output_type": "stream",
     "text": [
      "NeuralNetwork(\n",
      "  (layers): Sequential(\n",
      "    (0): Linear(in_features=4, out_features=5, bias=True)\n",
      "    (1): Sigmoid()\n",
      "    (2): Linear(in_features=5, out_features=10, bias=True)\n",
      "    (3): Sigmoid()\n",
      "    (4): Linear(in_features=10, out_features=3, bias=True)\n",
      "    (5): Softmax(dim=1)\n",
      "  )\n",
      ")\n"
     ]
    }
   ],
   "source": [
    "# Write your code here\n",
    "print(network)"
   ]
  },
  {
   "cell_type": "markdown",
   "metadata": {},
   "source": [
    "**Question #15:** Give the value of the `in_features` of the first `nn.Linear` module (Index 0)."
   ]
  },
  {
   "cell_type": "markdown",
   "metadata": {},
   "source": [
    "<!--crumb;qna;Q15-->"
   ]
  },
  {
   "cell_type": "markdown",
   "metadata": {},
   "source": [
    "A: 4"
   ]
  },
  {
   "cell_type": "markdown",
   "metadata": {},
   "source": [
    "**Question #16:** Give the value of the `out_features` of the last `nn.Linear` module (Index 4)."
   ]
  },
  {
   "cell_type": "markdown",
   "metadata": {},
   "source": [
    "<!--crumb;qna;Q16-->"
   ]
  },
  {
   "cell_type": "markdown",
   "metadata": {},
   "source": [
    "A: 3"
   ]
  },
  {
   "cell_type": "markdown",
   "metadata": {},
   "source": [
    "We will use Adam as our optimizer.\n",
    "\n",
    "Instantiate an `optim.Adam` object. Set the following parameters:\n",
    "- `params` = Set this to the parameters of your network\n",
    "- `lr` = `0.001`"
   ]
  },
  {
   "cell_type": "code",
   "execution_count": 65,
   "metadata": {},
   "outputs": [],
   "source": [
    "# Write your code here\n",
    "optimizer = optim.Adam(\n",
    "    params = network.parameters(),\n",
    "    lr = 0.001\n",
    ")"
   ]
  },
  {
   "cell_type": "markdown",
   "metadata": {},
   "source": [
    "Instantiate a `nn.CrossEntropy()` object. Do not change any default values set as parameter. Assign it to the variable `criterion`."
   ]
  },
  {
   "cell_type": "code",
   "execution_count": 66,
   "metadata": {},
   "outputs": [],
   "source": [
    "# Write your code here\n",
    "criterion = nn.CrossEntropyLoss()"
   ]
  },
  {
   "cell_type": "markdown",
   "metadata": {},
   "source": [
    "We will train the model using mini-batch gradient descent. \n",
    "\n",
    "Instantiate a `DataLoader` object. Pass the `X` and `y` of the train set and `32` as our `batch_size`. Assign it to the variable `data_loader`."
   ]
  },
  {
   "cell_type": "code",
   "execution_count": 67,
   "metadata": {},
   "outputs": [],
   "source": [
    "# Write your code here\n",
    "data_loader = DataLoader(X_train, y_train, batch_size=32)"
   ]
  },
  {
   "cell_type": "markdown",
   "metadata": {},
   "source": [
    "## Training the network\n",
    "\n",
    "Train your network. Complete the code below."
   ]
  },
  {
   "cell_type": "code",
   "execution_count": 68,
   "metadata": {},
   "outputs": [
    {
     "name": "stdout",
     "output_type": "stream",
     "text": [
      "Epoch: 1 \tLoss: 1.104074\n",
      "Epoch: 2 \tLoss: 1.101355\n",
      "Epoch: 3 \tLoss: 1.101011\n",
      "Epoch: 4 \tLoss: 1.100092\n",
      "Epoch: 5 \tLoss: 1.100254\n",
      "Epoch: 6 \tLoss: 1.099174\n",
      "Epoch: 7 \tLoss: 1.098550\n",
      "Epoch: 8 \tLoss: 1.098167\n",
      "Epoch: 9 \tLoss: 1.097959\n",
      "Epoch: 10 \tLoss: 1.097678\n",
      "Epoch: 11 \tLoss: 1.097428\n",
      "Epoch: 12 \tLoss: 1.097114\n",
      "Epoch: 13 \tLoss: 1.096847\n",
      "Epoch: 14 \tLoss: 1.096763\n",
      "Epoch: 15 \tLoss: 1.096608\n",
      "Epoch: 16 \tLoss: 1.096368\n",
      "Epoch: 17 \tLoss: 1.096132\n",
      "Epoch: 18 \tLoss: 1.095962\n",
      "Epoch: 19 \tLoss: 1.095682\n",
      "Epoch: 20 \tLoss: 1.095416\n",
      "Epoch: 21 \tLoss: 1.095172\n",
      "Epoch: 22 \tLoss: 1.094897\n",
      "Epoch: 23 \tLoss: 1.094585\n",
      "Epoch: 24 \tLoss: 1.094254\n",
      "Epoch: 25 \tLoss: 1.094017\n",
      "Epoch: 26 \tLoss: 1.093586\n",
      "Epoch: 27 \tLoss: 1.093105\n",
      "Epoch: 28 \tLoss: 1.092706\n",
      "Epoch: 29 \tLoss: 1.092297\n",
      "Epoch: 30 \tLoss: 1.091794\n",
      "Epoch: 31 \tLoss: 1.091212\n",
      "Epoch: 32 \tLoss: 1.090706\n",
      "Epoch: 33 \tLoss: 1.090277\n",
      "Epoch: 34 \tLoss: 1.089601\n",
      "Epoch: 35 \tLoss: 1.088924\n",
      "Epoch: 36 \tLoss: 1.088247\n",
      "Epoch: 37 \tLoss: 1.087659\n",
      "Epoch: 38 \tLoss: 1.086767\n",
      "Epoch: 39 \tLoss: 1.086214\n",
      "Epoch: 40 \tLoss: 1.085074\n",
      "Epoch: 41 \tLoss: 1.084165\n",
      "Epoch: 42 \tLoss: 1.083464\n",
      "Epoch: 43 \tLoss: 1.082396\n",
      "Epoch: 44 \tLoss: 1.081253\n",
      "Epoch: 45 \tLoss: 1.080363\n",
      "Epoch: 46 \tLoss: 1.079201\n",
      "Epoch: 47 \tLoss: 1.077676\n",
      "Epoch: 48 \tLoss: 1.076479\n",
      "Epoch: 49 \tLoss: 1.075152\n",
      "Epoch: 50 \tLoss: 1.073521\n",
      "Epoch: 51 \tLoss: 1.072158\n",
      "Epoch: 52 \tLoss: 1.070669\n",
      "Epoch: 53 \tLoss: 1.068536\n",
      "Epoch: 54 \tLoss: 1.066917\n",
      "Epoch: 55 \tLoss: 1.065036\n",
      "Epoch: 56 \tLoss: 1.062999\n",
      "Epoch: 57 \tLoss: 1.060858\n",
      "Epoch: 58 \tLoss: 1.058637\n",
      "Epoch: 59 \tLoss: 1.056692\n",
      "Epoch: 60 \tLoss: 1.054622\n",
      "Epoch: 61 \tLoss: 1.050867\n",
      "Epoch: 62 \tLoss: 1.048883\n",
      "Epoch: 63 \tLoss: 1.045344\n",
      "Epoch: 64 \tLoss: 1.042781\n",
      "Epoch: 65 \tLoss: 1.039644\n",
      "Epoch: 66 \tLoss: 1.036794\n",
      "Epoch: 67 \tLoss: 1.032867\n",
      "Epoch: 68 \tLoss: 1.029572\n",
      "Epoch: 69 \tLoss: 1.025349\n",
      "Epoch: 70 \tLoss: 1.020663\n",
      "Epoch: 71 \tLoss: 1.017561\n",
      "Epoch: 72 \tLoss: 1.012249\n",
      "Epoch: 73 \tLoss: 1.009841\n",
      "Epoch: 74 \tLoss: 1.004194\n",
      "Epoch: 75 \tLoss: 0.999763\n",
      "Epoch: 76 \tLoss: 0.994714\n",
      "Epoch: 77 \tLoss: 0.989750\n",
      "Epoch: 78 \tLoss: 0.983381\n",
      "Epoch: 79 \tLoss: 0.977316\n",
      "Epoch: 80 \tLoss: 0.971553\n",
      "Epoch: 81 \tLoss: 0.968353\n",
      "Epoch: 82 \tLoss: 0.960969\n",
      "Epoch: 83 \tLoss: 0.954519\n",
      "Epoch: 84 \tLoss: 0.948769\n",
      "Epoch: 85 \tLoss: 0.942030\n",
      "Epoch: 86 \tLoss: 0.935539\n",
      "Epoch: 87 \tLoss: 0.928334\n",
      "Epoch: 88 \tLoss: 0.923390\n",
      "Epoch: 89 \tLoss: 0.915563\n",
      "Epoch: 90 \tLoss: 0.909519\n",
      "Epoch: 91 \tLoss: 0.897273\n",
      "Epoch: 92 \tLoss: 0.891611\n",
      "Epoch: 93 \tLoss: 0.886534\n",
      "Epoch: 94 \tLoss: 0.881612\n",
      "Epoch: 95 \tLoss: 0.872850\n",
      "Epoch: 96 \tLoss: 0.867598\n",
      "Epoch: 97 \tLoss: 0.856620\n",
      "Epoch: 98 \tLoss: 0.848753\n",
      "Epoch: 99 \tLoss: 0.844346\n",
      "Epoch: 100 \tLoss: 0.833209\n",
      "Epoch: 101 \tLoss: 0.825871\n",
      "Epoch: 102 \tLoss: 0.817994\n",
      "Epoch: 103 \tLoss: 0.811556\n",
      "Epoch: 104 \tLoss: 0.807881\n",
      "Epoch: 105 \tLoss: 0.798051\n",
      "Epoch: 106 \tLoss: 0.793682\n",
      "Epoch: 107 \tLoss: 0.786991\n",
      "Epoch: 108 \tLoss: 0.777049\n",
      "Epoch: 109 \tLoss: 0.770946\n",
      "Epoch: 110 \tLoss: 0.764057\n",
      "Epoch: 111 \tLoss: 0.758377\n",
      "Epoch: 112 \tLoss: 0.747078\n",
      "Epoch: 113 \tLoss: 0.742028\n",
      "Epoch: 114 \tLoss: 0.734278\n",
      "Epoch: 115 \tLoss: 0.726442\n",
      "Epoch: 116 \tLoss: 0.722978\n",
      "Epoch: 117 \tLoss: 0.710732\n",
      "Epoch: 118 \tLoss: 0.710106\n",
      "Epoch: 119 \tLoss: 0.702527\n",
      "Epoch: 120 \tLoss: 0.697596\n",
      "Epoch: 121 \tLoss: 0.690622\n",
      "Epoch: 122 \tLoss: 0.688023\n",
      "Epoch: 123 \tLoss: 0.682662\n",
      "Epoch: 124 \tLoss: 0.675716\n",
      "Epoch: 125 \tLoss: 0.670267\n",
      "Epoch: 126 \tLoss: 0.663880\n",
      "Epoch: 127 \tLoss: 0.659202\n",
      "Epoch: 128 \tLoss: 0.656289\n",
      "Epoch: 129 \tLoss: 0.653567\n",
      "Epoch: 130 \tLoss: 0.645083\n",
      "Epoch: 131 \tLoss: 0.638786\n",
      "Epoch: 132 \tLoss: 0.635055\n",
      "Epoch: 133 \tLoss: 0.632831\n",
      "Epoch: 134 \tLoss: 0.633421\n",
      "Epoch: 135 \tLoss: 0.626477\n",
      "Epoch: 136 \tLoss: 0.617179\n",
      "Epoch: 137 \tLoss: 0.616139\n",
      "Epoch: 138 \tLoss: 0.612243\n",
      "Epoch: 139 \tLoss: 0.611422\n",
      "Epoch: 140 \tLoss: 0.606270\n",
      "Epoch: 141 \tLoss: 0.603232\n",
      "Epoch: 142 \tLoss: 0.599914\n",
      "Epoch: 143 \tLoss: 0.594693\n",
      "Epoch: 144 \tLoss: 0.590305\n",
      "Epoch: 145 \tLoss: 0.591241\n",
      "Epoch: 146 \tLoss: 0.589528\n",
      "Epoch: 147 \tLoss: 0.582941\n",
      "Epoch: 148 \tLoss: 0.576930\n",
      "Epoch: 149 \tLoss: 0.574934\n",
      "Epoch: 150 \tLoss: 0.579592\n",
      "Epoch: 151 \tLoss: 0.576648\n",
      "Epoch: 152 \tLoss: 0.568548\n",
      "Epoch: 153 \tLoss: 0.569848\n",
      "Epoch: 154 \tLoss: 0.571477\n",
      "Epoch: 155 \tLoss: 0.561435\n",
      "Epoch: 156 \tLoss: 0.563757\n",
      "Epoch: 157 \tLoss: 0.555888\n",
      "Epoch: 158 \tLoss: 0.556448\n",
      "Epoch: 159 \tLoss: 0.554588\n",
      "Epoch: 160 \tLoss: 0.553885\n",
      "Epoch: 161 \tLoss: 0.546099\n",
      "Epoch: 162 \tLoss: 0.548050\n",
      "Epoch: 163 \tLoss: 0.546996\n",
      "Epoch: 164 \tLoss: 0.541852\n",
      "Epoch: 165 \tLoss: 0.546162\n",
      "Epoch: 166 \tLoss: 0.541032\n",
      "Epoch: 167 \tLoss: 0.531893\n",
      "Epoch: 168 \tLoss: 0.537362\n",
      "Epoch: 169 \tLoss: 0.529898\n",
      "Epoch: 170 \tLoss: 0.533858\n",
      "Epoch: 171 \tLoss: 0.530924\n",
      "Epoch: 172 \tLoss: 0.530202\n",
      "Epoch: 173 \tLoss: 0.525653\n",
      "Epoch: 174 \tLoss: 0.523750\n",
      "Epoch: 175 \tLoss: 0.528919\n",
      "Epoch: 176 \tLoss: 0.520867\n",
      "Epoch: 177 \tLoss: 0.518971\n",
      "Epoch: 178 \tLoss: 0.516761\n",
      "Epoch: 179 \tLoss: 0.515855\n",
      "Epoch: 180 \tLoss: 0.517868\n",
      "Epoch: 181 \tLoss: 0.513289\n",
      "Epoch: 182 \tLoss: 0.513038\n",
      "Epoch: 183 \tLoss: 0.508736\n",
      "Epoch: 184 \tLoss: 0.510321\n",
      "Epoch: 185 \tLoss: 0.510012\n",
      "Epoch: 186 \tLoss: 0.508439\n",
      "Epoch: 187 \tLoss: 0.509434\n",
      "Epoch: 188 \tLoss: 0.506748\n",
      "Epoch: 189 \tLoss: 0.504513\n",
      "Epoch: 190 \tLoss: 0.499871\n",
      "Epoch: 191 \tLoss: 0.504909\n",
      "Epoch: 192 \tLoss: 0.496546\n",
      "Epoch: 193 \tLoss: 0.501428\n",
      "Epoch: 194 \tLoss: 0.495394\n",
      "Epoch: 195 \tLoss: 0.495877\n",
      "Epoch: 196 \tLoss: 0.493053\n",
      "Epoch: 197 \tLoss: 0.495347\n",
      "Epoch: 198 \tLoss: 0.490850\n",
      "Epoch: 199 \tLoss: 0.494434\n",
      "Epoch: 200 \tLoss: 0.492894\n",
      "Epoch: 201 \tLoss: 0.486202\n",
      "Epoch: 202 \tLoss: 0.490519\n",
      "Epoch: 203 \tLoss: 0.483756\n",
      "Epoch: 204 \tLoss: 0.488239\n",
      "Epoch: 205 \tLoss: 0.482825\n",
      "Epoch: 206 \tLoss: 0.481321\n",
      "Epoch: 207 \tLoss: 0.479377\n",
      "Epoch: 208 \tLoss: 0.478433\n",
      "Epoch: 209 \tLoss: 0.477881\n",
      "Epoch: 210 \tLoss: 0.474432\n",
      "Epoch: 211 \tLoss: 0.479518\n",
      "Epoch: 212 \tLoss: 0.471253\n",
      "Epoch: 213 \tLoss: 0.471653\n",
      "Epoch: 214 \tLoss: 0.478482\n",
      "Epoch: 215 \tLoss: 0.474070\n",
      "Epoch: 216 \tLoss: 0.472543\n",
      "Epoch: 217 \tLoss: 0.468627\n",
      "Epoch: 218 \tLoss: 0.464839\n",
      "Epoch: 219 \tLoss: 0.461905\n",
      "Epoch: 220 \tLoss: 0.467517\n",
      "Epoch: 221 \tLoss: 0.467072\n",
      "Epoch: 222 \tLoss: 0.460546\n",
      "Epoch: 223 \tLoss: 0.461439\n",
      "Epoch: 224 \tLoss: 0.458587\n",
      "Epoch: 225 \tLoss: 0.454081\n",
      "Epoch: 226 \tLoss: 0.451576\n",
      "Epoch: 227 \tLoss: 0.453866\n",
      "Epoch: 228 \tLoss: 0.451823\n",
      "Epoch: 229 \tLoss: 0.447651\n",
      "Epoch: 230 \tLoss: 0.446033\n",
      "Epoch: 231 \tLoss: 0.448697\n",
      "Epoch: 232 \tLoss: 0.442054\n",
      "Epoch: 233 \tLoss: 0.442735\n",
      "Epoch: 234 \tLoss: 0.439130\n",
      "Epoch: 235 \tLoss: 0.443109\n",
      "Epoch: 236 \tLoss: 0.442247\n",
      "Epoch: 237 \tLoss: 0.439563\n",
      "Epoch: 238 \tLoss: 0.438290\n",
      "Epoch: 239 \tLoss: 0.441682\n",
      "Epoch: 240 \tLoss: 0.435586\n",
      "Epoch: 241 \tLoss: 0.429744\n",
      "Epoch: 242 \tLoss: 0.431012\n",
      "Epoch: 243 \tLoss: 0.427135\n",
      "Epoch: 244 \tLoss: 0.430494\n",
      "Epoch: 245 \tLoss: 0.425160\n",
      "Epoch: 246 \tLoss: 0.422913\n",
      "Epoch: 247 \tLoss: 0.419173\n",
      "Epoch: 248 \tLoss: 0.421961\n",
      "Epoch: 249 \tLoss: 0.417499\n",
      "Epoch: 250 \tLoss: 0.419210\n",
      "Epoch: 251 \tLoss: 0.413908\n",
      "Epoch: 252 \tLoss: 0.419051\n",
      "Epoch: 253 \tLoss: 0.411923\n",
      "Epoch: 254 \tLoss: 0.408515\n",
      "Epoch: 255 \tLoss: 0.408849\n",
      "Epoch: 256 \tLoss: 0.411556\n",
      "Epoch: 257 \tLoss: 0.406404\n",
      "Epoch: 258 \tLoss: 0.405405\n",
      "Epoch: 259 \tLoss: 0.402123\n",
      "Epoch: 260 \tLoss: 0.403836\n",
      "Epoch: 261 \tLoss: 0.403004\n",
      "Epoch: 262 \tLoss: 0.400324\n",
      "Epoch: 263 \tLoss: 0.394987\n",
      "Epoch: 264 \tLoss: 0.396205\n",
      "Epoch: 265 \tLoss: 0.393933\n",
      "Epoch: 266 \tLoss: 0.391479\n",
      "Epoch: 267 \tLoss: 0.391588\n",
      "Epoch: 268 \tLoss: 0.383122\n",
      "Epoch: 269 \tLoss: 0.383673\n",
      "Epoch: 270 \tLoss: 0.388249\n",
      "Epoch: 271 \tLoss: 0.383294\n",
      "Epoch: 272 \tLoss: 0.382465\n",
      "Epoch: 273 \tLoss: 0.379342\n",
      "Epoch: 274 \tLoss: 0.374312\n",
      "Epoch: 275 \tLoss: 0.377579\n",
      "Epoch: 276 \tLoss: 0.373618\n",
      "Epoch: 277 \tLoss: 0.374389\n",
      "Epoch: 278 \tLoss: 0.369676\n",
      "Epoch: 279 \tLoss: 0.374250\n",
      "Epoch: 280 \tLoss: 0.366910\n",
      "Epoch: 281 \tLoss: 0.362578\n",
      "Epoch: 282 \tLoss: 0.368427\n",
      "Epoch: 283 \tLoss: 0.364797\n",
      "Epoch: 284 \tLoss: 0.364062\n",
      "Epoch: 285 \tLoss: 0.363315\n",
      "Epoch: 286 \tLoss: 0.356243\n",
      "Epoch: 287 \tLoss: 0.354183\n",
      "Epoch: 288 \tLoss: 0.355834\n",
      "Epoch: 289 \tLoss: 0.354955\n",
      "Epoch: 290 \tLoss: 0.358267\n",
      "Epoch: 291 \tLoss: 0.349540\n",
      "Epoch: 292 \tLoss: 0.349751\n",
      "Epoch: 293 \tLoss: 0.349081\n",
      "Epoch: 294 \tLoss: 0.347871\n",
      "Epoch: 295 \tLoss: 0.346520\n",
      "Epoch: 296 \tLoss: 0.341374\n",
      "Epoch: 297 \tLoss: 0.340036\n",
      "Epoch: 298 \tLoss: 0.341689\n",
      "Epoch: 299 \tLoss: 0.337845\n",
      "Epoch: 300 \tLoss: 0.339940\n"
     ]
    }
   ],
   "source": [
    "e = 0\n",
    "max_epochs = 300\n",
    "is_converged = False\n",
    "previous_loss = 0\n",
    "losses = []\n",
    "\n",
    "# For each epoch\n",
    "while e < max_epochs and is_converged is not True:\n",
    "    \n",
    "    current_epoch_loss = 0\n",
    "    \n",
    "    # TODO: Get the batch for this epoch.\n",
    "    X_batch, y_batch = data_loader.get_batch()\n",
    "    \n",
    "    # For each batch\n",
    "    for X, y in zip(X_batch, y_batch):\n",
    "        X = torch.Tensor(X)\n",
    "        y = torch.Tensor(y).to(torch.long)\n",
    "        \n",
    "        # TODO: Empty the gradients of the network.\n",
    "        optimizer.zero_grad()\n",
    "        \n",
    "        # TODO: Forward propagation\n",
    "        scores, probabilities = network.forward(X)\n",
    "        \n",
    "        # TODO: Compute the loss\n",
    "        loss = criterion(scores, y)\n",
    "        \n",
    "        # TODO: Backward propagation\n",
    "        loss.backward()\n",
    "        \n",
    "        # TODO: Update parameters\n",
    "        optimizer.step()\n",
    "        \n",
    "        current_epoch_loss += loss.item()\n",
    "    \n",
    "    average_loss = current_epoch_loss / len(X_batch)\n",
    "    losses.append(average_loss)\n",
    "    \n",
    "    # Display the average loss per epoch\n",
    "    print('Epoch:', e + 1, '\\tLoss: {:.6f}'.format(average_loss))\n",
    "    \n",
    "    if abs(previous_loss - loss) < 0.00000005:\n",
    "        is_converged = True\n",
    "    else:\n",
    "        previous_loss = loss\n",
    "        e += 1"
   ]
  },
  {
   "cell_type": "markdown",
   "metadata": {},
   "source": [
    "## Try our trained network on the test data\n",
    "\n",
    "Set the network in test `eval` mode first, to avoid updating the weights."
   ]
  },
  {
   "cell_type": "code",
   "execution_count": 69,
   "metadata": {},
   "outputs": [
    {
     "data": {
      "text/plain": [
       "NeuralNetwork(\n",
       "  (layers): Sequential(\n",
       "    (0): Linear(in_features=4, out_features=5, bias=True)\n",
       "    (1): Sigmoid()\n",
       "    (2): Linear(in_features=5, out_features=10, bias=True)\n",
       "    (3): Sigmoid()\n",
       "    (4): Linear(in_features=10, out_features=3, bias=True)\n",
       "    (5): Softmax(dim=1)\n",
       "  )\n",
       ")"
      ]
     },
     "execution_count": 69,
     "metadata": {},
     "output_type": "execute_result"
    }
   ],
   "source": [
    "network.eval()"
   ]
  },
  {
   "cell_type": "markdown",
   "metadata": {},
   "source": [
    "Perform forward propagation on the test data. Assign the return values to variables `scores` and `probabilities`."
   ]
  },
  {
   "cell_type": "code",
   "execution_count": 70,
   "metadata": {},
   "outputs": [
    {
     "name": "stdout",
     "output_type": "stream",
     "text": [
      "Output of layer 0\n",
      "tensor([[ 4.1032e+00, -3.5828e+00,  4.3610e+00,  3.4954e+00, -3.4293e+00],\n",
      "        [ 4.0414e+00, -3.5710e+00,  4.2978e+00,  3.4346e+00, -3.3829e+00],\n",
      "        [ 4.1023e+00, -3.5966e+00,  4.3636e+00,  3.5223e+00, -3.4355e+00],\n",
      "        [ 3.5591e+00, -3.1016e+00,  3.7860e+00,  3.0427e+00, -2.9661e+00],\n",
      "        [ 3.8435e+00, -3.3681e+00,  4.0860e+00,  3.2850e+00, -3.2165e+00],\n",
      "        [ 3.5345e+00, -3.0498e+00,  3.7610e+00,  3.0107e+00, -2.9284e+00],\n",
      "        [ 4.3171e+00, -3.7815e+00,  4.5845e+00,  3.6928e+00, -3.6276e+00],\n",
      "        [ 3.5669e+00, -3.0650e+00,  3.7949e+00,  3.0385e+00, -2.9525e+00],\n",
      "        [ 4.2437e+00, -3.6950e+00,  4.5035e+00,  3.6532e+00, -3.5734e+00],\n",
      "        [ 3.8548e+00, -3.3274e+00,  4.1152e+00,  3.2678e+00, -3.1603e+00],\n",
      "        [ 2.8455e-01,  4.6300e-01,  4.0806e-01,  5.3689e-02,  3.3124e-01],\n",
      "        [-4.0920e-01,  1.2369e+00, -2.9282e-01, -5.1777e-01,  1.0468e+00],\n",
      "        [ 3.8289e-01,  2.5570e-01,  5.0775e-01,  1.8148e-01,  1.8043e-01],\n",
      "        [-4.4353e-01,  1.2845e+00, -3.3371e-01, -5.6713e-01,  1.0791e+00],\n",
      "        [-7.8542e-02,  8.8537e-01,  5.2578e-02, -2.0624e-01,  7.2285e-01],\n",
      "        [-7.9753e-01,  1.6883e+00, -6.8910e-01, -8.0193e-01,  1.4315e+00],\n",
      "        [-2.7573e-04,  8.5406e-01,  1.3803e-01, -1.6550e-01,  6.8414e-01],\n",
      "        [ 5.7789e-02,  6.8527e-01,  1.8270e-01, -1.3666e-01,  5.6448e-01],\n",
      "        [-8.7109e-03,  7.9466e-01,  1.1324e-01, -1.5359e-01,  6.2598e-01],\n",
      "        [-2.5208e-01,  9.8992e-01, -1.3960e-01, -3.8405e-01,  8.4648e-01],\n",
      "        [-1.6564e+00,  2.6261e+00, -1.5574e+00, -1.5631e+00,  2.3288e+00],\n",
      "        [-2.1754e+00,  3.1381e+00, -2.1039e+00, -2.0670e+00,  2.8195e+00],\n",
      "        [-1.6708e+00,  2.5576e+00, -1.5963e+00, -1.6008e+00,  2.2695e+00],\n",
      "        [-1.0491e+00,  1.9159e+00, -9.4465e-01, -1.0844e+00,  1.6974e+00],\n",
      "        [-2.3810e+00,  3.4560e+00, -2.3149e+00, -2.3517e+00,  3.0964e+00],\n",
      "        [-1.5412e+00,  2.4409e+00, -1.4847e+00, -1.5691e+00,  2.1293e+00],\n",
      "        [-1.2103e+00,  2.1811e+00, -1.1172e+00, -1.3215e+00,  1.9090e+00],\n",
      "        [-1.4954e+00,  2.3186e+00, -1.4261e+00, -1.5409e+00,  2.0893e+00],\n",
      "        [-1.5810e+00,  2.4516e+00, -1.4931e+00, -1.5812e+00,  2.2231e+00],\n",
      "        [-1.3560e+00,  2.3081e+00, -1.2695e+00, -1.3523e+00,  2.0030e+00]],\n",
      "       grad_fn=<AddmmBackward0>) \n",
      "\n",
      "Output of layer 1\n",
      "tensor([[0.9837, 0.0270, 0.9874, 0.9706, 0.0314],\n",
      "        [0.9827, 0.0274, 0.9866, 0.9688, 0.0328],\n",
      "        [0.9837, 0.0267, 0.9874, 0.9713, 0.0312],\n",
      "        [0.9723, 0.0430, 0.9778, 0.9545, 0.0490],\n",
      "        [0.9790, 0.0333, 0.9835, 0.9639, 0.0385],\n",
      "        [0.9717, 0.0452, 0.9773, 0.9531, 0.0508],\n",
      "        [0.9868, 0.0223, 0.9899, 0.9757, 0.0259],\n",
      "        [0.9725, 0.0446, 0.9780, 0.9543, 0.0496],\n",
      "        [0.9858, 0.0242, 0.9891, 0.9747, 0.0273],\n",
      "        [0.9793, 0.0346, 0.9839, 0.9633, 0.0407],\n",
      "        [0.5707, 0.6137, 0.6006, 0.5134, 0.5821],\n",
      "        [0.3991, 0.7750, 0.4273, 0.3734, 0.7402],\n",
      "        [0.5946, 0.5636, 0.6243, 0.5452, 0.5450],\n",
      "        [0.3909, 0.7832, 0.4173, 0.3619, 0.7463],\n",
      "        [0.4804, 0.7079, 0.5131, 0.4486, 0.6732],\n",
      "        [0.3106, 0.8440, 0.3342, 0.3096, 0.8071],\n",
      "        [0.4999, 0.7014, 0.5345, 0.4587, 0.6647],\n",
      "        [0.5144, 0.6649, 0.5455, 0.4659, 0.6375],\n",
      "        [0.4978, 0.6888, 0.5283, 0.4617, 0.6516],\n",
      "        [0.4373, 0.7291, 0.4652, 0.4051, 0.6998],\n",
      "        [0.1602, 0.9325, 0.1740, 0.1732, 0.9112],\n",
      "        [0.1020, 0.9584, 0.1087, 0.1123, 0.9437],\n",
      "        [0.1583, 0.9281, 0.1685, 0.1679, 0.9063],\n",
      "        [0.2594, 0.8717, 0.2800, 0.2527, 0.8452],\n",
      "        [0.0846, 0.9694, 0.0899, 0.0869, 0.9567],\n",
      "        [0.1764, 0.9199, 0.1847, 0.1723, 0.8937],\n",
      "        [0.2296, 0.8985, 0.2465, 0.2106, 0.8709],\n",
      "        [0.1831, 0.9104, 0.1937, 0.1764, 0.8899],\n",
      "        [0.1707, 0.9207, 0.1835, 0.1706, 0.9023],\n",
      "        [0.2049, 0.9095, 0.2193, 0.2055, 0.8811]], grad_fn=<SigmoidBackward0>) \n",
      "\n",
      "Output of layer 2\n",
      "tensor([[-2.5806e+00,  2.9658e+00, -1.9035e+00, -1.9416e+00,  3.6396e+00,\n",
      "         -1.9184e+00, -2.1740e+00,  2.9112e+00, -3.6238e+00,  3.3019e+00],\n",
      "        [-2.5755e+00,  2.9599e+00, -1.8986e+00, -1.9365e+00,  3.6333e+00,\n",
      "         -1.9132e+00, -2.1685e+00,  2.9056e+00, -3.6179e+00,  3.2960e+00],\n",
      "        [-2.5819e+00,  2.9671e+00, -1.9047e+00, -1.9429e+00,  3.6412e+00,\n",
      "         -1.9197e+00, -2.1753e+00,  2.9126e+00, -3.6250e+00,  3.3034e+00],\n",
      "        [-2.5125e+00,  2.8890e+00, -1.8352e+00, -1.8710e+00,  3.5590e+00,\n",
      "         -1.8472e+00, -2.0966e+00,  2.8376e+00, -3.5540e+00,  3.2277e+00],\n",
      "        [-2.5530e+00,  2.9346e+00, -1.8758e+00, -1.9130e+00,  3.6068e+00,\n",
      "         -1.8896e+00, -2.1427e+00,  2.8813e+00, -3.5953e+00,  3.2717e+00],\n",
      "        [-2.5062e+00,  2.8819e+00, -1.8286e+00, -1.8642e+00,  3.5516e+00,\n",
      "         -1.8404e+00, -2.0892e+00,  2.8308e+00, -3.5480e+00,  3.2210e+00],\n",
      "        [-2.6008e+00,  2.9885e+00, -1.9238e+00, -1.9627e+00,  3.6636e+00,\n",
      "         -1.9397e+00, -2.1970e+00,  2.9331e+00, -3.6442e+00,  3.3239e+00],\n",
      "        [-2.5107e+00,  2.8870e+00, -1.8330e+00, -1.8687e+00,  3.5570e+00,\n",
      "         -1.8450e+00, -2.0942e+00,  2.8357e+00, -3.5529e+00,  3.2260e+00],\n",
      "        [-2.5948e+00,  2.9817e+00, -1.9176e+00, -1.9565e+00,  3.6567e+00,\n",
      "         -1.9334e+00, -2.1900e+00,  2.9267e+00, -3.6384e+00,  3.3176e+00],\n",
      "        [-2.5499e+00,  2.9310e+00, -1.8723e+00, -1.9089e+00,  3.6032e+00,\n",
      "         -1.8857e+00, -2.1385e+00,  2.8778e+00, -3.5930e+00,  3.2687e+00],\n",
      "        [-2.6278e-01,  3.4998e-01,  4.3162e-01,  4.4100e-01,  9.2186e-01,\n",
      "          4.9785e-01,  4.7764e-01,  4.1537e-01, -1.2507e+00,  7.9034e-01],\n",
      "        [ 5.2183e-01, -5.3645e-01,  1.2092e+00,  1.2198e+00,  2.7464e-03,\n",
      "          1.2969e+00,  1.3603e+00, -4.2780e-01, -4.0937e-01, -7.0749e-02],\n",
      "        [-4.2360e-01,  5.3099e-01,  2.6746e-01,  2.7345e-01,  1.1096e+00,\n",
      "          3.2835e-01,  2.9153e-01,  5.8805e-01, -1.4097e+00,  9.6253e-01],\n",
      "        [ 5.6455e-01, -5.8426e-01,  1.2508e+00,  1.2609e+00, -4.8130e-02,\n",
      "          1.3396e+00,  1.4066e+00, -4.7383e-01, -3.6217e-01, -1.1867e-01],\n",
      "        [ 1.5476e-01, -1.2267e-01,  8.4929e-01,  8.6115e-01,  4.3547e-01,\n",
      "          9.2696e-01,  9.5384e-01, -3.2803e-02, -8.1143e-01,  3.3648e-01],\n",
      "        [ 8.9525e-01, -9.5836e-01,  1.5762e+00,  1.5833e+00, -4.3446e-01,\n",
      "          1.6724e+00,  1.7766e+00, -8.2856e-01,  9.4816e-05, -4.8321e-01],\n",
      "        [ 8.9372e-02, -4.8694e-02,  7.8685e-01,  8.0096e-01,  5.1218e-01,\n",
      "          8.6362e-01,  8.8313e-01,  3.7273e-02, -8.8827e-01,  4.1032e-01],\n",
      "        [-4.1436e-03,  5.7580e-02,  6.8791e-01,  6.9900e-01,  6.1829e-01,\n",
      "          7.6195e-01,  7.6876e-01,  1.3697e-01, -9.7364e-01,  5.0630e-01],\n",
      "        [ 7.0721e-02, -2.7334e-02,  7.6465e-01,  7.7474e-01,  5.3346e-01,\n",
      "          8.3945e-01,  8.5699e-01,  5.7655e-02, -8.9823e-01,  4.2732e-01],\n",
      "        [ 3.3284e-01, -3.2292e-01,  1.0197e+00,  1.0289e+00,  2.2313e-01,\n",
      "          1.1021e+00,  1.1447e+00, -2.2498e-01, -6.0638e-01,  1.3437e-01],\n",
      "        [ 1.5204e+00, -1.6627e+00,  2.1807e+00,  2.1817e+00, -1.1753e+00,\n",
      "          2.2934e+00,  2.4573e+00, -1.5021e+00,  7.0598e-01, -1.1854e+00],\n",
      "        [ 1.7578e+00, -1.9291e+00,  2.4065e+00,  2.4033e+00, -1.4591e+00,\n",
      "          2.5253e+00,  2.7095e+00, -1.7583e+00,  9.8196e-01, -1.4561e+00],\n",
      "        [ 1.5239e+00, -1.6662e+00,  2.1817e+00,  2.1808e+00, -1.1808e+00,\n",
      "          2.2941e+00,  2.4571e+00, -1.5061e+00,  7.1564e-01, -1.1920e+00],\n",
      "        [ 1.1174e+00, -1.2081e+00,  1.7897e+00,  1.7960e+00, -7.0002e-01,\n",
      "          1.8929e+00,  2.0159e+00, -1.0688e+00,  2.5265e-01, -7.3467e-01],\n",
      "        [ 1.8407e+00, -2.0218e+00,  2.4859e+00,  2.4826e+00, -1.5592e+00,\n",
      "          2.6075e+00,  2.7977e+00, -1.8481e+00,  1.0762e+00, -1.5506e+00],\n",
      "        [ 1.4650e+00, -1.5989e+00,  2.1237e+00,  2.1234e+00, -1.1127e+00,\n",
      "          2.2351e+00,  2.3903e+00, -1.4430e+00,  6.5003e-01, -1.1274e+00],\n",
      "        [ 1.2704e+00, -1.3796e+00,  1.9384e+00,  1.9447e+00, -8.8283e-01,\n",
      "          2.0466e+00,  2.1819e+00, -1.2341e+00,  4.2160e-01, -9.0648e-01],\n",
      "        [ 1.4324e+00, -1.5622e+00,  2.0910e+00,  2.0919e+00, -1.0753e+00,\n",
      "          2.2022e+00,  2.3533e+00, -1.4084e+00,  6.1560e-01, -1.0921e+00],\n",
      "        [ 1.4826e+00, -1.6192e+00,  2.1413e+00,  2.1428e+00, -1.1335e+00,\n",
      "          2.2539e+00,  2.4111e+00, -1.4622e+00,  6.6840e-01, -1.1464e+00],\n",
      "        [ 1.3484e+00, -1.4684e+00,  2.0141e+00,  2.0169e+00, -9.7249e-01,\n",
      "          2.1227e+00,  2.2687e+00, -1.3171e+00,  5.1143e-01, -9.9287e-01]],\n",
      "       grad_fn=<AddmmBackward0>) \n",
      "\n",
      "Output of layer 3\n",
      "tensor([[0.0704, 0.9510, 0.1297, 0.1255, 0.9744, 0.1280, 0.1021, 0.9484, 0.0260,\n",
      "         0.9645],\n",
      "        [0.0707, 0.9507, 0.1303, 0.1260, 0.9743, 0.1286, 0.1026, 0.9481, 0.0261,\n",
      "         0.9643],\n",
      "        [0.0703, 0.9511, 0.1296, 0.1253, 0.9744, 0.1279, 0.1020, 0.9485, 0.0260,\n",
      "         0.9645],\n",
      "        [0.0750, 0.9473, 0.1376, 0.1334, 0.9723, 0.1362, 0.1094, 0.9447, 0.0278,\n",
      "         0.9619],\n",
      "        [0.0722, 0.9495, 0.1329, 0.1286, 0.9736, 0.1313, 0.1050, 0.9469, 0.0267,\n",
      "         0.9634],\n",
      "        [0.0754, 0.9469, 0.1384, 0.1342, 0.9721, 0.1370, 0.1102, 0.9443, 0.0280,\n",
      "         0.9616],\n",
      "        [0.0691, 0.9521, 0.1274, 0.1232, 0.9750, 0.1257, 0.1000, 0.9495, 0.0255,\n",
      "         0.9652],\n",
      "        [0.0751, 0.9472, 0.1379, 0.1337, 0.9723, 0.1365, 0.1097, 0.9446, 0.0278,\n",
      "         0.9618],\n",
      "        [0.0695, 0.9517, 0.1281, 0.1238, 0.9748, 0.1264, 0.1007, 0.9492, 0.0256,\n",
      "         0.9650],\n",
      "        [0.0724, 0.9494, 0.1333, 0.1291, 0.9735, 0.1317, 0.1054, 0.9467, 0.0268,\n",
      "         0.9633],\n",
      "        [0.4347, 0.5866, 0.6063, 0.6085, 0.7154, 0.6220, 0.6172, 0.6024, 0.2226,\n",
      "         0.6879],\n",
      "        [0.6276, 0.3690, 0.7702, 0.7720, 0.5007, 0.7853, 0.7958, 0.3947, 0.3991,\n",
      "         0.4823],\n",
      "        [0.3957, 0.6297, 0.5665, 0.5679, 0.7520, 0.5814, 0.5724, 0.6429, 0.1963,\n",
      "         0.7236],\n",
      "        [0.6375, 0.3580, 0.7774, 0.7792, 0.4880, 0.7924, 0.8032, 0.3837, 0.4104,\n",
      "         0.4704],\n",
      "        [0.5386, 0.4694, 0.7004, 0.7029, 0.6072, 0.7165, 0.7219, 0.4918, 0.3076,\n",
      "         0.5833],\n",
      "        [0.7100, 0.2772, 0.8287, 0.8297, 0.3931, 0.8419, 0.8553, 0.3040, 0.5000,\n",
      "         0.3815],\n",
      "        [0.5223, 0.4878, 0.6872, 0.6902, 0.6253, 0.7034, 0.7075, 0.5093, 0.2915,\n",
      "         0.6012],\n",
      "        [0.4990, 0.5144, 0.6655, 0.6680, 0.6498, 0.6818, 0.6833, 0.5342, 0.2742,\n",
      "         0.6239],\n",
      "        [0.5177, 0.4932, 0.6824, 0.6845, 0.6303, 0.6983, 0.7020, 0.5144, 0.2894,\n",
      "         0.6052],\n",
      "        [0.5825, 0.4200, 0.7349, 0.7367, 0.5556, 0.7507, 0.7585, 0.4440, 0.3529,\n",
      "         0.5335],\n",
      "        [0.8206, 0.1594, 0.8985, 0.8986, 0.2359, 0.9083, 0.9211, 0.1821, 0.6695,\n",
      "         0.2341],\n",
      "        [0.8529, 0.1269, 0.9173, 0.9171, 0.1886, 0.9259, 0.9376, 0.1470, 0.7275,\n",
      "         0.1891],\n",
      "        [0.8211, 0.1589, 0.8986, 0.8985, 0.2349, 0.9084, 0.9211, 0.1815, 0.6716,\n",
      "         0.2329],\n",
      "        [0.7535, 0.2300, 0.8569, 0.8577, 0.3318, 0.8691, 0.8825, 0.2556, 0.5628,\n",
      "         0.3242],\n",
      "        [0.8630, 0.1169, 0.9231, 0.9229, 0.1738, 0.9313, 0.9426, 0.1361, 0.7458,\n",
      "         0.1750],\n",
      "        [0.8123, 0.1681, 0.8932, 0.8932, 0.2474, 0.9034, 0.9161, 0.1911, 0.6570,\n",
      "         0.2446],\n",
      "        [0.7808, 0.2011, 0.8742, 0.8749, 0.2926, 0.8856, 0.8986, 0.2255, 0.6039,\n",
      "         0.2877],\n",
      "        [0.8073, 0.1733, 0.8900, 0.8901, 0.2544, 0.9004, 0.9132, 0.1965, 0.6492,\n",
      "         0.2512],\n",
      "        [0.8150, 0.1653, 0.8949, 0.8950, 0.2435, 0.9050, 0.9177, 0.1881, 0.6611,\n",
      "         0.2412],\n",
      "        [0.7939, 0.1872, 0.8823, 0.8826, 0.2744, 0.8931, 0.9063, 0.2113, 0.6251,\n",
      "         0.2703]], grad_fn=<SigmoidBackward0>) \n",
      "\n",
      "Output of layer 4\n",
      "tensor([[ 2.4587,  0.2793, -2.8988],\n",
      "        [ 2.4559,  0.2799, -2.8968],\n",
      "        [ 2.4594,  0.2792, -2.8993],\n",
      "        [ 2.4198,  0.2878, -2.8712],\n",
      "        [ 2.4432,  0.2827, -2.8878],\n",
      "        [ 2.4160,  0.2886, -2.8685],\n",
      "        [ 2.4698,  0.2769, -2.9067],\n",
      "        [ 2.4186,  0.2880, -2.8704],\n",
      "        [ 2.4666,  0.2776, -2.9044],\n",
      "        [ 2.4412,  0.2832, -2.8865],\n",
      "        [-0.4459,  0.7986, -0.6595],\n",
      "        [-1.8585,  0.9531,  0.5696],\n",
      "        [-0.1518,  0.7565, -0.9025],\n",
      "        [-1.9304,  0.9588,  0.6347],\n",
      "        [-1.2124,  0.8922, -0.0048],\n",
      "        [-2.4543,  0.9969,  1.1134],\n",
      "        [-1.0946,  0.8803, -0.1084],\n",
      "        [-0.9214,  0.8581, -0.2554],\n",
      "        [-1.0584,  0.8747, -0.1380],\n",
      "        [-1.5305,  0.9223,  0.2776],\n",
      "        [-3.2538,  1.0350,  1.8641],\n",
      "        [-3.4863,  1.0417,  2.0863],\n",
      "        [-3.2578,  1.0345,  1.8685],\n",
      "        [-2.7700,  1.0140,  1.4079],\n",
      "        [-3.5587,  1.0437,  2.1556],\n",
      "        [-3.1944,  1.0319,  1.8086],\n",
      "        [-2.9674,  1.0236,  1.5933],\n",
      "        [-3.1587,  1.0302,  1.7750],\n",
      "        [-3.2139,  1.0328,  1.8268],\n",
      "        [-3.0612,  1.0275,  1.6817]], grad_fn=<AddmmBackward0>) \n",
      "\n",
      "Output of layer 5\n",
      "tensor([[0.8946, 0.1012, 0.0042],\n",
      "        [0.8943, 0.1015, 0.0042],\n",
      "        [0.8947, 0.1011, 0.0042],\n",
      "        [0.8900, 0.1056, 0.0045],\n",
      "        [0.8928, 0.1029, 0.0043],\n",
      "        [0.8895, 0.1060, 0.0045],\n",
      "        [0.8959, 0.1000, 0.0041],\n",
      "        [0.8898, 0.1057, 0.0045],\n",
      "        [0.8955, 0.1003, 0.0042],\n",
      "        [0.8925, 0.1031, 0.0043],\n",
      "        [0.1894, 0.6576, 0.1530],\n",
      "        [0.0345, 0.5742, 0.3913],\n",
      "        [0.2530, 0.6275, 0.1194],\n",
      "        [0.0313, 0.5622, 0.4065],\n",
      "        [0.0797, 0.6537, 0.2666],\n",
      "        [0.0147, 0.4640, 0.5213],\n",
      "        [0.0919, 0.6619, 0.2463],\n",
      "        [0.1127, 0.6679, 0.2194],\n",
      "        [0.0960, 0.6632, 0.2409],\n",
      "        [0.0534, 0.6208, 0.3258],\n",
      "        [0.0042, 0.3026, 0.6933],\n",
      "        [0.0028, 0.2595, 0.7377],\n",
      "        [0.0041, 0.3016, 0.6943],\n",
      "        [0.0091, 0.3991, 0.5918],\n",
      "        [0.0025, 0.2469, 0.7506],\n",
      "        [0.0046, 0.3136, 0.6818],\n",
      "        [0.0066, 0.3589, 0.6345],\n",
      "        [0.0049, 0.3204, 0.6747],\n",
      "        [0.0044, 0.3099, 0.6856],\n",
      "        [0.0057, 0.3401, 0.6542]], grad_fn=<SoftmaxBackward0>) \n",
      "\n"
     ]
    }
   ],
   "source": [
    "# Write your code here\n",
    "scores, probabilities = network.forward(X_test, verbose=True)"
   ]
  },
  {
   "cell_type": "markdown",
   "metadata": {},
   "source": [
    "Now, let's get the prediction results on the test data to see if our model can handle unseen instances. Store the predicted labels in the variable `predictions`."
   ]
  },
  {
   "cell_type": "code",
   "execution_count": 71,
   "metadata": {},
   "outputs": [],
   "source": [
    "# Write your code here\n",
    "predictions = network.predict(probabilities)"
   ]
  },
  {
   "cell_type": "code",
   "execution_count": 72,
   "metadata": {},
   "outputs": [
    {
     "name": "stdout",
     "output_type": "stream",
     "text": [
      "tensor([0, 0, 0, 0, 0, 0, 0, 0, 0, 0, 1, 1, 1, 1, 1, 2, 1, 1, 1, 1, 2, 2, 2, 2,\n",
      "        2, 2, 2, 2, 2, 2])\n"
     ]
    }
   ],
   "source": [
    "print(predictions)"
   ]
  },
  {
   "cell_type": "markdown",
   "metadata": {},
   "source": [
    "Compare the ground truth labels with the predicted labels. Store the total number of correct predictions in the variable `num_correct`."
   ]
  },
  {
   "cell_type": "code",
   "execution_count": 73,
   "metadata": {},
   "outputs": [],
   "source": [
    "# Write your code here\n",
    "num_correct = (predictions == y_test).sum().item()"
   ]
  },
  {
   "cell_type": "code",
   "execution_count": 74,
   "metadata": {},
   "outputs": [
    {
     "name": "stdout",
     "output_type": "stream",
     "text": [
      "29\n"
     ]
    }
   ],
   "source": [
    "print(num_correct)"
   ]
  },
  {
   "cell_type": "markdown",
   "metadata": {},
   "source": [
    "Compute for the accuracy. Store the accuracy in the variable `accuracy`."
   ]
  },
  {
   "cell_type": "code",
   "execution_count": 75,
   "metadata": {},
   "outputs": [],
   "source": [
    "# Write your code here\n",
    "accuracy = num_correct / len(y_test)"
   ]
  },
  {
   "cell_type": "code",
   "execution_count": 76,
   "metadata": {},
   "outputs": [
    {
     "name": "stdout",
     "output_type": "stream",
     "text": [
      "0.9667\n"
     ]
    }
   ],
   "source": [
    "print('{:.4f}'.format(accuracy))"
   ]
  },
  {
   "cell_type": "markdown",
   "metadata": {},
   "source": [
    "**Question #17:** What is the accuracy of the network when evaluated on the test set? Express your answer in a floating point number from 0 to 1. Limit to 4 decimal places."
   ]
  },
  {
   "cell_type": "markdown",
   "metadata": {},
   "source": [
    "<!--crumb;qna;Q17-->"
   ]
  },
  {
   "cell_type": "markdown",
   "metadata": {},
   "source": [
    "A: 0.9667"
   ]
  },
  {
   "cell_type": "markdown",
   "metadata": {},
   "source": [
    "### <center>fin</center>"
   ]
  }
 ],
 "metadata": {
  "kernelspec": {
   "display_name": "Python 3 (ipykernel)",
   "language": "python",
   "name": "python3"
  },
  "language_info": {
   "codemirror_mode": {
    "name": "ipython",
    "version": 3
   },
   "file_extension": ".py",
   "mimetype": "text/x-python",
   "name": "python",
   "nbconvert_exporter": "python",
   "pygments_lexer": "ipython3",
   "version": "3.10.6"
  }
 },
 "nbformat": 4,
 "nbformat_minor": 4
}
